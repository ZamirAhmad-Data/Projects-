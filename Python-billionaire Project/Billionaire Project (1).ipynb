{
 "cells": [
  {
   "cell_type": "markdown",
   "id": "56d41847",
   "metadata": {},
   "source": [
    "The project aimed to explore the billionaire class, with a focus on the industries in which they amassed their fortunes, the countries with the highest number of billionaires, and other intriguing facts.\n",
    "\n",
    "I divided my analysis into several parts. The first part examined the general billionaire class. In the second part, I categorized billionaires by gender to identify any differences between male and female billionaires. The third part provided a closer examination of billionaires in the United States, while the fourth part focused on Chinese billionaires. In the final part, I compared various metrics between Chinese and US billionaires, resulting in some fascinating findings."
   ]
  },
  {
   "cell_type": "code",
   "execution_count": 4,
   "id": "26fe5468",
   "metadata": {},
   "outputs": [],
   "source": [
    "import numpy as np \n",
    "import pandas as pd \n",
    "import seaborn as sns\n",
    "import matplotlib.pyplot as plt"
   ]
  },
  {
   "cell_type": "code",
   "execution_count": 40,
   "id": "7ae710cf",
   "metadata": {},
   "outputs": [],
   "source": [
    "df = pd.read_csv('forbes_billionaires_2022.csv')"
   ]
  },
  {
   "cell_type": "code",
   "execution_count": 41,
   "id": "92483a2c",
   "metadata": {},
   "outputs": [
    {
     "name": "stdout",
     "output_type": "stream",
     "text": [
      "<class 'pandas.core.frame.DataFrame'>\n",
      "RangeIndex: 2668 entries, 0 to 2667\n",
      "Data columns (total 17 columns):\n",
      " #   Column             Non-Null Count  Dtype  \n",
      "---  ------             --------------  -----  \n",
      " 0   rank               2668 non-null   int64  \n",
      " 1   personName         2668 non-null   object \n",
      " 2   age                2582 non-null   float64\n",
      " 3   finalWorth         2668 non-null   int64  \n",
      " 4   category           2668 non-null   object \n",
      " 5   source             2668 non-null   object \n",
      " 6   country            2655 non-null   object \n",
      " 7   state              748 non-null    object \n",
      " 8   city               2624 non-null   object \n",
      " 9   organization       352 non-null    object \n",
      " 10  selfMade           2668 non-null   bool   \n",
      " 11  gender             2652 non-null   object \n",
      " 12  birthDate          2569 non-null   object \n",
      " 13  title              401 non-null    object \n",
      " 14  philanthropyScore  396 non-null    float64\n",
      " 15  bio                2668 non-null   object \n",
      " 16  about              1562 non-null   object \n",
      "dtypes: bool(1), float64(2), int64(2), object(12)\n",
      "memory usage: 336.2+ KB\n"
     ]
    }
   ],
   "source": [
    "df.info()"
   ]
  },
  {
   "cell_type": "code",
   "execution_count": 43,
   "id": "6b3646e5",
   "metadata": {},
   "outputs": [
    {
     "data": {
      "text/plain": [
       "rank                    0\n",
       "personName              0\n",
       "age                    86\n",
       "finalWorth              0\n",
       "category                0\n",
       "source                  0\n",
       "country                13\n",
       "state                1920\n",
       "city                   44\n",
       "organization         2316\n",
       "selfMade                0\n",
       "gender                 16\n",
       "birthDate              99\n",
       "title                2267\n",
       "philanthropyScore    2272\n",
       "bio                     0\n",
       "about                1106\n",
       "dtype: int64"
      ]
     },
     "execution_count": 43,
     "metadata": {},
     "output_type": "execute_result"
    }
   ],
   "source": [
    "df.isna().sum()"
   ]
  },
  {
   "cell_type": "markdown",
   "id": "14d09eeb",
   "metadata": {},
   "source": [
    "The 'forbes_billionaire_2022.csv' dataset contained 16 columns and 2668 rows, but four columns had over 1920 missing values. As filling these values was not feasible, the title, philanthropyScore, and about columns were dropped. The state column, which also had 1920 missing values, was retained for analysis of US billionaires to determine which states had the most billionaires. For the age column, missing values were filled with 'NA', and the same approach was applied to missing rows in the country, gender, city, and birthdate columns.\n",
    "\n",
    "The dataset did not have any duplicates, but a minor issue was found in the source column. Hedge funds were written in two forms, hedge fund and hedge funds, which meant the program counted them as separate sources and could distort the analysis. To avoid this, hedge fund was changed to hedge funds."
   ]
  },
  {
   "cell_type": "code",
   "execution_count": 8,
   "id": "f0b3879a",
   "metadata": {},
   "outputs": [
    {
     "data": {
      "text/plain": [
       "0"
      ]
     },
     "execution_count": 8,
     "metadata": {},
     "output_type": "execute_result"
    }
   ],
   "source": [
    "df.duplicated().sum()"
   ]
  },
  {
   "cell_type": "code",
   "execution_count": 9,
   "id": "3bb8d356",
   "metadata": {},
   "outputs": [],
   "source": [
    "df['country']=df['country'].fillna('NA') "
   ]
  },
  {
   "cell_type": "code",
   "execution_count": 10,
   "id": "b9900f85",
   "metadata": {},
   "outputs": [],
   "source": [
    "df['state']=df['state'].fillna('NA')"
   ]
  },
  {
   "cell_type": "code",
   "execution_count": 11,
   "id": "a7e77f5b",
   "metadata": {},
   "outputs": [],
   "source": [
    "df=df.drop(['organization','title','about'],axis=1)"
   ]
  },
  {
   "cell_type": "code",
   "execution_count": 12,
   "id": "3fe31251",
   "metadata": {},
   "outputs": [],
   "source": [
    "df['city']= df['city'].fillna('NA') "
   ]
  },
  {
   "cell_type": "code",
   "execution_count": 13,
   "id": "6b34da70",
   "metadata": {},
   "outputs": [],
   "source": [
    "df['gender']= df['gender'].fillna('NA')"
   ]
  },
  {
   "cell_type": "code",
   "execution_count": 14,
   "id": "560364c2",
   "metadata": {},
   "outputs": [],
   "source": [
    "df['birthDate']= df['birthDate'].fillna('NA')"
   ]
  },
  {
   "cell_type": "code",
   "execution_count": 15,
   "id": "f6e47c41",
   "metadata": {},
   "outputs": [],
   "source": [
    "df['source'] = df['source'].replace('hedge fund','hedge funds')"
   ]
  },
  {
   "cell_type": "code",
   "execution_count": 16,
   "id": "7d0641b8",
   "metadata": {},
   "outputs": [
    {
     "name": "stdout",
     "output_type": "stream",
     "text": [
      "<class 'pandas.core.frame.DataFrame'>\n",
      "RangeIndex: 2668 entries, 0 to 2667\n",
      "Data columns (total 14 columns):\n",
      " #   Column             Non-Null Count  Dtype  \n",
      "---  ------             --------------  -----  \n",
      " 0   rank               2668 non-null   int64  \n",
      " 1   personName         2668 non-null   object \n",
      " 2   age                2582 non-null   float64\n",
      " 3   finalWorth         2668 non-null   int64  \n",
      " 4   category           2668 non-null   object \n",
      " 5   source             2668 non-null   object \n",
      " 6   country            2668 non-null   object \n",
      " 7   state              2668 non-null   object \n",
      " 8   city               2668 non-null   object \n",
      " 9   selfMade           2668 non-null   bool   \n",
      " 10  gender             2668 non-null   object \n",
      " 11  birthDate          2668 non-null   object \n",
      " 12  philanthropyScore  396 non-null    float64\n",
      " 13  bio                2668 non-null   object \n",
      "dtypes: bool(1), float64(2), int64(2), object(9)\n",
      "memory usage: 273.7+ KB\n"
     ]
    }
   ],
   "source": [
    "df.info()"
   ]
  },
  {
   "cell_type": "markdown",
   "id": "5fdbc86e",
   "metadata": {},
   "source": [
    "# General Anaylsis"
   ]
  },
  {
   "cell_type": "code",
   "execution_count": 17,
   "id": "0b05dc52",
   "metadata": {},
   "outputs": [],
   "source": [
    "country=df.groupby('country')['personName'].count().reset_index()"
   ]
  },
  {
   "cell_type": "code",
   "execution_count": 18,
   "id": "db518ba7",
   "metadata": {},
   "outputs": [],
   "source": [
    "country=country.rename(columns={'personName':'Num'})"
   ]
  },
  {
   "cell_type": "code",
   "execution_count": 19,
   "id": "136a8a27",
   "metadata": {},
   "outputs": [
    {
     "data": {
      "text/html": [
       "<div>\n",
       "<style scoped>\n",
       "    .dataframe tbody tr th:only-of-type {\n",
       "        vertical-align: middle;\n",
       "    }\n",
       "\n",
       "    .dataframe tbody tr th {\n",
       "        vertical-align: top;\n",
       "    }\n",
       "\n",
       "    .dataframe thead th {\n",
       "        text-align: right;\n",
       "    }\n",
       "</style>\n",
       "<table border=\"1\" class=\"dataframe\">\n",
       "  <thead>\n",
       "    <tr style=\"text-align: right;\">\n",
       "      <th></th>\n",
       "      <th>country</th>\n",
       "      <th>Num</th>\n",
       "    </tr>\n",
       "  </thead>\n",
       "  <tbody>\n",
       "    <tr>\n",
       "      <th>71</th>\n",
       "      <td>United States</td>\n",
       "      <td>748</td>\n",
       "    </tr>\n",
       "    <tr>\n",
       "      <th>15</th>\n",
       "      <td>China</td>\n",
       "      <td>571</td>\n",
       "    </tr>\n",
       "    <tr>\n",
       "      <th>29</th>\n",
       "      <td>India</td>\n",
       "      <td>159</td>\n",
       "    </tr>\n",
       "    <tr>\n",
       "      <th>24</th>\n",
       "      <td>Germany</td>\n",
       "      <td>112</td>\n",
       "    </tr>\n",
       "    <tr>\n",
       "      <th>70</th>\n",
       "      <td>United Kingdom</td>\n",
       "      <td>85</td>\n",
       "    </tr>\n",
       "    <tr>\n",
       "      <th>62</th>\n",
       "      <td>Switzerland</td>\n",
       "      <td>73</td>\n",
       "    </tr>\n",
       "    <tr>\n",
       "      <th>27</th>\n",
       "      <td>Hong Kong</td>\n",
       "      <td>68</td>\n",
       "    </tr>\n",
       "    <tr>\n",
       "      <th>55</th>\n",
       "      <td>Russia</td>\n",
       "      <td>65</td>\n",
       "    </tr>\n",
       "    <tr>\n",
       "      <th>9</th>\n",
       "      <td>Brazil</td>\n",
       "      <td>54</td>\n",
       "    </tr>\n",
       "    <tr>\n",
       "      <th>33</th>\n",
       "      <td>Italy</td>\n",
       "      <td>49</td>\n",
       "    </tr>\n",
       "    <tr>\n",
       "      <th>12</th>\n",
       "      <td>Canada</td>\n",
       "      <td>45</td>\n",
       "    </tr>\n",
       "    <tr>\n",
       "      <th>59</th>\n",
       "      <td>South Korea</td>\n",
       "      <td>43</td>\n",
       "    </tr>\n",
       "    <tr>\n",
       "      <th>63</th>\n",
       "      <td>Taiwan</td>\n",
       "      <td>42</td>\n",
       "    </tr>\n",
       "    <tr>\n",
       "      <th>3</th>\n",
       "      <td>Australia</td>\n",
       "      <td>41</td>\n",
       "    </tr>\n",
       "    <tr>\n",
       "      <th>34</th>\n",
       "      <td>Japan</td>\n",
       "      <td>38</td>\n",
       "    </tr>\n",
       "  </tbody>\n",
       "</table>\n",
       "</div>"
      ],
      "text/plain": [
       "           country  Num\n",
       "71   United States  748\n",
       "15           China  571\n",
       "29           India  159\n",
       "24         Germany  112\n",
       "70  United Kingdom   85\n",
       "62     Switzerland   73\n",
       "27       Hong Kong   68\n",
       "55          Russia   65\n",
       "9           Brazil   54\n",
       "33           Italy   49\n",
       "12          Canada   45\n",
       "59     South Korea   43\n",
       "63          Taiwan   42\n",
       "3        Australia   41\n",
       "34           Japan   38"
      ]
     },
     "execution_count": 19,
     "metadata": {},
     "output_type": "execute_result"
    }
   ],
   "source": [
    "top_countries=country.sort_values(by='Num',ascending=False).head(15)\n",
    "top_countries"
   ]
  },
  {
   "cell_type": "code",
   "execution_count": 20,
   "id": "13f6dc2a",
   "metadata": {},
   "outputs": [
    {
     "data": {
      "image/png": "[encoded data removed]",
      "text/plain": [
       "<Figure size 1500x1000 with 1 Axes>"
      ]
     },
     "metadata": {},
     "output_type": "display_data"
    }
   ],
   "source": [
    "plt.figure(figsize=(15,10))\n",
    "sns.barplot(x='country',data=top_countries,y='Num')\n",
    "plt.xlabel('Country')\n",
    "plt.ylabel('Number of Billionaires')\n",
    "plt.title('Country vs Number of Billionaires ')\n",
    "plt.xticks(rotation=90)\n",
    "sns.despine()\n",
    "plt.show()"
   ]
  },
  {
   "cell_type": "markdown",
   "id": "f2dfd102",
   "metadata": {},
   "source": [
    "The graph presents data on the distribution of billionaires across countries. As shown, the United States has the highest number of billionaires, with China coming in a close second. India is ranked third, with a total of 159 billionaires. Germany and the UK complete the top five in terms of billionaire count."
   ]
  },
  {
   "cell_type": "code",
   "execution_count": 21,
   "id": "cd38ed49",
   "metadata": {},
   "outputs": [
    {
     "data": {
      "image/png": "[encoded data removed]",
      "text/plain": [
       "<Figure size 640x480 with 1 Axes>"
      ]
     },
     "metadata": {},
     "output_type": "display_data"
    }
   ],
   "source": [
    "sns.scatterplot(x='age',y='finalWorth',data=df)\n",
    "plt.title('Age vs Net Worth')\n",
    "plt.ylabel('Net Worth')\n",
    "plt.yticks([0,50000,100000,150000,200000],['0','50B','100B','150B','200B'])\n",
    "sns.despine()\n",
    "plt.xlabel('Age')\n",
    "plt.show()"
   ]
  },
  {
   "cell_type": "markdown",
   "id": "fd9ba9be",
   "metadata": {},
   "source": [
    "At first, I believed that older individuals in the dataset had higher net worths. Specifically, I hypothesized that there was a positive correlation between age and net worth, but my initial theory proved to be incorrect. Upon analysis, it was found that there is no significant correlation between age and net worth in the billionaire dataset. In fact, the correlation coefficient is weakly positive at 0.04."
   ]
  },
  {
   "cell_type": "code",
   "execution_count": 22,
   "id": "b3ddf5fa",
   "metadata": {},
   "outputs": [
    {
     "data": {
      "text/plain": [
       "0.04142297320579126"
      ]
     },
     "execution_count": 22,
     "metadata": {},
     "output_type": "execute_result"
    }
   ],
   "source": [
    "df['age'].corr(df['finalWorth'])"
   ]
  },
  {
   "cell_type": "code",
   "execution_count": 23,
   "id": "4accf845",
   "metadata": {},
   "outputs": [
    {
     "data": {
      "text/html": [
       "<div>\n",
       "<style scoped>\n",
       "    .dataframe tbody tr th:only-of-type {\n",
       "        vertical-align: middle;\n",
       "    }\n",
       "\n",
       "    .dataframe tbody tr th {\n",
       "        vertical-align: top;\n",
       "    }\n",
       "\n",
       "    .dataframe thead th {\n",
       "        text-align: right;\n",
       "    }\n",
       "</style>\n",
       "<table border=\"1\" class=\"dataframe\">\n",
       "  <thead>\n",
       "    <tr style=\"text-align: right;\">\n",
       "      <th></th>\n",
       "      <th>rank</th>\n",
       "      <th>personName</th>\n",
       "      <th>age</th>\n",
       "      <th>finalWorth</th>\n",
       "      <th>category</th>\n",
       "      <th>source</th>\n",
       "      <th>country</th>\n",
       "      <th>state</th>\n",
       "      <th>city</th>\n",
       "      <th>selfMade</th>\n",
       "      <th>gender</th>\n",
       "      <th>birthDate</th>\n",
       "      <th>philanthropyScore</th>\n",
       "      <th>bio</th>\n",
       "    </tr>\n",
       "  </thead>\n",
       "  <tbody>\n",
       "    <tr>\n",
       "      <th>0</th>\n",
       "      <td>1</td>\n",
       "      <td>Elon Musk</td>\n",
       "      <td>50.0</td>\n",
       "      <td>219000</td>\n",
       "      <td>Automotive</td>\n",
       "      <td>Tesla, SpaceX</td>\n",
       "      <td>United States</td>\n",
       "      <td>Texas</td>\n",
       "      <td>Austin</td>\n",
       "      <td>True</td>\n",
       "      <td>M</td>\n",
       "      <td>6/28/1971</td>\n",
       "      <td>1.0</td>\n",
       "      <td>Elon Musk is working to revolutionize transpor...</td>\n",
       "    </tr>\n",
       "    <tr>\n",
       "      <th>1</th>\n",
       "      <td>2</td>\n",
       "      <td>Jeff Bezos</td>\n",
       "      <td>58.0</td>\n",
       "      <td>171000</td>\n",
       "      <td>Technology</td>\n",
       "      <td>Amazon</td>\n",
       "      <td>United States</td>\n",
       "      <td>Washington</td>\n",
       "      <td>Seattle</td>\n",
       "      <td>True</td>\n",
       "      <td>M</td>\n",
       "      <td>1/12/1964</td>\n",
       "      <td>1.0</td>\n",
       "      <td>Jeff Bezos founded e-commerce giant Amazon in ...</td>\n",
       "    </tr>\n",
       "    <tr>\n",
       "      <th>2</th>\n",
       "      <td>3</td>\n",
       "      <td>Bernard Arnault &amp; family</td>\n",
       "      <td>73.0</td>\n",
       "      <td>158000</td>\n",
       "      <td>Fashion &amp; Retail</td>\n",
       "      <td>LVMH</td>\n",
       "      <td>France</td>\n",
       "      <td>NA</td>\n",
       "      <td>Paris</td>\n",
       "      <td>False</td>\n",
       "      <td>M</td>\n",
       "      <td>3/5/1949</td>\n",
       "      <td>NaN</td>\n",
       "      <td>Bernard Arnault oversees the LVMH empire of so...</td>\n",
       "    </tr>\n",
       "    <tr>\n",
       "      <th>3</th>\n",
       "      <td>4</td>\n",
       "      <td>Bill Gates</td>\n",
       "      <td>66.0</td>\n",
       "      <td>129000</td>\n",
       "      <td>Technology</td>\n",
       "      <td>Microsoft</td>\n",
       "      <td>United States</td>\n",
       "      <td>Washington</td>\n",
       "      <td>Medina</td>\n",
       "      <td>True</td>\n",
       "      <td>M</td>\n",
       "      <td>10/28/1955</td>\n",
       "      <td>4.0</td>\n",
       "      <td>Bill Gates turned his fortune from software fi...</td>\n",
       "    </tr>\n",
       "    <tr>\n",
       "      <th>4</th>\n",
       "      <td>5</td>\n",
       "      <td>Warren Buffett</td>\n",
       "      <td>91.0</td>\n",
       "      <td>118000</td>\n",
       "      <td>Finance &amp; Investments</td>\n",
       "      <td>Berkshire Hathaway</td>\n",
       "      <td>United States</td>\n",
       "      <td>Nebraska</td>\n",
       "      <td>Omaha</td>\n",
       "      <td>True</td>\n",
       "      <td>M</td>\n",
       "      <td>8/30/1930</td>\n",
       "      <td>5.0</td>\n",
       "      <td>Known as the \"Oracle of Omaha,\" Warren Buffett...</td>\n",
       "    </tr>\n",
       "    <tr>\n",
       "      <th>5</th>\n",
       "      <td>6</td>\n",
       "      <td>Larry Page</td>\n",
       "      <td>49.0</td>\n",
       "      <td>111000</td>\n",
       "      <td>Technology</td>\n",
       "      <td>Google</td>\n",
       "      <td>United States</td>\n",
       "      <td>California</td>\n",
       "      <td>Palo Alto</td>\n",
       "      <td>True</td>\n",
       "      <td>M</td>\n",
       "      <td>3/26/1973</td>\n",
       "      <td>1.0</td>\n",
       "      <td>Larry Page stepped down as CEO of Alphabet, th...</td>\n",
       "    </tr>\n",
       "    <tr>\n",
       "      <th>6</th>\n",
       "      <td>7</td>\n",
       "      <td>Sergey Brin</td>\n",
       "      <td>48.0</td>\n",
       "      <td>107000</td>\n",
       "      <td>Technology</td>\n",
       "      <td>Google</td>\n",
       "      <td>United States</td>\n",
       "      <td>California</td>\n",
       "      <td>Los Altos</td>\n",
       "      <td>True</td>\n",
       "      <td>M</td>\n",
       "      <td>8/21/1973</td>\n",
       "      <td>1.0</td>\n",
       "      <td>Sergey Brin stepped down as president of Alpha...</td>\n",
       "    </tr>\n",
       "    <tr>\n",
       "      <th>7</th>\n",
       "      <td>8</td>\n",
       "      <td>Larry Ellison</td>\n",
       "      <td>77.0</td>\n",
       "      <td>106000</td>\n",
       "      <td>Technology</td>\n",
       "      <td>software</td>\n",
       "      <td>United States</td>\n",
       "      <td>Hawaii</td>\n",
       "      <td>Lanai</td>\n",
       "      <td>True</td>\n",
       "      <td>M</td>\n",
       "      <td>8/17/1944</td>\n",
       "      <td>1.0</td>\n",
       "      <td>Larry Ellison is chairman, chief technology of...</td>\n",
       "    </tr>\n",
       "    <tr>\n",
       "      <th>8</th>\n",
       "      <td>9</td>\n",
       "      <td>Steve Ballmer</td>\n",
       "      <td>66.0</td>\n",
       "      <td>91400</td>\n",
       "      <td>Technology</td>\n",
       "      <td>Microsoft</td>\n",
       "      <td>United States</td>\n",
       "      <td>Washington</td>\n",
       "      <td>Hunts Point</td>\n",
       "      <td>True</td>\n",
       "      <td>M</td>\n",
       "      <td>3/24/1956</td>\n",
       "      <td>2.0</td>\n",
       "      <td>Steve Ballmer is the high-wattage former CEO o...</td>\n",
       "    </tr>\n",
       "    <tr>\n",
       "      <th>9</th>\n",
       "      <td>10</td>\n",
       "      <td>Mukesh Ambani</td>\n",
       "      <td>64.0</td>\n",
       "      <td>90700</td>\n",
       "      <td>Diversified</td>\n",
       "      <td>diversified</td>\n",
       "      <td>India</td>\n",
       "      <td>NA</td>\n",
       "      <td>Mumbai</td>\n",
       "      <td>False</td>\n",
       "      <td>M</td>\n",
       "      <td>4/19/1957</td>\n",
       "      <td>NaN</td>\n",
       "      <td>Mukesh Ambani chairs and runs $74 billion (rev...</td>\n",
       "    </tr>\n",
       "  </tbody>\n",
       "</table>\n",
       "</div>"
      ],
      "text/plain": [
       "   rank                personName   age  finalWorth               category  \\\n",
       "0     1                 Elon Musk  50.0      219000             Automotive   \n",
       "1     2                Jeff Bezos  58.0      171000             Technology   \n",
       "2     3  Bernard Arnault & family  73.0      158000       Fashion & Retail   \n",
       "3     4                Bill Gates  66.0      129000             Technology   \n",
       "4     5            Warren Buffett  91.0      118000  Finance & Investments   \n",
       "5     6                Larry Page  49.0      111000             Technology   \n",
       "6     7               Sergey Brin  48.0      107000             Technology   \n",
       "7     8             Larry Ellison  77.0      106000             Technology   \n",
       "8     9             Steve Ballmer  66.0       91400             Technology   \n",
       "9    10             Mukesh Ambani  64.0       90700            Diversified   \n",
       "\n",
       "               source        country       state         city  selfMade  \\\n",
       "0       Tesla, SpaceX  United States       Texas       Austin      True   \n",
       "1              Amazon  United States  Washington      Seattle      True   \n",
       "2                LVMH         France          NA        Paris     False   \n",
       "3           Microsoft  United States  Washington       Medina      True   \n",
       "4  Berkshire Hathaway  United States    Nebraska        Omaha      True   \n",
       "5              Google  United States  California    Palo Alto      True   \n",
       "6              Google  United States  California    Los Altos      True   \n",
       "7            software  United States      Hawaii        Lanai      True   \n",
       "8           Microsoft  United States  Washington  Hunts Point      True   \n",
       "9         diversified          India          NA       Mumbai     False   \n",
       "\n",
       "  gender   birthDate  philanthropyScore  \\\n",
       "0      M   6/28/1971                1.0   \n",
       "1      M   1/12/1964                1.0   \n",
       "2      M    3/5/1949                NaN   \n",
       "3      M  10/28/1955                4.0   \n",
       "4      M   8/30/1930                5.0   \n",
       "5      M   3/26/1973                1.0   \n",
       "6      M   8/21/1973                1.0   \n",
       "7      M   8/17/1944                1.0   \n",
       "8      M   3/24/1956                2.0   \n",
       "9      M   4/19/1957                NaN   \n",
       "\n",
       "                                                 bio  \n",
       "0  Elon Musk is working to revolutionize transpor...  \n",
       "1  Jeff Bezos founded e-commerce giant Amazon in ...  \n",
       "2  Bernard Arnault oversees the LVMH empire of so...  \n",
       "3  Bill Gates turned his fortune from software fi...  \n",
       "4  Known as the \"Oracle of Omaha,\" Warren Buffett...  \n",
       "5  Larry Page stepped down as CEO of Alphabet, th...  \n",
       "6  Sergey Brin stepped down as president of Alpha...  \n",
       "7  Larry Ellison is chairman, chief technology of...  \n",
       "8  Steve Ballmer is the high-wattage former CEO o...  \n",
       "9  Mukesh Ambani chairs and runs $74 billion (rev...  "
      ]
     },
     "execution_count": 23,
     "metadata": {},
     "output_type": "execute_result"
    }
   ],
   "source": [
    "NetWorth=df.sort_values(by='finalWorth',ascending=False).head(10)\n",
    "NetWorth"
   ]
  },
  {
   "cell_type": "code",
   "execution_count": 24,
   "id": "4de0288b",
   "metadata": {},
   "outputs": [
    {
     "data": {
      "image/png": "[encoded data removed]",
      "text/plain": [
       "<Figure size 640x480 with 1 Axes>"
      ]
     },
     "metadata": {},
     "output_type": "display_data"
    }
   ],
   "source": [
    "sns.barplot(y='personName',x='finalWorth',data=NetWorth)\n",
    "sns.despine()\n",
    "plt.xlabel('Net Worth')\n",
    "plt.xticks([0,50000,100000,150000,200000],['0','50B','100B','150B','200B'])\n",
    "plt.title('Top 10 Wealthiest People in the World')\n",
    "plt.show()"
   ]
  },
  {
   "cell_type": "markdown",
   "id": "829d960e",
   "metadata": {},
   "source": [
    "According to recent reports, Elon Musk currently holds the title of the world's wealthiest individual, with Jeff Bezos, the founder of Amazon, and Bernard Arnault, the head of the LVMH empire, following closely behind. The remaining spots in the top five are occupied by Bill Gates, the co-founder of Microsoft, and Warren Buffet, widely regarded as one of the most successful investors in history."
   ]
  },
  {
   "cell_type": "code",
   "execution_count": 25,
   "id": "851a4805",
   "metadata": {},
   "outputs": [
    {
     "data": {
      "text/html": [
       "<div>\n",
       "<style scoped>\n",
       "    .dataframe tbody tr th:only-of-type {\n",
       "        vertical-align: middle;\n",
       "    }\n",
       "\n",
       "    .dataframe tbody tr th {\n",
       "        vertical-align: top;\n",
       "    }\n",
       "\n",
       "    .dataframe thead th {\n",
       "        text-align: right;\n",
       "    }\n",
       "</style>\n",
       "<table border=\"1\" class=\"dataframe\">\n",
       "  <thead>\n",
       "    <tr style=\"text-align: right;\">\n",
       "      <th></th>\n",
       "      <th>category</th>\n",
       "      <th>personName</th>\n",
       "    </tr>\n",
       "  </thead>\n",
       "  <tbody>\n",
       "    <tr>\n",
       "      <th>0</th>\n",
       "      <td>Automotive</td>\n",
       "      <td>70</td>\n",
       "    </tr>\n",
       "    <tr>\n",
       "      <th>1</th>\n",
       "      <td>Construction &amp; Engineering</td>\n",
       "      <td>46</td>\n",
       "    </tr>\n",
       "    <tr>\n",
       "      <th>2</th>\n",
       "      <td>Diversified</td>\n",
       "      <td>180</td>\n",
       "    </tr>\n",
       "    <tr>\n",
       "      <th>3</th>\n",
       "      <td>Energy</td>\n",
       "      <td>95</td>\n",
       "    </tr>\n",
       "    <tr>\n",
       "      <th>4</th>\n",
       "      <td>Fashion &amp; Retail</td>\n",
       "      <td>250</td>\n",
       "    </tr>\n",
       "    <tr>\n",
       "      <th>5</th>\n",
       "      <td>Finance &amp; Investments</td>\n",
       "      <td>392</td>\n",
       "    </tr>\n",
       "    <tr>\n",
       "      <th>6</th>\n",
       "      <td>Food &amp; Beverage</td>\n",
       "      <td>203</td>\n",
       "    </tr>\n",
       "    <tr>\n",
       "      <th>7</th>\n",
       "      <td>Gambling &amp; Casinos</td>\n",
       "      <td>23</td>\n",
       "    </tr>\n",
       "    <tr>\n",
       "      <th>8</th>\n",
       "      <td>Healthcare</td>\n",
       "      <td>217</td>\n",
       "    </tr>\n",
       "    <tr>\n",
       "      <th>9</th>\n",
       "      <td>Logistics</td>\n",
       "      <td>35</td>\n",
       "    </tr>\n",
       "    <tr>\n",
       "      <th>10</th>\n",
       "      <td>Manufacturing</td>\n",
       "      <td>337</td>\n",
       "    </tr>\n",
       "    <tr>\n",
       "      <th>11</th>\n",
       "      <td>Media &amp; Entertainment</td>\n",
       "      <td>99</td>\n",
       "    </tr>\n",
       "    <tr>\n",
       "      <th>12</th>\n",
       "      <td>Metals &amp; Mining</td>\n",
       "      <td>68</td>\n",
       "    </tr>\n",
       "    <tr>\n",
       "      <th>13</th>\n",
       "      <td>Real Estate</td>\n",
       "      <td>193</td>\n",
       "    </tr>\n",
       "    <tr>\n",
       "      <th>14</th>\n",
       "      <td>Service</td>\n",
       "      <td>53</td>\n",
       "    </tr>\n",
       "    <tr>\n",
       "      <th>15</th>\n",
       "      <td>Sports</td>\n",
       "      <td>27</td>\n",
       "    </tr>\n",
       "    <tr>\n",
       "      <th>16</th>\n",
       "      <td>Technology</td>\n",
       "      <td>343</td>\n",
       "    </tr>\n",
       "    <tr>\n",
       "      <th>17</th>\n",
       "      <td>Telecom</td>\n",
       "      <td>37</td>\n",
       "    </tr>\n",
       "  </tbody>\n",
       "</table>\n",
       "</div>"
      ],
      "text/plain": [
       "                      category  personName\n",
       "0                   Automotive          70\n",
       "1   Construction & Engineering          46\n",
       "2                  Diversified         180\n",
       "3                       Energy          95\n",
       "4             Fashion & Retail         250\n",
       "5        Finance & Investments         392\n",
       "6              Food & Beverage         203\n",
       "7           Gambling & Casinos          23\n",
       "8                   Healthcare         217\n",
       "9                    Logistics          35\n",
       "10               Manufacturing         337\n",
       "11       Media & Entertainment          99\n",
       "12             Metals & Mining          68\n",
       "13                 Real Estate         193\n",
       "14                     Service          53\n",
       "15                      Sports          27\n",
       "16                  Technology         343\n",
       "17                     Telecom          37"
      ]
     },
     "execution_count": 25,
     "metadata": {},
     "output_type": "execute_result"
    }
   ],
   "source": [
    "industry = df.groupby('category')['personName'].count().reset_index()\n",
    "industry"
   ]
  },
  {
   "cell_type": "code",
   "execution_count": 26,
   "id": "ec60e98b",
   "metadata": {},
   "outputs": [
    {
     "data": {
      "image/png": "[encoded data removed]",
      "text/plain": [
       "<Figure size 640x480 with 1 Axes>"
      ]
     },
     "metadata": {},
     "output_type": "display_data"
    }
   ],
   "source": [
    "sns.barplot(y='category',x='personName',data=industry)\n",
    "plt.title('Number of Billionaires per Industry')\n",
    "\n",
    "plt.ylabel('Industry')\n",
    "plt.xlabel('Number of Billionaires')\n",
    "sns.despine()\n",
    "plt.show()"
   ]
  },
  {
   "cell_type": "markdown",
   "id": "c0d40fe1",
   "metadata": {},
   "source": [
    "Out of all the industries, the Finance and Investments sector produced the highest number of billionaires, with a total of 392 individuals on the list. The Technology industry followed closely behind with 343 billionaires, while the Manufacturing industry created 337 billionaires. Fashion & Retail and Healthcare rounded out the top five with 164 and 159 billionaires, respectively. If your goal is to become a billionaire, pursuing a career in one of these industries may not be a bad choice."
   ]
  },
  {
   "cell_type": "code",
   "execution_count": 27,
   "id": "ce4db499",
   "metadata": {},
   "outputs": [
    {
     "data": {
      "image/png": "[encoded data removed]",
      "text/plain": [
       "<Figure size 1000x500 with 1 Axes>"
      ]
     },
     "metadata": {},
     "output_type": "display_data"
    }
   ],
   "source": [
    "plt.figure(figsize=(10,5))\n",
    "sns.histplot(x='finalWorth',data=df)\n",
    "plt.title('Distribution of Wealth')\n",
    "sns.despine()\n",
    "plt.xticks([0,50000,100000,150000,200000],['0','50B','100B','150B','200B'])\n",
    "\n",
    "plt.ylabel('')\n",
    "plt.xlabel('Net Worth')\n",
    "plt.show()"
   ]
  },
  {
   "cell_type": "markdown",
   "id": "9a6f220a",
   "metadata": {},
   "source": [
    "The graph displays the distribution of the net worth of billionaires in the dataset, which is noticeably right-skewed and contains a significant number of outliers.\n",
    "\n",
    "The average net worth of billionaires in the dataset is estimated to be around 4.76 billion dollars, with a median of 2.4 billion dollars and a standard deviation of approximately 10.5 billion dollars. Additionally, the mode of the distribution is 1.5 billion dollars."
   ]
  },
  {
   "cell_type": "code",
   "execution_count": 28,
   "id": "e97d87a2",
   "metadata": {},
   "outputs": [
    {
     "data": {
      "text/plain": [
       "0    1500\n",
       "Name: finalWorth, dtype: int64"
      ]
     },
     "execution_count": 28,
     "metadata": {},
     "output_type": "execute_result"
    }
   ],
   "source": [
    "df['finalWorth'].mode()"
   ]
  },
  {
   "cell_type": "code",
   "execution_count": 29,
   "id": "bbd571b8",
   "metadata": {},
   "outputs": [
    {
     "data": {
      "text/plain": [
       "count      2668.000000\n",
       "mean       4762.350075\n",
       "std       10540.482258\n",
       "min        1000.000000\n",
       "25%        1500.000000\n",
       "50%        2400.000000\n",
       "75%        4300.000000\n",
       "max      219000.000000\n",
       "Name: finalWorth, dtype: float64"
      ]
     },
     "execution_count": 29,
     "metadata": {},
     "output_type": "execute_result"
    }
   ],
   "source": [
    "df['finalWorth'].describe()"
   ]
  },
  {
   "cell_type": "code",
   "execution_count": 30,
   "id": "5cfa3b97",
   "metadata": {},
   "outputs": [
    {
     "data": {
      "image/png": "[encoded data removed]",
      "text/plain": [
       "<Figure size 640x480 with 1 Axes>"
      ]
     },
     "metadata": {},
     "output_type": "display_data"
    }
   ],
   "source": [
    "sns.countplot(x='selfMade',data=df)\n",
    "plt.title('Self-Made Status')\n",
    "sns.despine()\n",
    "plt.ylabel('Count')\n",
    "plt.xlabel('')\n",
    "plt.show()"
   ]
  },
  {
   "cell_type": "markdown",
   "id": "71a72981",
   "metadata": {},
   "source": [
    "The graph provides a breakdown of the number of billionaires who are classified as self-made. Out of the 2,668 billionaires in the list, a majority of 1,891 individuals, or approximately 70.9%, are considered self-made. The remaining 777 billionaires, equivalent to 29.1% of the total, are not self-made."
   ]
  },
  {
   "cell_type": "code",
   "execution_count": 31,
   "id": "c6abdd3c",
   "metadata": {},
   "outputs": [
    {
     "data": {
      "text/html": [
       "<div>\n",
       "<style scoped>\n",
       "    .dataframe tbody tr th:only-of-type {\n",
       "        vertical-align: middle;\n",
       "    }\n",
       "\n",
       "    .dataframe tbody tr th {\n",
       "        vertical-align: top;\n",
       "    }\n",
       "\n",
       "    .dataframe thead th {\n",
       "        text-align: right;\n",
       "    }\n",
       "</style>\n",
       "<table border=\"1\" class=\"dataframe\">\n",
       "  <thead>\n",
       "    <tr style=\"text-align: right;\">\n",
       "      <th></th>\n",
       "      <th>selfMade</th>\n",
       "      <th>finalWorth</th>\n",
       "    </tr>\n",
       "  </thead>\n",
       "  <tbody>\n",
       "    <tr>\n",
       "      <th>0</th>\n",
       "      <td>False</td>\n",
       "      <td>777</td>\n",
       "    </tr>\n",
       "    <tr>\n",
       "      <th>1</th>\n",
       "      <td>True</td>\n",
       "      <td>1891</td>\n",
       "    </tr>\n",
       "  </tbody>\n",
       "</table>\n",
       "</div>"
      ],
      "text/plain": [
       "   selfMade  finalWorth\n",
       "0     False         777\n",
       "1      True        1891"
      ]
     },
     "execution_count": 31,
     "metadata": {},
     "output_type": "execute_result"
    }
   ],
   "source": [
    "self_status=df.groupby('selfMade')['finalWorth'].count().reset_index()\n",
    "self_status"
   ]
  },
  {
   "cell_type": "code",
   "execution_count": 32,
   "id": "a0bf22a9",
   "metadata": {},
   "outputs": [
    {
     "data": {
      "text/html": [
       "<div>\n",
       "<style scoped>\n",
       "    .dataframe tbody tr th:only-of-type {\n",
       "        vertical-align: middle;\n",
       "    }\n",
       "\n",
       "    .dataframe tbody tr th {\n",
       "        vertical-align: top;\n",
       "    }\n",
       "\n",
       "    .dataframe thead th {\n",
       "        text-align: right;\n",
       "    }\n",
       "</style>\n",
       "<table border=\"1\" class=\"dataframe\">\n",
       "  <thead>\n",
       "    <tr style=\"text-align: right;\">\n",
       "      <th></th>\n",
       "      <th>selfMade</th>\n",
       "      <th>finalWorth</th>\n",
       "    </tr>\n",
       "  </thead>\n",
       "  <tbody>\n",
       "    <tr>\n",
       "      <th>0</th>\n",
       "      <td>False</td>\n",
       "      <td>3993400</td>\n",
       "    </tr>\n",
       "    <tr>\n",
       "      <th>1</th>\n",
       "      <td>True</td>\n",
       "      <td>8712550</td>\n",
       "    </tr>\n",
       "  </tbody>\n",
       "</table>\n",
       "</div>"
      ],
      "text/plain": [
       "   selfMade  finalWorth\n",
       "0     False     3993400\n",
       "1      True     8712550"
      ]
     },
     "execution_count": 32,
     "metadata": {},
     "output_type": "execute_result"
    }
   ],
   "source": [
    "self=df.groupby('selfMade')['finalWorth'].sum().reset_index()\n",
    "self"
   ]
  },
  {
   "cell_type": "code",
   "execution_count": 33,
   "id": "15bdd99e",
   "metadata": {},
   "outputs": [
    {
     "data": {
      "image/png": "[encoded data removed]",
      "text/plain": [
       "<Figure size 640x480 with 1 Axes>"
      ]
     },
     "metadata": {},
     "output_type": "display_data"
    }
   ],
   "source": [
    "sns.barplot(x='selfMade',y='finalWorth',data=self)\n",
    "plt.yticks([0,2000000,4000000,6000000,8000000],['0','2T','4T','6T','8T'])\n",
    "plt.title(' Combined Worth of Self-Made vs Non Self-Made Billionaires')\n",
    "sns.despine()\n",
    "plt.xlabel(\"Self-Made\")\n",
    "plt.ylabel('Net Worth')\n",
    "plt.show()"
   ]
  },
  {
   "cell_type": "markdown",
   "id": "a8c502fd",
   "metadata": {},
   "source": [
    "The total net worth of all self-made billionaires in the dataset is approximately 8.7 trillion dollars, whereas the net worth of all non self-made billionaires is close to 4 trillion dollars."
   ]
  },
  {
   "cell_type": "code",
   "execution_count": 34,
   "id": "d765bc3d",
   "metadata": {},
   "outputs": [
    {
     "data": {
      "text/html": [
       "<div>\n",
       "<style scoped>\n",
       "    .dataframe tbody tr th:only-of-type {\n",
       "        vertical-align: middle;\n",
       "    }\n",
       "\n",
       "    .dataframe tbody tr th {\n",
       "        vertical-align: top;\n",
       "    }\n",
       "\n",
       "    .dataframe thead th {\n",
       "        text-align: right;\n",
       "    }\n",
       "</style>\n",
       "<table border=\"1\" class=\"dataframe\">\n",
       "  <thead>\n",
       "    <tr style=\"text-align: right;\">\n",
       "      <th></th>\n",
       "      <th>country</th>\n",
       "      <th>finalWorth</th>\n",
       "    </tr>\n",
       "  </thead>\n",
       "  <tbody>\n",
       "    <tr>\n",
       "      <th>0</th>\n",
       "      <td>Algeria</td>\n",
       "      <td>5100.000000</td>\n",
       "    </tr>\n",
       "    <tr>\n",
       "      <th>1</th>\n",
       "      <td>Andorra</td>\n",
       "      <td>1300.000000</td>\n",
       "    </tr>\n",
       "    <tr>\n",
       "      <th>2</th>\n",
       "      <td>Argentina</td>\n",
       "      <td>2666.666667</td>\n",
       "    </tr>\n",
       "    <tr>\n",
       "      <th>3</th>\n",
       "      <td>Australia</td>\n",
       "      <td>4719.512195</td>\n",
       "    </tr>\n",
       "    <tr>\n",
       "      <th>4</th>\n",
       "      <td>Austria</td>\n",
       "      <td>5791.666667</td>\n",
       "    </tr>\n",
       "    <tr>\n",
       "      <th>...</th>\n",
       "      <td>...</td>\n",
       "      <td>...</td>\n",
       "    </tr>\n",
       "    <tr>\n",
       "      <th>69</th>\n",
       "      <td>United Arab Emirates</td>\n",
       "      <td>4000.000000</td>\n",
       "    </tr>\n",
       "    <tr>\n",
       "      <th>70</th>\n",
       "      <td>United Kingdom</td>\n",
       "      <td>4644.705882</td>\n",
       "    </tr>\n",
       "    <tr>\n",
       "      <th>71</th>\n",
       "      <td>United States</td>\n",
       "      <td>6354.946524</td>\n",
       "    </tr>\n",
       "    <tr>\n",
       "      <th>72</th>\n",
       "      <td>Uruguay</td>\n",
       "      <td>1633.333333</td>\n",
       "    </tr>\n",
       "    <tr>\n",
       "      <th>73</th>\n",
       "      <td>Vietnam</td>\n",
       "      <td>3028.571429</td>\n",
       "    </tr>\n",
       "  </tbody>\n",
       "</table>\n",
       "<p>74 rows × 2 columns</p>\n",
       "</div>"
      ],
      "text/plain": [
       "                 country   finalWorth\n",
       "0                Algeria  5100.000000\n",
       "1                Andorra  1300.000000\n",
       "2              Argentina  2666.666667\n",
       "3              Australia  4719.512195\n",
       "4                Austria  5791.666667\n",
       "..                   ...          ...\n",
       "69  United Arab Emirates  4000.000000\n",
       "70        United Kingdom  4644.705882\n",
       "71         United States  6354.946524\n",
       "72               Uruguay  1633.333333\n",
       "73               Vietnam  3028.571429\n",
       "\n",
       "[74 rows x 2 columns]"
      ]
     },
     "execution_count": 34,
     "metadata": {},
     "output_type": "execute_result"
    }
   ],
   "source": [
    "avg_country=df.groupby('country')['finalWorth'].mean().reset_index()\n",
    "avg_country"
   ]
  },
  {
   "cell_type": "code",
   "execution_count": 35,
   "id": "2356a6e7",
   "metadata": {},
   "outputs": [
    {
     "data": {
      "text/html": [
       "<div>\n",
       "<style scoped>\n",
       "    .dataframe tbody tr th:only-of-type {\n",
       "        vertical-align: middle;\n",
       "    }\n",
       "\n",
       "    .dataframe tbody tr th {\n",
       "        vertical-align: top;\n",
       "    }\n",
       "\n",
       "    .dataframe thead th {\n",
       "        text-align: right;\n",
       "    }\n",
       "</style>\n",
       "<table border=\"1\" class=\"dataframe\">\n",
       "  <thead>\n",
       "    <tr style=\"text-align: right;\">\n",
       "      <th></th>\n",
       "      <th>country</th>\n",
       "      <th>finalWorth</th>\n",
       "    </tr>\n",
       "  </thead>\n",
       "  <tbody>\n",
       "    <tr>\n",
       "      <th>22</th>\n",
       "      <td>France</td>\n",
       "      <td>13370.588235</td>\n",
       "    </tr>\n",
       "    <tr>\n",
       "      <th>7</th>\n",
       "      <td>Belgium</td>\n",
       "      <td>12833.333333</td>\n",
       "    </tr>\n",
       "    <tr>\n",
       "      <th>39</th>\n",
       "      <td>Mexico</td>\n",
       "      <td>11292.857143</td>\n",
       "    </tr>\n",
       "    <tr>\n",
       "      <th>16</th>\n",
       "      <td>Colombia</td>\n",
       "      <td>9900.000000</td>\n",
       "    </tr>\n",
       "    <tr>\n",
       "      <th>46</th>\n",
       "      <td>Nigeria</td>\n",
       "      <td>9400.000000</td>\n",
       "    </tr>\n",
       "    <tr>\n",
       "      <th>5</th>\n",
       "      <td>Bahamas</td>\n",
       "      <td>9375.000000</td>\n",
       "    </tr>\n",
       "    <tr>\n",
       "      <th>71</th>\n",
       "      <td>United States</td>\n",
       "      <td>6354.946524</td>\n",
       "    </tr>\n",
       "    <tr>\n",
       "      <th>14</th>\n",
       "      <td>Chile</td>\n",
       "      <td>5950.000000</td>\n",
       "    </tr>\n",
       "    <tr>\n",
       "      <th>18</th>\n",
       "      <td>Denmark</td>\n",
       "      <td>5830.000000</td>\n",
       "    </tr>\n",
       "    <tr>\n",
       "      <th>4</th>\n",
       "      <td>Austria</td>\n",
       "      <td>5791.666667</td>\n",
       "    </tr>\n",
       "  </tbody>\n",
       "</table>\n",
       "</div>"
      ],
      "text/plain": [
       "          country    finalWorth\n",
       "22         France  13370.588235\n",
       "7         Belgium  12833.333333\n",
       "39         Mexico  11292.857143\n",
       "16       Colombia   9900.000000\n",
       "46        Nigeria   9400.000000\n",
       "5         Bahamas   9375.000000\n",
       "71  United States   6354.946524\n",
       "14          Chile   5950.000000\n",
       "18        Denmark   5830.000000\n",
       "4         Austria   5791.666667"
      ]
     },
     "execution_count": 35,
     "metadata": {},
     "output_type": "execute_result"
    }
   ],
   "source": [
    "top_10_avg = avg_country.sort_values(by='finalWorth',ascending=False).head(10)\n",
    "top_10_avg"
   ]
  },
  {
   "cell_type": "code",
   "execution_count": 36,
   "id": "1de38f07",
   "metadata": {},
   "outputs": [
    {
     "data": {
      "text/html": [
       "<div>\n",
       "<style scoped>\n",
       "    .dataframe tbody tr th:only-of-type {\n",
       "        vertical-align: middle;\n",
       "    }\n",
       "\n",
       "    .dataframe tbody tr th {\n",
       "        vertical-align: top;\n",
       "    }\n",
       "\n",
       "    .dataframe thead th {\n",
       "        text-align: right;\n",
       "    }\n",
       "</style>\n",
       "<table border=\"1\" class=\"dataframe\">\n",
       "  <thead>\n",
       "    <tr style=\"text-align: right;\">\n",
       "      <th></th>\n",
       "      <th>country</th>\n",
       "      <th>finalWorth</th>\n",
       "    </tr>\n",
       "  </thead>\n",
       "  <tbody>\n",
       "    <tr>\n",
       "      <th>16</th>\n",
       "      <td>Colombia</td>\n",
       "      <td>9900.0</td>\n",
       "    </tr>\n",
       "    <tr>\n",
       "      <th>18</th>\n",
       "      <td>Denmark</td>\n",
       "      <td>7700.0</td>\n",
       "    </tr>\n",
       "    <tr>\n",
       "      <th>46</th>\n",
       "      <td>Nigeria</td>\n",
       "      <td>7300.0</td>\n",
       "    </tr>\n",
       "    <tr>\n",
       "      <th>5</th>\n",
       "      <td>Bahamas</td>\n",
       "      <td>5650.0</td>\n",
       "    </tr>\n",
       "    <tr>\n",
       "      <th>20</th>\n",
       "      <td>Eswatini (Swaziland)</td>\n",
       "      <td>5300.0</td>\n",
       "    </tr>\n",
       "    <tr>\n",
       "      <th>0</th>\n",
       "      <td>Algeria</td>\n",
       "      <td>5100.0</td>\n",
       "    </tr>\n",
       "    <tr>\n",
       "      <th>23</th>\n",
       "      <td>Georgia</td>\n",
       "      <td>4800.0</td>\n",
       "    </tr>\n",
       "    <tr>\n",
       "      <th>52</th>\n",
       "      <td>Portugal</td>\n",
       "      <td>4700.0</td>\n",
       "    </tr>\n",
       "    <tr>\n",
       "      <th>10</th>\n",
       "      <td>British Virgin Islands</td>\n",
       "      <td>4700.0</td>\n",
       "    </tr>\n",
       "    <tr>\n",
       "      <th>4</th>\n",
       "      <td>Austria</td>\n",
       "      <td>4000.0</td>\n",
       "    </tr>\n",
       "  </tbody>\n",
       "</table>\n",
       "</div>"
      ],
      "text/plain": [
       "                   country  finalWorth\n",
       "16                Colombia      9900.0\n",
       "18                 Denmark      7700.0\n",
       "46                 Nigeria      7300.0\n",
       "5                  Bahamas      5650.0\n",
       "20    Eswatini (Swaziland)      5300.0\n",
       "0                  Algeria      5100.0\n",
       "23                 Georgia      4800.0\n",
       "52                Portugal      4700.0\n",
       "10  British Virgin Islands      4700.0\n",
       "4                  Austria      4000.0"
      ]
     },
     "execution_count": 36,
     "metadata": {},
     "output_type": "execute_result"
    }
   ],
   "source": [
    "median_country=df.groupby('country')['finalWorth'].agg(np.median).reset_index()\n",
    "top_10_median=median_country.sort_values(by='finalWorth',ascending=False).head(10)\n",
    "top_10_median"
   ]
  },
  {
   "cell_type": "code",
   "execution_count": 37,
   "id": "f1a143bb",
   "metadata": {},
   "outputs": [
    {
     "ename": "NameError",
     "evalue": "name 'top_15_median' is not defined",
     "output_type": "error",
     "traceback": [
      "\u001b[0;31m---------------------------------------------------------------------------\u001b[0m",
      "\u001b[0;31mNameError\u001b[0m                                 Traceback (most recent call last)",
      "\u001b[0;32m/var/folders/92/_kz_fht558b0hh0627_7zzk00000gn/T/ipykernel_26520/3014057775.py\u001b[0m in \u001b[0;36m<module>\u001b[0;34m\u001b[0m\n\u001b[1;32m      1\u001b[0m \u001b[0mplt\u001b[0m\u001b[0;34m.\u001b[0m\u001b[0mfigure\u001b[0m\u001b[0;34m(\u001b[0m\u001b[0mfigsize\u001b[0m\u001b[0;34m=\u001b[0m\u001b[0;34m(\u001b[0m\u001b[0;36m10\u001b[0m\u001b[0;34m,\u001b[0m\u001b[0;36m5\u001b[0m\u001b[0;34m)\u001b[0m\u001b[0;34m)\u001b[0m\u001b[0;34m\u001b[0m\u001b[0;34m\u001b[0m\u001b[0m\n\u001b[1;32m      2\u001b[0m \u001b[0;34m\u001b[0m\u001b[0m\n\u001b[0;32m----> 3\u001b[0;31m \u001b[0msns\u001b[0m\u001b[0;34m.\u001b[0m\u001b[0mbarplot\u001b[0m\u001b[0;34m(\u001b[0m\u001b[0mx\u001b[0m\u001b[0;34m=\u001b[0m\u001b[0;34m'country'\u001b[0m\u001b[0;34m,\u001b[0m\u001b[0my\u001b[0m\u001b[0;34m=\u001b[0m\u001b[0;34m'finalWorth'\u001b[0m\u001b[0;34m,\u001b[0m\u001b[0mdata\u001b[0m\u001b[0;34m=\u001b[0m\u001b[0mtop_15_median\u001b[0m\u001b[0;34m)\u001b[0m\u001b[0;34m\u001b[0m\u001b[0;34m\u001b[0m\u001b[0m\n\u001b[0m\u001b[1;32m      4\u001b[0m \u001b[0mplt\u001b[0m\u001b[0;34m.\u001b[0m\u001b[0mtitle\u001b[0m\u001b[0;34m(\u001b[0m\u001b[0;34m'Top 10 Median Net Worth by Country'\u001b[0m\u001b[0;34m)\u001b[0m\u001b[0;34m\u001b[0m\u001b[0;34m\u001b[0m\u001b[0m\n\u001b[1;32m      5\u001b[0m \u001b[0mplt\u001b[0m\u001b[0;34m.\u001b[0m\u001b[0mxticks\u001b[0m\u001b[0;34m(\u001b[0m\u001b[0mrotation\u001b[0m\u001b[0;34m=\u001b[0m\u001b[0;36m90\u001b[0m\u001b[0;34m)\u001b[0m\u001b[0;34m\u001b[0m\u001b[0;34m\u001b[0m\u001b[0m\n",
      "\u001b[0;31mNameError\u001b[0m: name 'top_15_median' is not defined"
     ]
    },
    {
     "data": {
      "text/plain": [
       "<Figure size 1000x500 with 0 Axes>"
      ]
     },
     "metadata": {},
     "output_type": "display_data"
    }
   ],
   "source": [
    "plt.figure(figsize=(10,5))\n",
    "\n",
    "sns.barplot(x='country',y='finalWorth',data=top_15_median)\n",
    "plt.title('Top 10 Median Net Worth by Country')\n",
    "plt.xticks(rotation=90)\n",
    "plt.yticks([0,2000,4000,6000,8000,10000],['0','2B','4B','6B','8B','10B'])\n",
    "plt.ylabel('Net Worth')\n",
    "sns.despine()\n",
    "\n",
    "\n",
    "plt.show()"
   ]
  },
  {
   "cell_type": "markdown",
   "id": "41c9cb5b",
   "metadata": {},
   "source": [
    "The graph presents a list of the ten countries with the highest median net worth. Colombia tops the list with a median net worth of almost 10 billion dollars, followed by Denmark and Nigeria in second and third place, respectively. The median net worth was used to calculate these rankings, which helps to prevent the influence of outliers on the results."
   ]
  },
  {
   "cell_type": "code",
   "execution_count": null,
   "id": "7974bdd5",
   "metadata": {},
   "outputs": [],
   "source": [
    "plt.figure(figsize=(10,5))\n",
    "sns.barplot(x='country',y='finalWorth',data=top_15_avg)\n",
    "plt.title('Top 10 Average Net Worth by Country')\n",
    "plt.xticks(rotation=90)\n",
    "plt.yticks([0,2000,4000,6000,8000,10000,12000,14000],['0','2B','4B','6B','8B','10B','12B','14B'])\n",
    "plt.ylabel('Net Worth')\n",
    "sns.despine()\n",
    "plt.tight_layout(pad=2)\n",
    "plt.show()"
   ]
  },
  {
   "cell_type": "markdown",
   "id": "7d453463",
   "metadata": {},
   "source": [
    "The graph displays a list of the 10 countries with the highest average net worth of their billionaires. At the top of the list is France with an average net worth of approximately 13.4 billion dollars, followed by Belgium with around 12.8 billion dollars. Rounding out the top five are Mexico, Colombia, and Nigeria."
   ]
  },
  {
   "cell_type": "code",
   "execution_count": null,
   "id": "afc157a1",
   "metadata": {},
   "outputs": [],
   "source": [
    "ranges=[990,5000,10000,20000,40000,50000,100000,150000,220000]\n",
    "labels=['1-5B','5-10B','10-20B','20-40B','40-50B','50-100B','100-150B','200B+']\n",
    "\n",
    "df['NetWorth_bins']=pd.cut(df['finalWorth'],bins=ranges,labels=labels)"
   ]
  },
  {
   "cell_type": "code",
   "execution_count": null,
   "id": "5c3fc56c",
   "metadata": {},
   "outputs": [],
   "source": [
    "NetWorth_bins=df.groupby('NetWorth_bins')['personName'].count().reset_index()\n"
   ]
  },
  {
   "cell_type": "code",
   "execution_count": null,
   "id": "0d2cac10",
   "metadata": {},
   "outputs": [],
   "source": [
    "plt.figure(figsize=(10,5))\n",
    "sns.barplot(x='NetWorth_bins',y='personName',data=NetWorth_bins)\n",
    "plt.title('Number of Billionaires by Category')\n",
    "plt.ylabel('Count')\n",
    "plt.xlabel('NetWorth-bins')\n",
    "sns.despine()\n",
    "\n",
    "\n",
    "\n",
    "plt.show()"
   ]
  },
  {
   "cell_type": "markdown",
   "id": "e2310af9",
   "metadata": {},
   "source": [
    "According to the data, there are 2,117 billionaires in the list with a net worth between 1 and 5 billion dollars. Additionally, there are 355 billionaires with a net worth between 5 and 10 billion dollars, and so on.\n",
    "\n",
    "Remarkably, only 8 billionaires in the dataset have a net worth exceeding 100 billion dollars."
   ]
  },
  {
   "cell_type": "code",
   "execution_count": null,
   "id": "b8a35560",
   "metadata": {},
   "outputs": [],
   "source": [
    "NetWorth_bins"
   ]
  },
  {
   "cell_type": "code",
   "execution_count": null,
   "id": "5608d305",
   "metadata": {},
   "outputs": [],
   "source": [
    "source_world=df.groupby('source')['personName'].count().reset_index()\n",
    "source_world=source_world.sort_values(by='personName',ascending=False).head(10)"
   ]
  },
  {
   "cell_type": "code",
   "execution_count": null,
   "id": "4f16b271",
   "metadata": {},
   "outputs": [],
   "source": [
    "sns.barplot(y='source',x='personName',data=source_world)\n",
    "plt.title('Number of Billionaires by Source')\n",
    "plt.ylabel('Source')\n",
    "plt.xlabel('Count')\n",
    "sns.despine()"
   ]
  },
  {
   "cell_type": "markdown",
   "id": "42257e54",
   "metadata": {},
   "source": [
    "The graph illustrates the different sources of wealth for billionaires. According to the data, 151 billionaires made their fortunes through real estate investments, while 94 billionaires generated their wealth through investments in various industries. The graph also shows other sources of billionaire wealth, such as finance, technology, and retail. "
   ]
  },
  {
   "cell_type": "code",
   "execution_count": null,
   "id": "f4b1cd6b",
   "metadata": {},
   "outputs": [],
   "source": [
    "source_world"
   ]
  },
  {
   "cell_type": "markdown",
   "id": "4e7c08af",
   "metadata": {},
   "source": [
    "# Gender "
   ]
  },
  {
   "cell_type": "code",
   "execution_count": null,
   "id": "b2d2a289",
   "metadata": {},
   "outputs": [],
   "source": [
    "gender=df.groupby(['gender','selfMade'])['rank'].count().reset_index()\n",
    "gender"
   ]
  },
  {
   "cell_type": "code",
   "execution_count": null,
   "id": "9932e080",
   "metadata": {},
   "outputs": [],
   "source": [
    "gender_True = gender[gender['selfMade']==True]\n",
    "gender_False = gender[gender['selfMade']==False]"
   ]
  },
  {
   "cell_type": "code",
   "execution_count": null,
   "id": "7549597b",
   "metadata": {},
   "outputs": [],
   "source": [
    "gender_False"
   ]
  },
  {
   "cell_type": "code",
   "execution_count": null,
   "id": "c156c243",
   "metadata": {},
   "outputs": [],
   "source": [
    "gender_data = gender_True.merge(gender_False,on='gender')"
   ]
  },
  {
   "cell_type": "code",
   "execution_count": null,
   "id": "f7a03b94",
   "metadata": {},
   "outputs": [],
   "source": [
    "gender_data"
   ]
  },
  {
   "cell_type": "code",
   "execution_count": null,
   "id": "a606bf76",
   "metadata": {},
   "outputs": [],
   "source": [
    "gender_data['total']=gender_data['rank_x']+gender_data['rank_y']\n",
    "gender_data"
   ]
  },
  {
   "cell_type": "code",
   "execution_count": null,
   "id": "bf031b85",
   "metadata": {},
   "outputs": [],
   "source": [
    "gender_data['percent_selfMade']= round(gender_data['rank_x']/gender_data['total'],2)*100"
   ]
  },
  {
   "cell_type": "code",
   "execution_count": null,
   "id": "601695f4",
   "metadata": {},
   "outputs": [],
   "source": [
    "gender_data"
   ]
  },
  {
   "cell_type": "code",
   "execution_count": null,
   "id": "08fd6b96",
   "metadata": {},
   "outputs": [],
   "source": [
    "sns.barplot(x='gender',y='rank_x',data=gender_data,color='blue')\n",
    "sns.barplot(x='gender',y='rank_y',data=gender_data,color='orange',bottom=gender_data['rank_x'])\n",
    "plt.title('Self-Made vs Inherited')\n",
    "plt.xlabel('Gender')\n",
    "plt.ylabel('Count')\n",
    "\n",
    "\n",
    "\n",
    "\n",
    "blue_patch = plt.Rectangle((0,0),1,1,fc='blue')\n",
    "orange_patch = plt.Rectangle((0,0),1,1,fc='orange')\n",
    "plt.legend([blue_patch,orange_patch],['Self-Made','Inherited'])\n",
    "\n",
    "\n",
    "plt.show()"
   ]
  },
  {
   "cell_type": "markdown",
   "id": "2c243657",
   "metadata": {},
   "source": [
    "The graph displays the breakdown of self-made billionaires by gender. Among the 2,341 male billionaires in the dataset, 1,790 are self-made. In contrast, out of the 311 female billionaires, only 90 are self-made.\n",
    "\n",
    "Interestingly, the majority of female billionaires inherited their wealth from their families, rather than building it themselves."
   ]
  },
  {
   "cell_type": "code",
   "execution_count": null,
   "id": "f88fc4ae",
   "metadata": {},
   "outputs": [],
   "source": [
    "gender_data=gender_data.drop(2)"
   ]
  },
  {
   "cell_type": "code",
   "execution_count": null,
   "id": "1521bda5",
   "metadata": {},
   "outputs": [],
   "source": [
    "sns.barplot(x='gender',y='percent_selfMade',data=gender_data)\n",
    "plt.title('Percentage of Self Made billionaires by Gender')\n",
    "plt.xlabel('Gender')\n",
    "plt.ylabel('')\n",
    "sns.despine()\n",
    "plt.yticks([0,10,20,30,40,50,60,70],['0','10%','20%','30%','40%','50%','60%','70%'])\n",
    "plt.show()"
   ]
  },
  {
   "cell_type": "markdown",
   "id": "d200488d",
   "metadata": {},
   "source": [
    "The data indicates that roughly 29% of female billionaires are self-made, whereas about 76% of male billionaires are self-made. This suggests that there may be significant differences in the factors that contribute to wealth accumulation between genders."
   ]
  },
  {
   "cell_type": "code",
   "execution_count": null,
   "id": "7f71ffab",
   "metadata": {},
   "outputs": [],
   "source": [
    "sns.boxplot(y='gender',x='finalWorth',data=df,whis=1.5)\n",
    "sns.despine()\n",
    "plt.title('Distribution of Wealth by Gender')\n",
    "plt.xticks([0,50000,100000,150000,200000],['0','50B','100B','150B','200B'])\n",
    "plt.ylabel('Gender')\n",
    "plt.xlabel('Net Worth')\n",
    "plt.show()"
   ]
  },
  {
   "cell_type": "markdown",
   "id": "f76e8ee9",
   "metadata": {},
   "source": [
    "This graph depicts the distribution of net worth among billionaires by gender. The male distribution has a higher number of outliers compared to the female distribution. Interestingly, the average net worth amount is nearly the same for both genders. However, the female distribution has a slightly greater interquartile range, indicating a slightly greater spread in the middle values, while the male distribution has a greater standard deviation in net worth amounts.\n",
    "\n",
    "Moreover, the median net worth for female billionaires is greater than that of male billionaires, at $2.5 billion compared to $2.3 billion, respectively. The range of the male distribution is 218 billion dollars (from 1 billion to 219 billion), while the range of the female distribution is 73.8 billion dollars (from 1 billion to 74.8 billion). Therefore, the range of net worth is almost three times higher for male billionaires than for female billionaires."
   ]
  },
  {
   "cell_type": "code",
   "execution_count": null,
   "id": "248c48ea",
   "metadata": {},
   "outputs": [],
   "source": [
    "female = df[df['gender']=='F']\n",
    "male = df[df['gender']=='M']"
   ]
  },
  {
   "cell_type": "code",
   "execution_count": null,
   "id": "ffc7db96",
   "metadata": {},
   "outputs": [],
   "source": [
    "female['finalWorth'].describe() "
   ]
  },
  {
   "cell_type": "code",
   "execution_count": null,
   "id": "6cbfbe82",
   "metadata": {},
   "outputs": [],
   "source": [
    "male['finalWorth'].describe()"
   ]
  },
  {
   "cell_type": "code",
   "execution_count": null,
   "id": "be351fc5",
   "metadata": {},
   "outputs": [],
   "source": [
    "Female = df[df['gender']=='F']"
   ]
  },
  {
   "cell_type": "code",
   "execution_count": null,
   "id": "ea1964c3",
   "metadata": {},
   "outputs": [],
   "source": [
    "F_source=Female.groupby('source')['personName'].count().reset_index()\n",
    "F_source=F_source.sort_values(by='personName',ascending=False).head(10)\n",
    "F_source"
   ]
  },
  {
   "cell_type": "code",
   "execution_count": null,
   "id": "6123d8cb",
   "metadata": {},
   "outputs": [],
   "source": [
    "sns.barplot(x='personName',y='source',data=F_source)\n",
    "plt.title('Number of  Female Billionaires  by Source')\n",
    "plt.ylabel('Source')\n",
    "plt.xlabel('Count')\n",
    "sns.despine()"
   ]
  },
  {
   "cell_type": "markdown",
   "id": "80b882c3",
   "metadata": {},
   "source": [
    "Real estate produced the most number of female billionaires in the world. Pharmaceuticals created 14 female billionaires, while 12 female billionaires made their fortune from various other sources."
   ]
  },
  {
   "cell_type": "code",
   "execution_count": null,
   "id": "bb5928c5",
   "metadata": {},
   "outputs": [],
   "source": [
    "top_10_Female = Female.sort_values(by='finalWorth',ascending=False).head(10)\n",
    "top_10_Female"
   ]
  },
  {
   "cell_type": "code",
   "execution_count": null,
   "id": "61d6362f",
   "metadata": {},
   "outputs": [],
   "source": [
    "sns.barplot(x='personName',y='finalWorth',data=top_10_Female)\n",
    "plt.title('Wealthiest Female billionaires')\n",
    "plt.ylabel('Net Worth')\n",
    "plt.xlabel('Count')\n",
    "plt.xticks(rotation=90)\n",
    "plt.yticks([0,10000,20000,30000,40000,50000,60000,70000],['0','10B','20B','30B','40B','50B','60B','70B'])\n",
    "sns.despine()"
   ]
  },
  {
   "cell_type": "markdown",
   "id": "82e46f02",
   "metadata": {},
   "source": [
    "The graph shows the top 10 richest female billionaires in the world. The wealthiest female billionaire is Francois Bettencourt Meyers with a net worth of approximately 75 billion dollars, followed by Alice Walton with a net worth of around 65 billion dollars."
   ]
  },
  {
   "cell_type": "code",
   "execution_count": null,
   "id": "6bacc3e6",
   "metadata": {},
   "outputs": [],
   "source": [
    "selfmade_yes=Female[Female['selfMade']==True]\n",
    "selfmade_no=Female[Female['selfMade']==False]"
   ]
  },
  {
   "cell_type": "code",
   "execution_count": null,
   "id": "0c2e7a81",
   "metadata": {},
   "outputs": [],
   "source": [
    "top_self_made=selfmade_yes.sort_values(by='finalWorth',ascending=False).head(10)\n",
    "top_self_made"
   ]
  },
  {
   "cell_type": "code",
   "execution_count": null,
   "id": "6241dd40",
   "metadata": {},
   "outputs": [],
   "source": [
    "top_notself_made=selfmade_no.sort_values(by='finalWorth',ascending=False).head(10)\n",
    "top_notself_made"
   ]
  },
  {
   "cell_type": "code",
   "execution_count": null,
   "id": "f8161eb3",
   "metadata": {},
   "outputs": [],
   "source": [
    "plt.figure(figsize=(10,8))\n",
    "plt.subplot(2,1,1)\n",
    "sns.barplot(x='personName',y='finalWorth',data=top_self_made)\n",
    "plt.title('Wealthiest Female Self-Made Billionaires ')\n",
    "plt.ylabel('Net Worth')\n",
    "plt.xlabel('Count')\n",
    "plt.xticks(rotation=90)\n",
    "sns.despine()\n",
    "plt.yticks([0,2500,5000,7500,10000,12500,15000,17500],[0,'2.5B','5B','7.5B','10B','12.5B','15B','17B'])\n",
    "plt.show()"
   ]
  },
  {
   "cell_type": "markdown",
   "id": "dd4aeee0",
   "metadata": {},
   "source": [
    "According to the data, Fan Hongwei is the richest self-made billionaire with a net worth of around 18 billion dollars. Wu Yajun ranks second on the list with approximately 15 billion dollars in net worth."
   ]
  },
  {
   "cell_type": "code",
   "execution_count": null,
   "id": "da1d2cbf",
   "metadata": {},
   "outputs": [],
   "source": [
    "plt.figure(figsize=(8,6))\n",
    "sns.barplot(x='personName',y='finalWorth',data=top_notself_made)\n",
    "plt.title('Wealthiest Female Non Self-Made Billionaires ')\n",
    "plt.ylabel('Net Worth')\n",
    "plt.xlabel('Count')\n",
    "plt.xticks(rotation=90)\n",
    "plt.yticks([0,10000,20000,30000,40000,50000,60000,70000],[0,'10B','20B','30B','40B','50B','60B','70B'])\n",
    "sns.despine()\n",
    "plt.show()"
   ]
  },
  {
   "cell_type": "markdown",
   "id": "fa3e8b6d",
   "metadata": {},
   "source": [
    "The top 10 wealthiest female non self-made billionaires are the wealthiest female billionaires in the world. These billionaires inherited a significant portion of their net worth. Additionally, there is a significant difference in net worth between the top 10 wealthiest non self-made female billionaires and the top 10 wealthiest self-made female billionaires, with the former group having a higher net worth"
   ]
  },
  {
   "cell_type": "code",
   "execution_count": null,
   "id": "fd1e64fa",
   "metadata": {},
   "outputs": [],
   "source": [
    "source_gender=df.groupby(['source','gender'])['personName'].count().reset_index()\n",
    "source_f =source_gender[source_gender['gender']=='F']\n",
    "source_f\n",
    "source_m =source_gender[source_gender['gender']=='M']\n",
    "source_m"
   ]
  },
  {
   "cell_type": "code",
   "execution_count": null,
   "id": "f36a1518",
   "metadata": {},
   "outputs": [],
   "source": [
    "merge=source_m.merge(source_f,on='source')\n",
    "merge\n",
    "merge_source=merge[merge['personName_y']>merge['personName_x']]\n",
    "merge_source"
   ]
  },
  {
   "cell_type": "code",
   "execution_count": null,
   "id": "f686068a",
   "metadata": {},
   "outputs": [],
   "source": [
    "plt.figure(figsize=(10,5))\n",
    "\n",
    "plt.subplot(1,2,1)\n",
    "sns.barplot(x='source',y='personName_y',data=merge_source)\n",
    "plt.title('Number of Female Billionaires by Source')\n",
    "plt.xticks(rotation=90)\n",
    "plt.ylabel('Count')\n",
    "plt.subplot(1,2,2)\n",
    "sns.barplot(x='source',y='personName_x',data=merge_source)\n",
    "plt.title('Number of Male Billionaires by Source')\n",
    "plt.xticks(rotation=90)\n",
    "plt.ylabel('Count')\n",
    "\n",
    "plt.show()"
   ]
  },
  {
   "cell_type": "markdown",
   "id": "1ab45987",
   "metadata": {},
   "source": [
    "I discovered 8 sources of wealth where female billionaires outnumber male billionaires. Cargill created 7 female billionaires and 5 male billionaires. Samsung generated 3 female billionaires and 1 male billionaires and so forth."
   ]
  },
  {
   "cell_type": "markdown",
   "id": "2affa598",
   "metadata": {},
   "source": [
    "# USA"
   ]
  },
  {
   "cell_type": "code",
   "execution_count": null,
   "id": "cd6bec61",
   "metadata": {},
   "outputs": [],
   "source": [
    "usa=df[df['country']=='United States']"
   ]
  },
  {
   "cell_type": "code",
   "execution_count": null,
   "id": "76a09b4c",
   "metadata": {},
   "outputs": [],
   "source": [
    "top_10_us=usa.head(10)\n",
    "top_10_us"
   ]
  },
  {
   "cell_type": "code",
   "execution_count": null,
   "id": "635bded9",
   "metadata": {},
   "outputs": [],
   "source": [
    "sns.barplot(x='personName',y='finalWorth',data=top_10_us)\n",
    "\n",
    "plt.title('The Wealthiest Men in USA')\n",
    "plt.xlabel('Name')\n",
    "plt.ylabel('Net Worth')\n",
    "plt.xticks(rotation=90)\n",
    "sns.despine()\n",
    "plt.yticks([0,50000,100000,150000,200000],['0','50B','100B','150B','200B'])\n",
    "plt.show()"
   ]
  },
  {
   "cell_type": "markdown",
   "id": "5ed73914",
   "metadata": {},
   "source": [
    "Based on the data , the wealthiest men in the US are Elon Musk with a net worth of 219 billion dollars, followed by Jeff Bezos with a net worth of 171 billion dollars. The top 5 wealthiest men are completed by Bill Gates, Warren Buffet, and Larry Page."
   ]
  },
  {
   "cell_type": "code",
   "execution_count": null,
   "id": "faec9355",
   "metadata": {},
   "outputs": [],
   "source": [
    "sns.countplot(x='gender',data=usa)\n",
    "plt.title('Number of Billionaires in the U.S by Gender')\n",
    "plt.xlabel('Gender')\n",
    "sns.despine()\n",
    "\n",
    "plt.show()"
   ]
  },
  {
   "cell_type": "markdown",
   "id": "8b59991f",
   "metadata": {},
   "source": [
    "Out of the total number of billionaires in the US, which is 744, only 88 of them are female. This means that male billionaires in the US make up about 88% of the total billionaire population, while female billionaires only make up approximately 12%."
   ]
  },
  {
   "cell_type": "code",
   "execution_count": null,
   "id": "8055729d",
   "metadata": {},
   "outputs": [],
   "source": [
    "usa.groupby('gender')['state'].count()"
   ]
  },
  {
   "cell_type": "code",
   "execution_count": null,
   "id": "59ddc5df",
   "metadata": {},
   "outputs": [],
   "source": [
    "plt.figure(figsize=(10,8))\n",
    "sns.histplot(x='finalWorth',data=usa)\n",
    "plt.title('Distribution of Wealth in USA')\n",
    "sns.despine()\n",
    "plt.xlabel('Net Worth')\n",
    "plt.xticks([0,50000,100000,150000,200000],['0','50B','100B','150B','200B'])\n",
    "plt.show() "
   ]
  },
  {
   "cell_type": "markdown",
   "id": "a5fadfe8",
   "metadata": {},
   "source": [
    "The graph displays the distribution of net worth for all billionaires in the US, indicating a right-skewed distribution with a significant number of outliers. The average net worth of US billionaires is approximately 6.35 billion dollars, while the median net worth is 2.9 billion dollars. The standard deviation of the distribution is approximately 15.8 billion dollars, and the mode is 1.6 billion dollars. Furthermore, the interquartile range, or the spread of the middle 50% values, is 3.4 billion dollars."
   ]
  },
  {
   "cell_type": "code",
   "execution_count": null,
   "id": "86ce5c79",
   "metadata": {},
   "outputs": [],
   "source": [
    "usa['finalWorth'].mode()"
   ]
  },
  {
   "cell_type": "code",
   "execution_count": null,
   "id": "44c05fb7",
   "metadata": {},
   "outputs": [],
   "source": [
    "usa['finalWorth'].describe()"
   ]
  },
  {
   "cell_type": "code",
   "execution_count": null,
   "id": "4ba51514",
   "metadata": {},
   "outputs": [],
   "source": [
    "ranges=[990,5000,10000,20000,40000,50000,100000,150000,200000,250000]\n",
    "label_bins=['1-5B','5-10B','10-20B','20-40B','40-50B','50-100B','100-150B','150-200B','200B+']\n",
    "\n",
    "usa['NetWorth_bins']=pd.cut(usa['finalWorth'],bins=ranges,labels=label_bins)"
   ]
  },
  {
   "cell_type": "code",
   "execution_count": null,
   "id": "98a0f215",
   "metadata": {},
   "outputs": [],
   "source": [
    "usa[['finalWorth','NetWorth_bins']]"
   ]
  },
  {
   "cell_type": "code",
   "execution_count": null,
   "id": "8ec372dc",
   "metadata": {},
   "outputs": [],
   "source": [
    "plt.figure(figsize=(10,8))\n",
    "sns.countplot(x='NetWorth_bins',data=usa)\n",
    "plt.title('Number of Billionaires in USA by Category')\n",
    "plt.ylabel('Count')\n",
    "plt.xlabel('NetWorth-bins')\n",
    "sns.despine()"
   ]
  },
  {
   "cell_type": "markdown",
   "id": "666db44d",
   "metadata": {},
   "source": [
    "Within the US, the majority of billionaires (557) have a net worth between 1 and 5 billion dollars, followed by 129 billionaires with a net worth between 5 to 10 billion dollars. Additionally, the US is home to 7 individuals who have a net worth exceeding 100 billion dollars."
   ]
  },
  {
   "cell_type": "code",
   "execution_count": null,
   "id": "3c411d6f",
   "metadata": {},
   "outputs": [],
   "source": [
    "usa.groupby('NetWorth_bins')['personName'].count()"
   ]
  },
  {
   "cell_type": "code",
   "execution_count": null,
   "id": "0cc8d179",
   "metadata": {},
   "outputs": [],
   "source": [
    "plt.figure(figsize=(10,8))\n",
    "sns.countplot(y='state',data=usa)\n",
    "plt.title('Number of Billionaires by State')\n",
    "plt.ylabel('State')\n",
    "plt.xlabel('Count')\n",
    "sns.despine()\n",
    "\n",
    "\n",
    "plt.show()"
   ]
  },
  {
   "cell_type": "markdown",
   "id": "da9c024c",
   "metadata": {},
   "source": [
    "The graph displays the distribution of billionaires across different states in the US. California leads the list with 186 billionaires, followed by New York with 135 billionaires. The concentration of technology giants in California and the presence of the financial hub in New York City could be the main contributing factors for the high number of billionaires in these states."
   ]
  },
  {
   "cell_type": "code",
   "execution_count": null,
   "id": "8df5a87c",
   "metadata": {},
   "outputs": [],
   "source": [
    "usa.groupby('state')['personName'].count()"
   ]
  },
  {
   "cell_type": "code",
   "execution_count": null,
   "id": "af8bb6a6",
   "metadata": {},
   "outputs": [],
   "source": [
    "sns.countplot(y='category',data=usa)\n",
    "plt.title('Number of US Billionaires by Industry')\n",
    "plt.ylabel('Industry')\n",
    "plt.xlabel('Count')\n",
    "sns.despine()"
   ]
  },
  {
   "cell_type": "markdown",
   "id": "6c5d693f",
   "metadata": {},
   "source": [
    "According to the graph, the Finance and Investment industry has the highest number of US billionaires with 200 individuals. The Technology industry follows closely with 150 billionaires, while the Food and Beverage industry produced 66 billionaires."
   ]
  },
  {
   "cell_type": "code",
   "execution_count": null,
   "id": "e4bafbcb",
   "metadata": {},
   "outputs": [],
   "source": [
    "done=usa.groupby('category')['personName'].count().reset_index()\n",
    "done"
   ]
  },
  {
   "cell_type": "code",
   "execution_count": null,
   "id": "a12d474f",
   "metadata": {},
   "outputs": [],
   "source": [
    "industry_mean=usa.groupby('category')['finalWorth'].mean().reset_index()\n",
    "industry_mean=industry_mean.sort_values(by='finalWorth',ascending=False).head(10)\n",
    "industry_mean"
   ]
  },
  {
   "cell_type": "code",
   "execution_count": null,
   "id": "ded1dc98",
   "metadata": {},
   "outputs": [],
   "source": [
    "sns.barplot(y='finalWorth',x='category',data=industry_mean)\n",
    "plt.title('Average US Net Worth by Industry')\n",
    "plt.ylabel('Net Worth')\n",
    "plt.xlabel('Industry')\n",
    "plt.xticks(rotation=90)\n",
    "plt.yticks([0,2500,5000,7500,10000,12500,15000,17500],['0','2.5B','5B','7.5B','10B','12.5B','15B','17.5B'])\n",
    "sns.despine()\n",
    "\n",
    "plt.show()"
   ]
  },
  {
   "cell_type": "markdown",
   "id": "9e32e193",
   "metadata": {},
   "source": [
    "According to the available data, the average net worth of a billionaire in the automotive industry is approximately 18 billion dollars, while the average net worth of a billionaire who has diversified investments in various industries is around 10 billion dollars."
   ]
  },
  {
   "cell_type": "code",
   "execution_count": null,
   "id": "22fa50ec",
   "metadata": {},
   "outputs": [],
   "source": [
    "industry_median=usa.groupby('category')['finalWorth'].median().reset_index()\n",
    "industry_median=industry_median.sort_values(by='finalWorth',ascending=False).head(10)\n",
    "industry_median"
   ]
  },
  {
   "cell_type": "code",
   "execution_count": null,
   "id": "ccbda91a",
   "metadata": {},
   "outputs": [],
   "source": [
    "sns.barplot(y='finalWorth',x='category',data=industry_median)\n",
    "plt.title('Median US Net Worth by Industry')\n",
    "plt.ylabel('Net Worth')\n",
    "plt.xlabel('Industry')\n",
    "plt.xticks(rotation=90)\n",
    "plt.yticks([0,1000,2000,3000,4000],['0','1B','2B','3B','4B'])\n",
    "sns.despine()\n",
    "\n",
    "plt.show()"
   ]
  },
  {
   "cell_type": "markdown",
   "id": "a6975bee",
   "metadata": {},
   "source": [
    "According to the data, the median net worth of a US billionaire in the logistics industry is 4.7 billion, while the median net worth of a US billionaire in the automotive industry is 3.2 billion. This is significantly smaller than the average net worth of a US billionaire in these industries. The difference in average and median net worth is mainly due to a few outliers such as Elon Musk, whose net worth is significantly higher than the rest of the billionaires in the automotive industry."
   ]
  },
  {
   "cell_type": "code",
   "execution_count": null,
   "id": "cac5b214",
   "metadata": {},
   "outputs": [],
   "source": [
    "source=usa.groupby('source')['personName'].count().reset_index()\n",
    "source=source.sort_values(by='personName',ascending=False).head(10)\n",
    "source"
   ]
  },
  {
   "cell_type": "code",
   "execution_count": null,
   "id": "5c227ce6",
   "metadata": {},
   "outputs": [],
   "source": [
    "sns.barplot(y='source',x='personName',data=source)\n",
    "plt.title('Number of Billionaires in USA by Source')\n",
    "plt.ylabel('Source')\n",
    "plt.xlabel('Count')\n",
    "sns.despine()"
   ]
  },
  {
   "cell_type": "markdown",
   "id": "b345a22f",
   "metadata": {},
   "source": [
    "The data shows that the largest group of US billionaires, with 40 individuals, made their fortune in the hedge fund industry. Following closely behind, 35 billionaires generated their wealth through investments, while another 35 amassed their billions through private equity."
   ]
  },
  {
   "cell_type": "code",
   "execution_count": null,
   "id": "57d38186",
   "metadata": {},
   "outputs": [],
   "source": [
    "usa.groupby('selfMade')['state'].count().reset_index()"
   ]
  },
  {
   "cell_type": "code",
   "execution_count": null,
   "id": "f08ee76c",
   "metadata": {},
   "outputs": [],
   "source": [
    "sns.countplot(x='selfMade',data=usa)\n",
    "plt.title(\"Self-Made vs Non Self-Made US Billionaires \")\n",
    "plt.ylabel('Count')\n",
    "plt.xlabel('Self-Made')\n",
    "sns.despine()\n",
    "plt.show()"
   ]
  },
  {
   "cell_type": "markdown",
   "id": "0ad0022e",
   "metadata": {},
   "source": [
    "According to the available data, there are 550 self-made billionaires in the US while 198 billionaires inherited their fortune. This means that approximately 73.5% of the billionaires in the US are self-made, while the remaining 26.5% of the billionaires have inherited their wealth."
   ]
  },
  {
   "cell_type": "code",
   "execution_count": null,
   "id": "ed8463e0",
   "metadata": {},
   "outputs": [],
   "source": [
    "usa_f= usa[usa['gender']=='F']\n",
    "usa_f.head()"
   ]
  },
  {
   "cell_type": "code",
   "execution_count": null,
   "id": "85d3bba8",
   "metadata": {},
   "outputs": [],
   "source": [
    "usa_f.groupby('selfMade')['state'].count().reset_index"
   ]
  },
  {
   "cell_type": "code",
   "execution_count": null,
   "id": "8d2b60fc",
   "metadata": {},
   "outputs": [],
   "source": [
    "sns.countplot(x='selfMade',data=usa_f)\n",
    "plt.title(\" Female Self-Made vs Non Self-Made US Billionaires \")\n",
    "plt.ylabel('Count')\n",
    "plt.xlabel('Self-Made')\n",
    "sns.despine()\n",
    "plt.show()"
   ]
  },
  {
   "cell_type": "markdown",
   "id": "9a6bada4",
   "metadata": {},
   "source": [
    "In the US, there are 67 female billionaires who did not make their own fortunes, and 21 who did. This means that around 76% of female billionaires in the US inherited their wealth, while approximately 24% are self-made"
   ]
  },
  {
   "cell_type": "markdown",
   "id": "1425028f",
   "metadata": {},
   "source": [
    "# China"
   ]
  },
  {
   "cell_type": "code",
   "execution_count": null,
   "id": "a6019eb0",
   "metadata": {},
   "outputs": [],
   "source": [
    "china=df[df['country']=='China']\n",
    "china.head()"
   ]
  },
  {
   "cell_type": "code",
   "execution_count": null,
   "id": "f9f1cabc",
   "metadata": {},
   "outputs": [],
   "source": [
    "top_10= china.sort_values(by='finalWorth',ascending=False).head(10)\n",
    "top_10.head()"
   ]
  },
  {
   "cell_type": "code",
   "execution_count": null,
   "id": "55dd23f4",
   "metadata": {},
   "outputs": [],
   "source": [
    "sns.barplot(x='personName',y='finalWorth',data=top_10)\n",
    "plt.title(\"China's Wealthiest Men\")\n",
    "plt.xlabel('Name')\n",
    "plt.ylabel('Net Worth')\n",
    "plt.xticks(rotation=90)\n",
    "plt.yticks([0,10000,20000,30000,40000,50000,60000],['0','10B','20B','30B','40B','50B','60B'])\n",
    "sns.despine()\n",
    "plt.show()"
   ]
  },
  {
   "cell_type": "markdown",
   "id": "7387292f",
   "metadata": {},
   "source": [
    "According to the graph, the top 10 richest individuals in China are depicted, with Zhong Shanshan taking the lead as the wealthiest person in China, with a net worth of around 66 billion dollars."
   ]
  },
  {
   "cell_type": "code",
   "execution_count": null,
   "id": "c26e4f38",
   "metadata": {},
   "outputs": [],
   "source": [
    "sns.countplot(y='category',data=china)\n",
    "plt.title(\"Number of Chinese Billionaires by Industry\")\n",
    "plt.ylabel('Cateogry')\n",
    "plt.xlabel('Net Worth')\n",
    "plt.xticks(rotation=90)\n",
    "sns.despine()\n",
    "\n",
    "plt.show()"
   ]
  },
  {
   "cell_type": "markdown",
   "id": "b4caf943",
   "metadata": {},
   "source": [
    "The graph depicts the number of Chinese billionaires by industry. The manufacturing industry generated approximately 160 Chinese billionaires, while the technology industry produced 88 billionaires in China."
   ]
  },
  {
   "cell_type": "code",
   "execution_count": null,
   "id": "55512f83",
   "metadata": {},
   "outputs": [],
   "source": [
    "china.groupby('category')['state'].count()"
   ]
  },
  {
   "cell_type": "code",
   "execution_count": null,
   "id": "c3b15493",
   "metadata": {},
   "outputs": [],
   "source": [
    "plt.figure(figsize=(10,5))\n",
    "sns.histplot(x='finalWorth',data=china)\n",
    "plt.xticks([0,10000,20000,30000,40000,50000,60000],['0','10B','20B','30B','40B','50B','60B'])\n",
    "plt.xlabel('Net Worth')\n",
    "plt.title('Wealth Distribution among Billionaires in China')\n",
    "plt.show()"
   ]
  },
  {
   "cell_type": "markdown",
   "id": "16e903a1",
   "metadata": {},
   "source": [
    "The graph illustrates the distribution of net worth among Chinese billionaires, which is right-skewed with a few extreme outliers. The range of the distribution is approximately 5.5 billion, indicating a large spread of wealth. The average net worth of Chinese billionaires is 3.76 billion, while the median is 1.9 billion. The interquartile range, which measures the spread of values around the median, is approximately 2.5 billion. "
   ]
  },
  {
   "cell_type": "code",
   "execution_count": null,
   "id": "9f0378c8",
   "metadata": {},
   "outputs": [],
   "source": [
    "china['finalWorth'].describe()"
   ]
  },
  {
   "cell_type": "code",
   "execution_count": null,
   "id": "98cde113",
   "metadata": {},
   "outputs": [],
   "source": [
    "sns.countplot(x='gender',data=china)\n",
    "plt.title(\"Number of Chinese Billionaires by Gender \")\n",
    "plt.ylabel('Count')\n",
    "plt.xlabel('Gender')\n",
    "\n",
    "sns.despine()"
   ]
  },
  {
   "cell_type": "markdown",
   "id": "5d301edf",
   "metadata": {},
   "source": [
    "The number of male billionaires in China is 517, whereas the number of female billionaires is 53. This indicates that approximately 90.7% of billionaires in China are male, and only about 9.3% are female."
   ]
  },
  {
   "cell_type": "code",
   "execution_count": null,
   "id": "2b4d8967",
   "metadata": {},
   "outputs": [],
   "source": [
    "china.groupby('gender')['state'].count()"
   ]
  },
  {
   "cell_type": "code",
   "execution_count": null,
   "id": "fbbd23f5",
   "metadata": {},
   "outputs": [],
   "source": [
    "sns.countplot(x='selfMade',data=china)\n",
    "plt.title(\"Self-Made vs Non Self-Made Chinese Billionaires \")\n",
    "plt.ylabel('Count')\n",
    "plt.xlabel('Self-Made')\n",
    "sns.despine()\n",
    "plt.show()"
   ]
  },
  {
   "cell_type": "code",
   "execution_count": null,
   "id": "405d1b65",
   "metadata": {},
   "outputs": [],
   "source": [
    "chin=china.groupby('selfMade')['gender'].count().reset_index()\n",
    "chin"
   ]
  },
  {
   "cell_type": "markdown",
   "id": "932b66a3",
   "metadata": {},
   "source": [
    "Self-made billionaires are much more common in China, with 553 having earned their fortunes through hard work, while only 18 billionaires inherited their wealth."
   ]
  },
  {
   "cell_type": "code",
   "execution_count": null,
   "id": "237627f9",
   "metadata": {},
   "outputs": [],
   "source": [
    "city=china.groupby('city')['state'].count().reset_index()\n",
    "city"
   ]
  },
  {
   "cell_type": "code",
   "execution_count": null,
   "id": "9c3e8219",
   "metadata": {},
   "outputs": [],
   "source": [
    "top_cities=city.sort_values(by='state',ascending=False).head(10)\n",
    "top_cities"
   ]
  },
  {
   "cell_type": "code",
   "execution_count": null,
   "id": "59be230a",
   "metadata": {},
   "outputs": [],
   "source": [
    "sns.barplot(x='state',y='city',data=top_cities)\n",
    "plt.title('Number of Billionaires by City')\n",
    "plt.xlabel('Count')\n",
    "plt.ylabel('City')\n",
    "sns.despine()\n",
    "\n",
    "plt.show() "
   ]
  },
  {
   "cell_type": "markdown",
   "id": "a0a6e3fb",
   "metadata": {},
   "source": [
    "The graph represents the distribution of Chinese billionaires across different cities. Among all cities in China, Beijing has the highest number of billionaires, with a total of 83. Shanghai comes second with 61 billionaires, followed by Shenzhen with 59 billionaires."
   ]
  },
  {
   "cell_type": "code",
   "execution_count": null,
   "id": "3be1421c",
   "metadata": {},
   "outputs": [],
   "source": [
    "chin_f= china[china['gender']=='F']\n",
    "chin_f"
   ]
  },
  {
   "cell_type": "code",
   "execution_count": null,
   "id": "9fdd0098",
   "metadata": {},
   "outputs": [],
   "source": [
    "sns.countplot(x='selfMade',data=chin_f)\n",
    "plt.title('Number of Female Self-Made vs Non Self-Made in China')\n",
    "plt.ylabel('Count')\n",
    "plt.xlabel('Self-Made')\n",
    "sns.despine()\n",
    "\n",
    "plt.show()"
   ]
  },
  {
   "cell_type": "markdown",
   "id": "7faec230",
   "metadata": {},
   "source": [
    " This graph shows that the majority of female Chinese billionaires (85%) are self-made, while only a small percentage (15%) inherited their wealth. Out of 53 female Chinese billionaires, 45 of them are self-made, meaning they built their wealth through their own efforts and entrepreneurship. This is a positive sign of progress for women in China, who have traditionally faced barriers to achieving economic success and financial independence."
   ]
  },
  {
   "cell_type": "code",
   "execution_count": null,
   "id": "e4cd54da",
   "metadata": {},
   "outputs": [],
   "source": [
    "chin_f.groupby('selfMade')['state'].count()"
   ]
  },
  {
   "cell_type": "code",
   "execution_count": null,
   "id": "79a24f77",
   "metadata": {},
   "outputs": [],
   "source": [
    "china_source=china.groupby('source')['state'].count().reset_index()\n",
    "china_source= china_source.sort_values(by='state',ascending=False).head(10)\n",
    "china_source "
   ]
  },
  {
   "cell_type": "code",
   "execution_count": null,
   "id": "ac8994e0",
   "metadata": {},
   "outputs": [],
   "source": [
    "sns.barplot(y='source',x='state',data=china_source)\n",
    "plt.title('Top 10 Sources that made Chinese Billionaires')\n",
    "plt.xlabel('Source')\n",
    "plt.ylabel('Count')\n",
    "plt.xticks(rotation=90)\n",
    "sns.despine()\n",
    "\n",
    "\n",
    "plt.show()"
   ]
  },
  {
   "cell_type": "markdown",
   "id": "95f33304",
   "metadata": {},
   "source": [
    "The chart depicts the major sources of wealth for Chinese billionaires. The pharmaceutical industry is the leading source of wealth for 38 Chinese billionaires. Real estate follows closely behind with 37 billionaires, while 18 billionaires made their fortune in the chemical industry."
   ]
  },
  {
   "cell_type": "code",
   "execution_count": null,
   "id": "4d07bbe9",
   "metadata": {},
   "outputs": [],
   "source": [
    "china.head(5)"
   ]
  },
  {
   "cell_type": "code",
   "execution_count": null,
   "id": "d47c7c58",
   "metadata": {},
   "outputs": [],
   "source": [
    "ranges = [990,5000,10000,20000,30000,40000,50000,60000,70000]\n",
    "labels=['1-5B','5-10B','10-20B','20-30B','30-40B','40-50','50-60B','60B+']\n",
    "\n",
    "china['bins']= pd.cut(china['finalWorth'],bins=ranges,labels=labels)"
   ]
  },
  {
   "cell_type": "code",
   "execution_count": null,
   "id": "05ae9540",
   "metadata": {},
   "outputs": [],
   "source": [
    "china[['finalWorth','bins']]"
   ]
  },
  {
   "cell_type": "code",
   "execution_count": null,
   "id": "d77d77f0",
   "metadata": {},
   "outputs": [],
   "source": [
    "china_bins=china.groupby('bins')['state'].count().reset_index()\n",
    "china_bins"
   ]
  },
  {
   "cell_type": "code",
   "execution_count": null,
   "id": "ab3e37e1",
   "metadata": {},
   "outputs": [],
   "source": [
    "sns.barplot(x='bins',y='state',data=china_bins)\n",
    "plt.title('Number of Billionaires in China by Category')\n",
    "plt.xlabel('Net Worth bins')\n",
    "plt.ylabel('Count')\n",
    "sns.despine()\n",
    "plt.show()"
   ]
  },
  {
   "cell_type": "code",
   "execution_count": null,
   "id": "422f2c5a",
   "metadata": {},
   "outputs": [],
   "source": [
    "industry_avg = china.groupby('category')['finalWorth'].mean().reset_index()\n",
    "industry_avg=industry_avg.sort_values(by='finalWorth',ascending=False).head(10)\n",
    "industry_avg"
   ]
  },
  {
   "cell_type": "code",
   "execution_count": null,
   "id": "7da5b2d5",
   "metadata": {},
   "outputs": [],
   "source": [
    "sns.barplot(y='finalWorth',x='category',data=industry_avg)\n",
    "plt.xticks(rotation=90)\n",
    "plt.ylabel('Net Worth')\n",
    "plt.xlabel('Industry')\n",
    "plt.title('Average Net Worth of Chinese Billionaires by Industry')\n",
    "sns.despine()\n",
    "plt.yticks([0,2000,4000,6000,8000],['0','2B','4B','6B','8B'])\n",
    "\n",
    "\n",
    "plt.show()"
   ]
  },
  {
   "cell_type": "markdown",
   "id": "9e670c96",
   "metadata": {},
   "source": [
    "According to the graph, the average net worth of Chinese billionaires varies by industry. The automotive industry has the highest average net worth at approximately 9 billion dollars, followed by the media and entertainment industry. Other industries with relatively high average net worths include real estate, diversified, and pharmaceuticals."
   ]
  },
  {
   "cell_type": "code",
   "execution_count": null,
   "id": "8110764d",
   "metadata": {},
   "outputs": [],
   "source": [
    "industry_median = china.groupby('category')['finalWorth'].median().reset_index()\n",
    "industry_median=industry_median.sort_values(by='finalWorth',ascending=False).head(10)\n",
    "industry_median"
   ]
  },
  {
   "cell_type": "code",
   "execution_count": null,
   "id": "d8d0f1cd",
   "metadata": {},
   "outputs": [],
   "source": [
    "sns.barplot(y='finalWorth',x='category',data=industry_median)\n",
    "plt.xticks(rotation=90)\n",
    "plt.ylabel('Net Worth')\n",
    "plt.xlabel('Industry')\n",
    "plt.title('Median Net Worth of Chinese Billionaires by Industry')\n",
    "sns.despine()\n",
    "plt.yticks([0,1000,1500,2000,2500,3000,3500,4000],['0','1B','1.5B','2B','2.5B','3B','3.5B','4B'])\n",
    "\n",
    "plt.show()"
   ]
  },
  {
   "cell_type": "markdown",
   "id": "cd7074d1",
   "metadata": {},
   "source": [
    "According to the data, the median net worth of a Chinese billionaire operating in the automotive industry is approximately 3.9 billion dollars, which is less than half of the average net worth for a Chinese billionaire in that industry. The finance and investment industry ranks second in this category with a median net worth of approximately 3.3 billion dollars."
   ]
  },
  {
   "cell_type": "markdown",
   "id": "d6fd7eee",
   "metadata": {},
   "source": [
    "# USA VS CHINA "
   ]
  },
  {
   "cell_type": "markdown",
   "id": "a37272d8",
   "metadata": {},
   "source": [
    "To compare the wealth of the top 10 richest men in China and the US, the data shows that the top 10 richest men in the US are wealthier than the top 10 richest men in China. While China has two billionaires worth more than 50 billion, the tenth richest man in the US, Mark Zuckerberg, is worth more than China's richest man, Zhong Shanshan. On average, American billionaires have a net worth of around 6.35 billion US dollars, while Chinese billionaires have an average net worth of roughly 3.76 billion US dollars."
   ]
  },
  {
   "cell_type": "code",
   "execution_count": null,
   "id": "e72c5bfb",
   "metadata": {},
   "outputs": [],
   "source": [
    "usa['finalWorth'].mean()"
   ]
  },
  {
   "cell_type": "code",
   "execution_count": null,
   "id": "9ba1a56a",
   "metadata": {},
   "outputs": [],
   "source": [
    "china['finalWorth'].mean()"
   ]
  },
  {
   "cell_type": "markdown",
   "id": "654cc86c",
   "metadata": {},
   "source": [
    "The gender proportions of billionaires in China and the US are very similar. Around 90.7% of Chinese billionaires are male, while approximately 9.3% are female. In the US, 88% of all billionaires are male and approximately 12% are female."
   ]
  },
  {
   "cell_type": "markdown",
   "id": "a9bb9d61",
   "metadata": {},
   "source": [
    "To summarize, while both China and the US have right-skewed wealth distributions with outliers, the US has a higher average net worth and a wider spread in its dataset than China. The median net worth in the US is also higher than in China, but the middle 50% of values are more tightly clustered around the median in China.\n",
    "\n",
    "Both distributions are right skewed and contain a outliers. The US has a higher average net worth of 6.35 billion versus the 3.76 billions in China. The median in USA is 2.9 billion versus 1.9 B in China. The US has a much bigger standard deviation or spread in its dataset at 15.5 billion versus 5.5 billion in China. The spread of the middle 50% values in the US was 3.4B vs 2.5B in China. "
   ]
  },
  {
   "cell_type": "markdown",
   "id": "c7fa3b2d",
   "metadata": {},
   "source": [
    "To clarify, the data suggests that in both China and the US, the majority of billionaires fall in the 1 to 5 billion dollar category. However, China has two individuals in the 40 to 50 billion dollar bin, which is the same as the US. In addition, China has one billionaire who is worth approximately 65 billion dollars. On the other hand, the US has 9 individuals in the 50 to 100 billion dollar bin, 5 individuals in the 100 to 150 billion dollar bin, and 2 individuals worth more than 150 billion dollars."
   ]
  },
  {
   "cell_type": "markdown",
   "id": "4a9194e6",
   "metadata": {},
   "source": [
    "The Finance & Investments industry is the primary source of wealth for most billionaires in the US, whereas in China, the manufacturing industry is the most common industry for billionaires to accumulate their wealth. The technology industry is the second most prolific industry for billionaires in both countries. The US also has a significant number of billionaires in the Food & Beverage industry, while in China, the Health Care industry is the third most prominent source of billionaire wealth."
   ]
  },
  {
   "cell_type": "markdown",
   "id": "56a15fdb",
   "metadata": {},
   "source": [
    "The top source of wealth for billionaires in China is the pharmaceutical industry, with the highest number of Chinese billionaires having made their fortune in this field. On the other hand, in the US, the hedge fund industry is the primary source of wealth for billionaires. Real estate is the second most common source of wealth in China, with 37 Chinese billionaires having made their fortune in this industry. In contrast, in the US, the second most common source of wealth is investment, followed by private equity. The third most common source of wealth in China is the chemical industry."
   ]
  },
  {
   "cell_type": "markdown",
   "id": "f1cc937d",
   "metadata": {},
   "source": [
    "The majority of female billionaires in China are self-made, with 85% of them having earned their fortune through their own efforts, while only 8 inherited their wealth. On the other hand, in the US, the majority of female billionaires are non self-made, with 76% of them having inherited their wealth, and only 24% having made their own fortune."
   ]
  },
  {
   "cell_type": "markdown",
   "id": "87b7d9d7",
   "metadata": {},
   "source": [
    "Self-Made vs Non Self-Made Chinese Billionaires\n",
    "\n",
    "In China 553 billionaires or about 96.85% are self-made. Only 3.15% or 18 billionaires inherited their fortune. \n",
    "In the US 550 billionaires or 73.5% are self-made, while about 26.5% of the billionaires inherited their fortune. \n",
    "\n",
    "Almost all of chinese billionaires earned their bilions,while only  about 74% of US billions earned their own money.\n",
    "\n",
    "China has a bigger percentage of self-made billionaires than the US."
   ]
  },
  {
   "cell_type": "markdown",
   "id": "8fe1227b",
   "metadata": {},
   "source": [
    "The vast majority of billionaires in China, around 96.85%, are self-made, with only a small percentage of 3.15% having inherited their wealth. In contrast, the US has 73.5% self-made billionaires, while 26.5% inherited their wealth. This means that almost all Chinese billionaires earned their fortunes through their own efforts, while in the US, only around 74% of billionaires are self-made. Therefore, China has a higher proportion of self-made billionaires than the US."
   ]
  },
  {
   "cell_type": "code",
   "execution_count": 38,
   "id": "d1288708",
   "metadata": {},
   "outputs": [
    {
     "data": {
      "text/plain": [
       "64.21068938807126"
      ]
     },
     "execution_count": 38,
     "metadata": {},
     "output_type": "execute_result"
    }
   ],
   "source": [
    "df['age'].mean()"
   ]
  }
 ],
 "metadata": {
  "kernelspec": {
   "display_name": "Python 3 (ipykernel)",
   "language": "python",
   "name": "python3"
  },
  "language_info": {
   "codemirror_mode": {
    "name": "ipython",
    "version": 3
   },
   "file_extension": ".py",
   "mimetype": "text/x-python",
   "name": "python",
   "nbconvert_exporter": "python",
   "pygments_lexer": "ipython3",
   "version": "3.9.13"
  }
 },
 "nbformat": 4,
 "nbformat_minor": 5
}
