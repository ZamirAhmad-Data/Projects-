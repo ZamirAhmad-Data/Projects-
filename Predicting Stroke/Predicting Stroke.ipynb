{
 "cells": [
  {
   "cell_type": "code",
   "execution_count": 99,
   "id": "3b5e0168",
   "metadata": {},
   "outputs": [],
   "source": [
    "import pandas as pd \n",
    "import seaborn as sns\n",
    "from sklearn.impute import KNNImputer\n",
    "import numpy as np\n",
    "import matplotlib.pyplot as plt"
   ]
  },
  {
   "cell_type": "markdown",
   "id": "190f6c14",
   "metadata": {},
   "source": [
    "The project's goal is to forecast the binary variable stroke. Within the dataset, there are 10 variables at our disposal for determining the likelihood of a stroke. Here are the independent variables along with their corresponding descriptions:\n",
    "\n",
    "The columns: \n",
    "\n",
    "1.\tID: A unique number assigned to each individual.\n",
    "2.\tGender: Indicates the gender of the individuals.\n",
    "3.\tAge: Represents the age of each individual.\n",
    "4.\tHypertension: Indicates whether the person has a history of hypertension. It takes a value of 1 for yes and 0 for no.\n",
    "5.\tEver_married: Indicates whether the individual has been married. It can be either \"Yes\" or \"No\".\n",
    "6.\tWork_type: Categorizes the individual's employment status into four categories: Private (working for a privately owned company), Self-employed, Government employee, has children,or Never worked.\n",
    "7.\tSmoking_status: Classifies the individual's smoking status into four categories: Formerly smoked, Never smoked, Smokes, and Unknown.\n",
    "8.\tBMI: Represents the Body Mass Index of each individual.\n",
    "9.\tResidence_type: Categorizes the individual's residence into two categories: Urban or Rural.\n",
    "10.\tAvg_glucose_level: Indicates the average glucose level of the individual.\n",
    "11.\tStroke: Indicates whether the individual has a history of stroke. It takes a value of 1 for yes and 0 for no."
   ]
  },
  {
   "cell_type": "markdown",
   "id": "ef44ff40",
   "metadata": {},
   "source": [
    "# DATA VALIDATION"
   ]
  },
  {
   "cell_type": "code",
   "execution_count": 2,
   "id": "13fc0a42",
   "metadata": {},
   "outputs": [],
   "source": [
    "df = pd.read_csv('healthcare-dataset-stroke-data.csv')"
   ]
  },
  {
   "cell_type": "code",
   "execution_count": 3,
   "id": "90d935a1",
   "metadata": {},
   "outputs": [
    {
     "data": {
      "text/html": [
       "<div>\n",
       "<style scoped>\n",
       "    .dataframe tbody tr th:only-of-type {\n",
       "        vertical-align: middle;\n",
       "    }\n",
       "\n",
       "    .dataframe tbody tr th {\n",
       "        vertical-align: top;\n",
       "    }\n",
       "\n",
       "    .dataframe thead th {\n",
       "        text-align: right;\n",
       "    }\n",
       "</style>\n",
       "<table border=\"1\" class=\"dataframe\">\n",
       "  <thead>\n",
       "    <tr style=\"text-align: right;\">\n",
       "      <th></th>\n",
       "      <th>id</th>\n",
       "      <th>gender</th>\n",
       "      <th>age</th>\n",
       "      <th>hypertension</th>\n",
       "      <th>heart_disease</th>\n",
       "      <th>ever_married</th>\n",
       "      <th>work_type</th>\n",
       "      <th>Residence_type</th>\n",
       "      <th>avg_glucose_level</th>\n",
       "      <th>bmi</th>\n",
       "      <th>smoking_status</th>\n",
       "      <th>stroke</th>\n",
       "    </tr>\n",
       "  </thead>\n",
       "  <tbody>\n",
       "    <tr>\n",
       "      <th>0</th>\n",
       "      <td>9046</td>\n",
       "      <td>Male</td>\n",
       "      <td>67.0</td>\n",
       "      <td>0</td>\n",
       "      <td>1</td>\n",
       "      <td>Yes</td>\n",
       "      <td>Private</td>\n",
       "      <td>Urban</td>\n",
       "      <td>228.69</td>\n",
       "      <td>36.6</td>\n",
       "      <td>formerly smoked</td>\n",
       "      <td>1</td>\n",
       "    </tr>\n",
       "    <tr>\n",
       "      <th>1</th>\n",
       "      <td>51676</td>\n",
       "      <td>Female</td>\n",
       "      <td>61.0</td>\n",
       "      <td>0</td>\n",
       "      <td>0</td>\n",
       "      <td>Yes</td>\n",
       "      <td>Self-employed</td>\n",
       "      <td>Rural</td>\n",
       "      <td>202.21</td>\n",
       "      <td>NaN</td>\n",
       "      <td>never smoked</td>\n",
       "      <td>1</td>\n",
       "    </tr>\n",
       "    <tr>\n",
       "      <th>2</th>\n",
       "      <td>31112</td>\n",
       "      <td>Male</td>\n",
       "      <td>80.0</td>\n",
       "      <td>0</td>\n",
       "      <td>1</td>\n",
       "      <td>Yes</td>\n",
       "      <td>Private</td>\n",
       "      <td>Rural</td>\n",
       "      <td>105.92</td>\n",
       "      <td>32.5</td>\n",
       "      <td>never smoked</td>\n",
       "      <td>1</td>\n",
       "    </tr>\n",
       "    <tr>\n",
       "      <th>3</th>\n",
       "      <td>60182</td>\n",
       "      <td>Female</td>\n",
       "      <td>49.0</td>\n",
       "      <td>0</td>\n",
       "      <td>0</td>\n",
       "      <td>Yes</td>\n",
       "      <td>Private</td>\n",
       "      <td>Urban</td>\n",
       "      <td>171.23</td>\n",
       "      <td>34.4</td>\n",
       "      <td>smokes</td>\n",
       "      <td>1</td>\n",
       "    </tr>\n",
       "    <tr>\n",
       "      <th>4</th>\n",
       "      <td>1665</td>\n",
       "      <td>Female</td>\n",
       "      <td>79.0</td>\n",
       "      <td>1</td>\n",
       "      <td>0</td>\n",
       "      <td>Yes</td>\n",
       "      <td>Self-employed</td>\n",
       "      <td>Rural</td>\n",
       "      <td>174.12</td>\n",
       "      <td>24.0</td>\n",
       "      <td>never smoked</td>\n",
       "      <td>1</td>\n",
       "    </tr>\n",
       "  </tbody>\n",
       "</table>\n",
       "</div>"
      ],
      "text/plain": [
       "      id  gender   age  hypertension  heart_disease ever_married  \\\n",
       "0   9046    Male  67.0             0              1          Yes   \n",
       "1  51676  Female  61.0             0              0          Yes   \n",
       "2  31112    Male  80.0             0              1          Yes   \n",
       "3  60182  Female  49.0             0              0          Yes   \n",
       "4   1665  Female  79.0             1              0          Yes   \n",
       "\n",
       "       work_type Residence_type  avg_glucose_level   bmi   smoking_status  \\\n",
       "0        Private          Urban             228.69  36.6  formerly smoked   \n",
       "1  Self-employed          Rural             202.21   NaN     never smoked   \n",
       "2        Private          Rural             105.92  32.5     never smoked   \n",
       "3        Private          Urban             171.23  34.4           smokes   \n",
       "4  Self-employed          Rural             174.12  24.0     never smoked   \n",
       "\n",
       "   stroke  \n",
       "0       1  \n",
       "1       1  \n",
       "2       1  \n",
       "3       1  \n",
       "4       1  "
      ]
     },
     "execution_count": 3,
     "metadata": {},
     "output_type": "execute_result"
    }
   ],
   "source": [
    "df.head()"
   ]
  },
  {
   "cell_type": "code",
   "execution_count": 4,
   "id": "d25a2d61",
   "metadata": {},
   "outputs": [
    {
     "name": "stdout",
     "output_type": "stream",
     "text": [
      "<class 'pandas.core.frame.DataFrame'>\n",
      "RangeIndex: 5110 entries, 0 to 5109\n",
      "Data columns (total 12 columns):\n",
      " #   Column             Non-Null Count  Dtype  \n",
      "---  ------             --------------  -----  \n",
      " 0   id                 5110 non-null   int64  \n",
      " 1   gender             5110 non-null   object \n",
      " 2   age                5110 non-null   float64\n",
      " 3   hypertension       5110 non-null   int64  \n",
      " 4   heart_disease      5110 non-null   int64  \n",
      " 5   ever_married       5110 non-null   object \n",
      " 6   work_type          5110 non-null   object \n",
      " 7   Residence_type     5110 non-null   object \n",
      " 8   avg_glucose_level  5110 non-null   float64\n",
      " 9   bmi                4909 non-null   float64\n",
      " 10  smoking_status     5110 non-null   object \n",
      " 11  stroke             5110 non-null   int64  \n",
      "dtypes: float64(3), int64(4), object(5)\n",
      "memory usage: 479.2+ KB\n"
     ]
    }
   ],
   "source": [
    "df.info()"
   ]
  },
  {
   "cell_type": "code",
   "execution_count": 5,
   "id": "0edd3b8a",
   "metadata": {},
   "outputs": [
    {
     "data": {
      "text/plain": [
       "id                     0\n",
       "gender                 0\n",
       "age                    0\n",
       "hypertension           0\n",
       "heart_disease          0\n",
       "ever_married           0\n",
       "work_type              0\n",
       "Residence_type         0\n",
       "avg_glucose_level      0\n",
       "bmi                  201\n",
       "smoking_status         0\n",
       "stroke                 0\n",
       "dtype: int64"
      ]
     },
     "execution_count": 5,
     "metadata": {},
     "output_type": "execute_result"
    }
   ],
   "source": [
    "df.isna().sum()"
   ]
  },
  {
   "cell_type": "code",
   "execution_count": 6,
   "id": "97c3ae01",
   "metadata": {},
   "outputs": [
    {
     "data": {
      "text/plain": [
       "0"
      ]
     },
     "execution_count": 6,
     "metadata": {},
     "output_type": "execute_result"
    }
   ],
   "source": [
    "duplicates = df.duplicated(subset = ['id','gender','age'])\n",
    "duplicates.sum()"
   ]
  },
  {
   "cell_type": "code",
   "execution_count": 7,
   "id": "c0df7ecc",
   "metadata": {},
   "outputs": [
    {
     "name": "stdout",
     "output_type": "stream",
     "text": [
      "<class 'pandas.core.frame.DataFrame'>\n",
      "RangeIndex: 5110 entries, 0 to 5109\n",
      "Data columns (total 12 columns):\n",
      " #   Column             Non-Null Count  Dtype  \n",
      "---  ------             --------------  -----  \n",
      " 0   id                 5110 non-null   int64  \n",
      " 1   gender             5110 non-null   object \n",
      " 2   age                5110 non-null   int64  \n",
      " 3   hypertension       5110 non-null   int64  \n",
      " 4   heart_disease      5110 non-null   int64  \n",
      " 5   ever_married       5110 non-null   object \n",
      " 6   work_type          5110 non-null   object \n",
      " 7   Residence_type     5110 non-null   object \n",
      " 8   avg_glucose_level  5110 non-null   float64\n",
      " 9   bmi                4909 non-null   float64\n",
      " 10  smoking_status     5110 non-null   object \n",
      " 11  stroke             5110 non-null   int64  \n",
      "dtypes: float64(2), int64(5), object(5)\n",
      "memory usage: 479.2+ KB\n"
     ]
    }
   ],
   "source": [
    "df['age'] = df['age'].astype('int64')\n",
    "df.info()"
   ]
  },
  {
   "cell_type": "code",
   "execution_count": 8,
   "id": "c1a20b7d",
   "metadata": {},
   "outputs": [
    {
     "data": {
      "text/plain": [
       "count    5110.000000\n",
       "mean       43.215264\n",
       "std        22.633866\n",
       "min         0.000000\n",
       "25%        25.000000\n",
       "50%        45.000000\n",
       "75%        61.000000\n",
       "max        82.000000\n",
       "Name: age, dtype: float64"
      ]
     },
     "execution_count": 8,
     "metadata": {},
     "output_type": "execute_result"
    }
   ],
   "source": [
    "df['age'].describe()"
   ]
  },
  {
   "cell_type": "code",
   "execution_count": 9,
   "id": "82e507e4",
   "metadata": {},
   "outputs": [
    {
     "data": {
      "text/plain": [
       "count    5110.000000\n",
       "mean      106.147677\n",
       "std        45.283560\n",
       "min        55.120000\n",
       "25%        77.245000\n",
       "50%        91.885000\n",
       "75%       114.090000\n",
       "max       271.740000\n",
       "Name: avg_glucose_level, dtype: float64"
      ]
     },
     "execution_count": 9,
     "metadata": {},
     "output_type": "execute_result"
    }
   ],
   "source": [
    "df['avg_glucose_level'].describe()"
   ]
  },
  {
   "cell_type": "markdown",
   "id": "e1102f9d",
   "metadata": {},
   "source": [
    "# Handling missing values"
   ]
  },
  {
   "cell_type": "code",
   "execution_count": 10,
   "id": "9dd1f3ec",
   "metadata": {},
   "outputs": [
    {
     "data": {
      "text/plain": [
       "count    4909.000000\n",
       "mean       28.893237\n",
       "std         7.854067\n",
       "min        10.300000\n",
       "25%        23.500000\n",
       "50%        28.100000\n",
       "75%        33.100000\n",
       "max        97.600000\n",
       "Name: bmi, dtype: float64"
      ]
     },
     "execution_count": 10,
     "metadata": {},
     "output_type": "execute_result"
    }
   ],
   "source": [
    "df['bmi'].describe()"
   ]
  },
  {
   "cell_type": "markdown",
   "id": "097323eb",
   "metadata": {},
   "source": [
    "The Body Mass Index is calculated using this formula : BMI = weight (kg) / (height (m))^2 \n",
    "BMI doesn't take  muscle mass or body composition into account. It's a measure used to asses the body weight relative to height. \n",
    "\n",
    "Individuals with a bmi below 18.5 are considered underweight. \n"
   ]
  },
  {
   "cell_type": "code",
   "execution_count": 11,
   "id": "55f26f39",
   "metadata": {},
   "outputs": [
    {
     "data": {
      "text/html": [
       "<div>\n",
       "<style scoped>\n",
       "    .dataframe tbody tr th:only-of-type {\n",
       "        vertical-align: middle;\n",
       "    }\n",
       "\n",
       "    .dataframe tbody tr th {\n",
       "        vertical-align: top;\n",
       "    }\n",
       "\n",
       "    .dataframe thead th {\n",
       "        text-align: right;\n",
       "    }\n",
       "</style>\n",
       "<table border=\"1\" class=\"dataframe\">\n",
       "  <thead>\n",
       "    <tr style=\"text-align: right;\">\n",
       "      <th></th>\n",
       "      <th>id</th>\n",
       "      <th>age</th>\n",
       "      <th>hypertension</th>\n",
       "      <th>heart_disease</th>\n",
       "      <th>avg_glucose_level</th>\n",
       "      <th>bmi</th>\n",
       "      <th>stroke</th>\n",
       "    </tr>\n",
       "  </thead>\n",
       "  <tbody>\n",
       "    <tr>\n",
       "      <th>id</th>\n",
       "      <td>1.000000</td>\n",
       "      <td>0.003503</td>\n",
       "      <td>0.003550</td>\n",
       "      <td>-0.001296</td>\n",
       "      <td>0.001092</td>\n",
       "      <td>0.003084</td>\n",
       "      <td>0.006388</td>\n",
       "    </tr>\n",
       "    <tr>\n",
       "      <th>age</th>\n",
       "      <td>0.003503</td>\n",
       "      <td>1.000000</td>\n",
       "      <td>0.276303</td>\n",
       "      <td>0.263668</td>\n",
       "      <td>0.238060</td>\n",
       "      <td>0.333738</td>\n",
       "      <td>0.245128</td>\n",
       "    </tr>\n",
       "    <tr>\n",
       "      <th>hypertension</th>\n",
       "      <td>0.003550</td>\n",
       "      <td>0.276303</td>\n",
       "      <td>1.000000</td>\n",
       "      <td>0.108306</td>\n",
       "      <td>0.174474</td>\n",
       "      <td>0.167811</td>\n",
       "      <td>0.127904</td>\n",
       "    </tr>\n",
       "    <tr>\n",
       "      <th>heart_disease</th>\n",
       "      <td>-0.001296</td>\n",
       "      <td>0.263668</td>\n",
       "      <td>0.108306</td>\n",
       "      <td>1.000000</td>\n",
       "      <td>0.161857</td>\n",
       "      <td>0.041357</td>\n",
       "      <td>0.134914</td>\n",
       "    </tr>\n",
       "    <tr>\n",
       "      <th>avg_glucose_level</th>\n",
       "      <td>0.001092</td>\n",
       "      <td>0.238060</td>\n",
       "      <td>0.174474</td>\n",
       "      <td>0.161857</td>\n",
       "      <td>1.000000</td>\n",
       "      <td>0.175502</td>\n",
       "      <td>0.131945</td>\n",
       "    </tr>\n",
       "    <tr>\n",
       "      <th>bmi</th>\n",
       "      <td>0.003084</td>\n",
       "      <td>0.333738</td>\n",
       "      <td>0.167811</td>\n",
       "      <td>0.041357</td>\n",
       "      <td>0.175502</td>\n",
       "      <td>1.000000</td>\n",
       "      <td>0.042374</td>\n",
       "    </tr>\n",
       "    <tr>\n",
       "      <th>stroke</th>\n",
       "      <td>0.006388</td>\n",
       "      <td>0.245128</td>\n",
       "      <td>0.127904</td>\n",
       "      <td>0.134914</td>\n",
       "      <td>0.131945</td>\n",
       "      <td>0.042374</td>\n",
       "      <td>1.000000</td>\n",
       "    </tr>\n",
       "  </tbody>\n",
       "</table>\n",
       "</div>"
      ],
      "text/plain": [
       "                         id       age  hypertension  heart_disease  \\\n",
       "id                 1.000000  0.003503      0.003550      -0.001296   \n",
       "age                0.003503  1.000000      0.276303       0.263668   \n",
       "hypertension       0.003550  0.276303      1.000000       0.108306   \n",
       "heart_disease     -0.001296  0.263668      0.108306       1.000000   \n",
       "avg_glucose_level  0.001092  0.238060      0.174474       0.161857   \n",
       "bmi                0.003084  0.333738      0.167811       0.041357   \n",
       "stroke             0.006388  0.245128      0.127904       0.134914   \n",
       "\n",
       "                   avg_glucose_level       bmi    stroke  \n",
       "id                          0.001092  0.003084  0.006388  \n",
       "age                         0.238060  0.333738  0.245128  \n",
       "hypertension                0.174474  0.167811  0.127904  \n",
       "heart_disease               0.161857  0.041357  0.134914  \n",
       "avg_glucose_level           1.000000  0.175502  0.131945  \n",
       "bmi                         0.175502  1.000000  0.042374  \n",
       "stroke                      0.131945  0.042374  1.000000  "
      ]
     },
     "execution_count": 11,
     "metadata": {},
     "output_type": "execute_result"
    }
   ],
   "source": [
    "df.corr()"
   ]
  },
  {
   "cell_type": "markdown",
   "id": "9d3c3069",
   "metadata": {},
   "source": [
    "There is no significant correlation between the BMI variable and any other variables. Therefore, employing group-based imputation or regression imputation methods would not be meaningful. Considering that only approximately 4% of the records have missing values in the BMI column, it would be more reasonable to utilize median imputation instead of removing the entire column."
   ]
  },
  {
   "cell_type": "code",
   "execution_count": 12,
   "id": "6dcef829",
   "metadata": {},
   "outputs": [
    {
     "data": {
      "text/plain": [
       "45.0"
      ]
     },
     "execution_count": 12,
     "metadata": {},
     "output_type": "execute_result"
    }
   ],
   "source": [
    "median_bmi = df['age'].median()\n",
    "median_bmi"
   ]
  },
  {
   "cell_type": "code",
   "execution_count": 13,
   "id": "eef8d5aa",
   "metadata": {},
   "outputs": [],
   "source": [
    "df['bmi']=df['bmi'].fillna(median_bmi)"
   ]
  },
  {
   "cell_type": "code",
   "execution_count": 14,
   "id": "515460cf",
   "metadata": {},
   "outputs": [
    {
     "name": "stdout",
     "output_type": "stream",
     "text": [
      "<class 'pandas.core.frame.DataFrame'>\n",
      "RangeIndex: 5110 entries, 0 to 5109\n",
      "Data columns (total 12 columns):\n",
      " #   Column             Non-Null Count  Dtype  \n",
      "---  ------             --------------  -----  \n",
      " 0   id                 5110 non-null   int64  \n",
      " 1   gender             5110 non-null   object \n",
      " 2   age                5110 non-null   int64  \n",
      " 3   hypertension       5110 non-null   int64  \n",
      " 4   heart_disease      5110 non-null   int64  \n",
      " 5   ever_married       5110 non-null   object \n",
      " 6   work_type          5110 non-null   object \n",
      " 7   Residence_type     5110 non-null   object \n",
      " 8   avg_glucose_level  5110 non-null   float64\n",
      " 9   bmi                5110 non-null   float64\n",
      " 10  smoking_status     5110 non-null   object \n",
      " 11  stroke             5110 non-null   int64  \n",
      "dtypes: float64(2), int64(5), object(5)\n",
      "memory usage: 479.2+ KB\n"
     ]
    }
   ],
   "source": [
    "df.info()"
   ]
  },
  {
   "cell_type": "markdown",
   "id": "88d85b90",
   "metadata": {},
   "source": [
    "# Handling Outliers. "
   ]
  },
  {
   "cell_type": "code",
   "execution_count": 15,
   "id": "a25c6d9b",
   "metadata": {},
   "outputs": [
    {
     "data": {
      "text/plain": [
       "<AxesSubplot:ylabel='bmi'>"
      ]
     },
     "execution_count": 15,
     "metadata": {},
     "output_type": "execute_result"
    },
    {
     "data": {
      "image/png": "[encoded data removed]",
      "text/plain": [
       "<Figure size 640x480 with 1 Axes>"
      ]
     },
     "metadata": {},
     "output_type": "display_data"
    }
   ],
   "source": [
    "sns.boxplot(data = df,y=df['bmi'],whis=1.5)"
   ]
  },
  {
   "cell_type": "code",
   "execution_count": 16,
   "id": "e127a361",
   "metadata": {},
   "outputs": [
    {
     "data": {
      "text/plain": [
       "<AxesSubplot:ylabel='age'>"
      ]
     },
     "execution_count": 16,
     "metadata": {},
     "output_type": "execute_result"
    },
    {
     "data": {
      "image/png": "[encoded data removed]",
      "text/plain": [
       "<Figure size 640x480 with 1 Axes>"
      ]
     },
     "metadata": {},
     "output_type": "display_data"
    }
   ],
   "source": [
    "sns.boxplot(data = df,y=df['age'],whis=1.5)"
   ]
  },
  {
   "cell_type": "code",
   "execution_count": 17,
   "id": "6eb93429",
   "metadata": {},
   "outputs": [
    {
     "data": {
      "text/plain": [
       "<AxesSubplot:ylabel='avg_glucose_level'>"
      ]
     },
     "execution_count": 17,
     "metadata": {},
     "output_type": "execute_result"
    },
    {
     "data": {
      "image/png": "[encoded data removed]",
      "text/plain": [
       "<Figure size 640x480 with 1 Axes>"
      ]
     },
     "metadata": {},
     "output_type": "display_data"
    }
   ],
   "source": [
    "sns.boxplot(data = df,y=df['avg_glucose_level'],whis=1.5)"
   ]
  },
  {
   "cell_type": "code",
   "execution_count": 18,
   "id": "cfbb5311",
   "metadata": {},
   "outputs": [],
   "source": [
    "df['log_bmi'] = np.log(df['bmi'])\n",
    "df['log_avg_glucose_level'] = np.log(df['avg_glucose_level'])"
   ]
  },
  {
   "cell_type": "code",
   "execution_count": 19,
   "id": "17ae4afe",
   "metadata": {},
   "outputs": [
    {
     "data": {
      "text/plain": [
       "<AxesSubplot:ylabel='log_avg_glucose_level'>"
      ]
     },
     "execution_count": 19,
     "metadata": {},
     "output_type": "execute_result"
    },
    {
     "data": {
      "image/png": "[encoded data removed]",
      "text/plain": [
       "<Figure size 640x480 with 1 Axes>"
      ]
     },
     "metadata": {},
     "output_type": "display_data"
    }
   ],
   "source": [
    "sns.boxplot(data = df,y=df['log_avg_glucose_level'],whis=1.5)"
   ]
  },
  {
   "cell_type": "code",
   "execution_count": 20,
   "id": "347f101a",
   "metadata": {},
   "outputs": [
    {
     "data": {
      "text/plain": [
       "<Figure size 1000x1000 with 0 Axes>"
      ]
     },
     "metadata": {},
     "output_type": "display_data"
    },
    {
     "data": {
      "image/png": "[encoded data removed]",
      "text/plain": [
       "<Figure size 800x400 with 1 Axes>"
      ]
     },
     "metadata": {},
     "output_type": "display_data"
    },
    {
     "data": {
      "image/png": "[encoded data removed]",
      "text/plain": [
       "<Figure size 800x400 with 1 Axes>"
      ]
     },
     "metadata": {},
     "output_type": "display_data"
    }
   ],
   "source": [
    "plt.figure(figsize=(10,10))\n",
    "sns.catplot(data = df,y='log_bmi',whis=1.5,kind='box', height = 4, aspect = 2)\n",
    "sns.catplot(data = df,y='bmi',whis=1.5,kind='box',height = 4, aspect=2) \n",
    "\n",
    "plt.gca().set_ylabel('Log BMI')\n",
    "plt.gca().set_title('Boxplot of Log BMI')\n",
    "\n",
    "plt.gca().set_ylabel('BMI')\n",
    "plt.gca().set_title('Boxplot of BMI')\n",
    "\n",
    "plt.show()"
   ]
  },
  {
   "cell_type": "code",
   "execution_count": 21,
   "id": "6d95bb63",
   "metadata": {},
   "outputs": [
    {
     "data": {
      "image/png": "[encoded data removed]",
      "text/plain": [
       "<Figure size 800x400 with 1 Axes>"
      ]
     },
     "metadata": {},
     "output_type": "display_data"
    },
    {
     "data": {
      "image/png": "[encoded data removed]",
      "text/plain": [
       "<Figure size 800x400 with 1 Axes>"
      ]
     },
     "metadata": {},
     "output_type": "display_data"
    }
   ],
   "source": [
    "sns.catplot(data=df, y= 'log_avg_glucose_level',kind='box',height=4, aspect=2)\n",
    "sns.catplot(data=df, y= 'avg_glucose_level',kind='box',height=4, aspect=2)\n",
    "\n",
    "\n",
    "plt.ylabel(\"Log Avg Glucose Level\")\n",
    "plt.title(\"Boxplot of Log Avg Glucose Level\")\n",
    "\n",
    "plt.ylabel(\"Avg Glucose Level\")\n",
    "plt.title(\"Boxplot of Avg Glucose Level\")\n",
    "\n",
    "\n",
    "plt.show()"
   ]
  },
  {
   "cell_type": "code",
   "execution_count": 22,
   "id": "4fd25b86",
   "metadata": {},
   "outputs": [
    {
     "data": {
      "text/plain": [
       "86"
      ]
     },
     "execution_count": 22,
     "metadata": {},
     "output_type": "execute_result"
    }
   ],
   "source": [
    "feature = df['bmi']\n",
    "multiplier = 1.5\n",
    "\n",
    "Q1 = feature.quantile(0.25)\n",
    "Q3 = feature.quantile(0.75)\n",
    "IQR = Q3 - Q1\n",
    "\n",
    "lower_bound = Q1 - multiplier*(IQR)\n",
    "upper_bound = Q3 + multiplier*(IQR)\n",
    "\n",
    "\n",
    "num_outliers = len(feature[(feature < lower_bound) | (feature > upper_bound)])\n",
    "num_outliers"
   ]
  },
  {
   "cell_type": "code",
   "execution_count": 23,
   "id": "a04710e5",
   "metadata": {},
   "outputs": [
    {
     "data": {
      "text/plain": [
       "31"
      ]
     },
     "execution_count": 23,
     "metadata": {},
     "output_type": "execute_result"
    }
   ],
   "source": [
    "feature = df['log_bmi']\n",
    "whis = 1.5\n",
    "\n",
    "Q1 = feature.quantile(0.25)\n",
    "Q3 = feature.quantile(0.75)\n",
    "IQR = Q3 - Q1 \n",
    "\n",
    "upper_bound = Q3 + whis*IQR\n",
    "lower_bound = Q1 - whis*IQR\n",
    "\n",
    "num_outlier  = len(feature[(feature < lower_bound) | (feature > upper_bound)])\n",
    "num_outlier"
   ]
  },
  {
   "cell_type": "code",
   "execution_count": 24,
   "id": "0a342ae2",
   "metadata": {},
   "outputs": [
    {
     "data": {
      "text/plain": [
       "627"
      ]
     },
     "execution_count": 24,
     "metadata": {},
     "output_type": "execute_result"
    }
   ],
   "source": [
    "feature = df['avg_glucose_level']\n",
    "multiplier = 1.5\n",
    "\n",
    "Q1 = feature.quantile(0.25)\n",
    "Q3 = feature.quantile(0.75)\n",
    "IQR = Q3 - Q1\n",
    "\n",
    "lower_bound = Q1 - multiplier*(IQR)\n",
    "upper_bound = Q3 + multiplier*(IQR)\n",
    "\n",
    "\n",
    "num_outliers = len(feature[(feature < lower_bound) | (feature > upper_bound)])\n",
    "num_outliers"
   ]
  },
  {
   "cell_type": "code",
   "execution_count": 25,
   "id": "859b9ed5",
   "metadata": {},
   "outputs": [
    {
     "data": {
      "text/plain": [
       "5110"
      ]
     },
     "execution_count": 25,
     "metadata": {},
     "output_type": "execute_result"
    }
   ],
   "source": [
    "feature_glucose = df['log_avg_glucose_level']\n",
    "multiplier = 1.5\n",
    "\n",
    "Q1 = feature.quantile(0.25)\n",
    "Q3 = feature.quantile(0.75)\n",
    "IQR = Q3 - Q1\n",
    "\n",
    "lower_bound = Q1 - multiplier*(IQR)\n",
    "upper_bound = Q3 + multiplier*(IQR)\n",
    "\n",
    "\n",
    "num_outliers = len(feature_glucose[(feature_glucose < lower_bound) | (feature_glucose > upper_bound)])\n",
    "num_outliers"
   ]
  },
  {
   "cell_type": "markdown",
   "id": "d1a9d85c",
   "metadata": {},
   "source": [
    "To identify outliers, I generated boxplots without including labels or formatting on the axes due to time constraints. The purpose was to quickly identify outliers. Through the boxplots, I observed outliers in the BMI and average glucose level data fields. To compare the number of outliers before and after logarithmic transformation, I applied natural logarithm to these data fields and displayed them vertically.\n",
    "\n",
    "By applying logarithmic transformation, I successfully reduced the number of outliers. However, I made the decision not to remove any of these outliers, as these extreme values might hold predictive significance for the probability of a stroke. In a different project, it would have been appropriate to remove outliers to eliminate skewness and mitigate the risk of obtaining inaccurate results. "
   ]
  },
  {
   "cell_type": "code",
   "execution_count": 26,
   "id": "c04b9ab5",
   "metadata": {},
   "outputs": [
    {
     "name": "stdout",
     "output_type": "stream",
     "text": [
      "<class 'pandas.core.frame.DataFrame'>\n",
      "RangeIndex: 5110 entries, 0 to 5109\n",
      "Data columns (total 14 columns):\n",
      " #   Column                 Non-Null Count  Dtype  \n",
      "---  ------                 --------------  -----  \n",
      " 0   id                     5110 non-null   int64  \n",
      " 1   gender                 5110 non-null   object \n",
      " 2   age                    5110 non-null   int64  \n",
      " 3   hypertension           5110 non-null   int64  \n",
      " 4   heart_disease          5110 non-null   int64  \n",
      " 5   ever_married           5110 non-null   object \n",
      " 6   work_type              5110 non-null   object \n",
      " 7   Residence_type         5110 non-null   object \n",
      " 8   avg_glucose_level      5110 non-null   float64\n",
      " 9   bmi                    5110 non-null   float64\n",
      " 10  smoking_status         5110 non-null   object \n",
      " 11  stroke                 5110 non-null   int64  \n",
      " 12  log_bmi                5110 non-null   float64\n",
      " 13  log_avg_glucose_level  5110 non-null   float64\n",
      "dtypes: float64(4), int64(5), object(5)\n",
      "memory usage: 559.0+ KB\n"
     ]
    }
   ],
   "source": [
    "df.info()"
   ]
  },
  {
   "cell_type": "markdown",
   "id": "c0fe04b1",
   "metadata": {},
   "source": [
    "# Exploratory Data Analysis"
   ]
  },
  {
   "cell_type": "code",
   "execution_count": 27,
   "id": "fde14258",
   "metadata": {},
   "outputs": [
    {
     "data": {
      "text/plain": [
       "never smoked       1892\n",
       "Unknown            1544\n",
       "formerly smoked     885\n",
       "smokes              789\n",
       "Name: smoking_status, dtype: int64"
      ]
     },
     "execution_count": 27,
     "metadata": {},
     "output_type": "execute_result"
    }
   ],
   "source": [
    "df['smoking_status'].value_counts()"
   ]
  },
  {
   "cell_type": "code",
   "execution_count": 28,
   "id": "75363fed",
   "metadata": {},
   "outputs": [
    {
     "data": {
      "text/plain": [
       "Private          2925\n",
       "Self-employed     819\n",
       "children          687\n",
       "Govt_job          657\n",
       "Never_worked       22\n",
       "Name: work_type, dtype: int64"
      ]
     },
     "execution_count": 28,
     "metadata": {},
     "output_type": "execute_result"
    }
   ],
   "source": [
    "df['work_type'].value_counts()"
   ]
  },
  {
   "cell_type": "code",
   "execution_count": 29,
   "id": "a332afad",
   "metadata": {},
   "outputs": [
    {
     "data": {
      "text/plain": [
       "Yes    3353\n",
       "No     1757\n",
       "Name: ever_married, dtype: int64"
      ]
     },
     "execution_count": 29,
     "metadata": {},
     "output_type": "execute_result"
    }
   ],
   "source": [
    "df['ever_married'].value_counts()"
   ]
  },
  {
   "cell_type": "code",
   "execution_count": 30,
   "id": "283d376c",
   "metadata": {},
   "outputs": [
    {
     "data": {
      "text/plain": [
       "0    4861\n",
       "1     249\n",
       "Name: stroke, dtype: int64"
      ]
     },
     "execution_count": 30,
     "metadata": {},
     "output_type": "execute_result"
    }
   ],
   "source": [
    "df['stroke'].value_counts()"
   ]
  },
  {
   "cell_type": "code",
   "execution_count": 105,
   "id": "94193ec4",
   "metadata": {},
   "outputs": [
    {
     "data": {
      "image/png": "[encoded data removed]",
      "text/plain": [
       "<Figure size 640x480 with 1 Axes>"
      ]
     },
     "metadata": {},
     "output_type": "display_data"
    }
   ],
   "source": [
    "sns.countplot(data=df, x= 'stroke')\n",
    "plt.title('Frequency of Stroke and Non-Stroke Cases')\n",
    "sns.despine()\n",
    "plt.ylabel('Frequency')\n",
    "plt.xlabel('Stroke')\n",
    "\n",
    "plt.show()"
   ]
  },
  {
   "cell_type": "markdown",
   "id": "6b65bd3c",
   "metadata": {},
   "source": [
    "The dataset contains a relatively small number of individuals who experienced a stroke, specifically 249 cases. This limited sample size could pose a challenge when constructing a model that accurately predicts the probability of a stroke."
   ]
  },
  {
   "cell_type": "code",
   "execution_count": 75,
   "id": "d1beb49b",
   "metadata": {},
   "outputs": [
    {
     "data": {
      "text/html": [
       "<div>\n",
       "<style scoped>\n",
       "    .dataframe tbody tr th:only-of-type {\n",
       "        vertical-align: middle;\n",
       "    }\n",
       "\n",
       "    .dataframe tbody tr th {\n",
       "        vertical-align: top;\n",
       "    }\n",
       "\n",
       "    .dataframe thead th {\n",
       "        text-align: right;\n",
       "    }\n",
       "</style>\n",
       "<table border=\"1\" class=\"dataframe\">\n",
       "  <thead>\n",
       "    <tr style=\"text-align: right;\">\n",
       "      <th></th>\n",
       "      <th>id</th>\n",
       "      <th>gender</th>\n",
       "      <th>age</th>\n",
       "      <th>hypertension</th>\n",
       "      <th>heart_disease</th>\n",
       "      <th>ever_married</th>\n",
       "      <th>work_type</th>\n",
       "      <th>Residence_type</th>\n",
       "      <th>avg_glucose_level</th>\n",
       "      <th>bmi</th>\n",
       "      <th>smoking_status</th>\n",
       "      <th>stroke</th>\n",
       "      <th>log_bmi</th>\n",
       "      <th>log_avg_glucose_level</th>\n",
       "      <th>work_cat</th>\n",
       "      <th>gender_num</th>\n",
       "      <th>ever_married_num</th>\n",
       "    </tr>\n",
       "  </thead>\n",
       "  <tbody>\n",
       "    <tr>\n",
       "      <th>0</th>\n",
       "      <td>9046</td>\n",
       "      <td>Male</td>\n",
       "      <td>67</td>\n",
       "      <td>0</td>\n",
       "      <td>1</td>\n",
       "      <td>Yes</td>\n",
       "      <td>Private</td>\n",
       "      <td>Urban</td>\n",
       "      <td>228.69</td>\n",
       "      <td>36.6</td>\n",
       "      <td>formerly smoked</td>\n",
       "      <td>1</td>\n",
       "      <td>3.600048</td>\n",
       "      <td>5.432367</td>\n",
       "      <td>4</td>\n",
       "      <td>1</td>\n",
       "      <td>1</td>\n",
       "    </tr>\n",
       "    <tr>\n",
       "      <th>1</th>\n",
       "      <td>51676</td>\n",
       "      <td>Female</td>\n",
       "      <td>61</td>\n",
       "      <td>0</td>\n",
       "      <td>0</td>\n",
       "      <td>Yes</td>\n",
       "      <td>Self-employed</td>\n",
       "      <td>Rural</td>\n",
       "      <td>202.21</td>\n",
       "      <td>45.0</td>\n",
       "      <td>never smoked</td>\n",
       "      <td>1</td>\n",
       "      <td>3.806662</td>\n",
       "      <td>5.309307</td>\n",
       "      <td>3</td>\n",
       "      <td>0</td>\n",
       "      <td>1</td>\n",
       "    </tr>\n",
       "    <tr>\n",
       "      <th>2</th>\n",
       "      <td>31112</td>\n",
       "      <td>Male</td>\n",
       "      <td>80</td>\n",
       "      <td>0</td>\n",
       "      <td>1</td>\n",
       "      <td>Yes</td>\n",
       "      <td>Private</td>\n",
       "      <td>Rural</td>\n",
       "      <td>105.92</td>\n",
       "      <td>32.5</td>\n",
       "      <td>never smoked</td>\n",
       "      <td>1</td>\n",
       "      <td>3.481240</td>\n",
       "      <td>4.662684</td>\n",
       "      <td>4</td>\n",
       "      <td>1</td>\n",
       "      <td>1</td>\n",
       "    </tr>\n",
       "    <tr>\n",
       "      <th>3</th>\n",
       "      <td>60182</td>\n",
       "      <td>Female</td>\n",
       "      <td>49</td>\n",
       "      <td>0</td>\n",
       "      <td>0</td>\n",
       "      <td>Yes</td>\n",
       "      <td>Private</td>\n",
       "      <td>Urban</td>\n",
       "      <td>171.23</td>\n",
       "      <td>34.4</td>\n",
       "      <td>smokes</td>\n",
       "      <td>1</td>\n",
       "      <td>3.538057</td>\n",
       "      <td>5.143008</td>\n",
       "      <td>4</td>\n",
       "      <td>0</td>\n",
       "      <td>1</td>\n",
       "    </tr>\n",
       "    <tr>\n",
       "      <th>4</th>\n",
       "      <td>1665</td>\n",
       "      <td>Female</td>\n",
       "      <td>79</td>\n",
       "      <td>1</td>\n",
       "      <td>0</td>\n",
       "      <td>Yes</td>\n",
       "      <td>Self-employed</td>\n",
       "      <td>Rural</td>\n",
       "      <td>174.12</td>\n",
       "      <td>24.0</td>\n",
       "      <td>never smoked</td>\n",
       "      <td>1</td>\n",
       "      <td>3.178054</td>\n",
       "      <td>5.159745</td>\n",
       "      <td>3</td>\n",
       "      <td>0</td>\n",
       "      <td>1</td>\n",
       "    </tr>\n",
       "    <tr>\n",
       "      <th>...</th>\n",
       "      <td>...</td>\n",
       "      <td>...</td>\n",
       "      <td>...</td>\n",
       "      <td>...</td>\n",
       "      <td>...</td>\n",
       "      <td>...</td>\n",
       "      <td>...</td>\n",
       "      <td>...</td>\n",
       "      <td>...</td>\n",
       "      <td>...</td>\n",
       "      <td>...</td>\n",
       "      <td>...</td>\n",
       "      <td>...</td>\n",
       "      <td>...</td>\n",
       "      <td>...</td>\n",
       "      <td>...</td>\n",
       "      <td>...</td>\n",
       "    </tr>\n",
       "    <tr>\n",
       "      <th>244</th>\n",
       "      <td>17739</td>\n",
       "      <td>Male</td>\n",
       "      <td>57</td>\n",
       "      <td>0</td>\n",
       "      <td>0</td>\n",
       "      <td>Yes</td>\n",
       "      <td>Private</td>\n",
       "      <td>Rural</td>\n",
       "      <td>84.96</td>\n",
       "      <td>36.7</td>\n",
       "      <td>Unknown</td>\n",
       "      <td>1</td>\n",
       "      <td>3.602777</td>\n",
       "      <td>4.442181</td>\n",
       "      <td>4</td>\n",
       "      <td>1</td>\n",
       "      <td>1</td>\n",
       "    </tr>\n",
       "    <tr>\n",
       "      <th>245</th>\n",
       "      <td>49669</td>\n",
       "      <td>Female</td>\n",
       "      <td>14</td>\n",
       "      <td>0</td>\n",
       "      <td>0</td>\n",
       "      <td>No</td>\n",
       "      <td>children</td>\n",
       "      <td>Rural</td>\n",
       "      <td>57.93</td>\n",
       "      <td>30.9</td>\n",
       "      <td>Unknown</td>\n",
       "      <td>1</td>\n",
       "      <td>3.430756</td>\n",
       "      <td>4.059235</td>\n",
       "      <td>1</td>\n",
       "      <td>0</td>\n",
       "      <td>0</td>\n",
       "    </tr>\n",
       "    <tr>\n",
       "      <th>246</th>\n",
       "      <td>27153</td>\n",
       "      <td>Female</td>\n",
       "      <td>75</td>\n",
       "      <td>0</td>\n",
       "      <td>0</td>\n",
       "      <td>Yes</td>\n",
       "      <td>Self-employed</td>\n",
       "      <td>Rural</td>\n",
       "      <td>78.80</td>\n",
       "      <td>29.3</td>\n",
       "      <td>formerly smoked</td>\n",
       "      <td>1</td>\n",
       "      <td>3.377588</td>\n",
       "      <td>4.366913</td>\n",
       "      <td>3</td>\n",
       "      <td>0</td>\n",
       "      <td>1</td>\n",
       "    </tr>\n",
       "    <tr>\n",
       "      <th>247</th>\n",
       "      <td>34060</td>\n",
       "      <td>Male</td>\n",
       "      <td>71</td>\n",
       "      <td>1</td>\n",
       "      <td>0</td>\n",
       "      <td>Yes</td>\n",
       "      <td>Self-employed</td>\n",
       "      <td>Rural</td>\n",
       "      <td>87.80</td>\n",
       "      <td>45.0</td>\n",
       "      <td>Unknown</td>\n",
       "      <td>1</td>\n",
       "      <td>3.806662</td>\n",
       "      <td>4.475062</td>\n",
       "      <td>3</td>\n",
       "      <td>1</td>\n",
       "      <td>1</td>\n",
       "    </tr>\n",
       "    <tr>\n",
       "      <th>248</th>\n",
       "      <td>43424</td>\n",
       "      <td>Female</td>\n",
       "      <td>78</td>\n",
       "      <td>0</td>\n",
       "      <td>0</td>\n",
       "      <td>Yes</td>\n",
       "      <td>Private</td>\n",
       "      <td>Rural</td>\n",
       "      <td>78.81</td>\n",
       "      <td>19.6</td>\n",
       "      <td>Unknown</td>\n",
       "      <td>1</td>\n",
       "      <td>2.975530</td>\n",
       "      <td>4.367040</td>\n",
       "      <td>4</td>\n",
       "      <td>0</td>\n",
       "      <td>1</td>\n",
       "    </tr>\n",
       "  </tbody>\n",
       "</table>\n",
       "<p>249 rows × 17 columns</p>\n",
       "</div>"
      ],
      "text/plain": [
       "        id  gender  age  hypertension  heart_disease ever_married  \\\n",
       "0     9046    Male   67             0              1          Yes   \n",
       "1    51676  Female   61             0              0          Yes   \n",
       "2    31112    Male   80             0              1          Yes   \n",
       "3    60182  Female   49             0              0          Yes   \n",
       "4     1665  Female   79             1              0          Yes   \n",
       "..     ...     ...  ...           ...            ...          ...   \n",
       "244  17739    Male   57             0              0          Yes   \n",
       "245  49669  Female   14             0              0           No   \n",
       "246  27153  Female   75             0              0          Yes   \n",
       "247  34060    Male   71             1              0          Yes   \n",
       "248  43424  Female   78             0              0          Yes   \n",
       "\n",
       "         work_type Residence_type  avg_glucose_level   bmi   smoking_status  \\\n",
       "0          Private          Urban             228.69  36.6  formerly smoked   \n",
       "1    Self-employed          Rural             202.21  45.0     never smoked   \n",
       "2          Private          Rural             105.92  32.5     never smoked   \n",
       "3          Private          Urban             171.23  34.4           smokes   \n",
       "4    Self-employed          Rural             174.12  24.0     never smoked   \n",
       "..             ...            ...                ...   ...              ...   \n",
       "244        Private          Rural              84.96  36.7          Unknown   \n",
       "245       children          Rural              57.93  30.9          Unknown   \n",
       "246  Self-employed          Rural              78.80  29.3  formerly smoked   \n",
       "247  Self-employed          Rural              87.80  45.0          Unknown   \n",
       "248        Private          Rural              78.81  19.6          Unknown   \n",
       "\n",
       "     stroke   log_bmi  log_avg_glucose_level  work_cat gender_num  \\\n",
       "0         1  3.600048               5.432367         4          1   \n",
       "1         1  3.806662               5.309307         3          0   \n",
       "2         1  3.481240               4.662684         4          1   \n",
       "3         1  3.538057               5.143008         4          0   \n",
       "4         1  3.178054               5.159745         3          0   \n",
       "..      ...       ...                    ...       ...        ...   \n",
       "244       1  3.602777               4.442181         4          1   \n",
       "245       1  3.430756               4.059235         1          0   \n",
       "246       1  3.377588               4.366913         3          0   \n",
       "247       1  3.806662               4.475062         3          1   \n",
       "248       1  2.975530               4.367040         4          0   \n",
       "\n",
       "     ever_married_num  \n",
       "0                   1  \n",
       "1                   1  \n",
       "2                   1  \n",
       "3                   1  \n",
       "4                   1  \n",
       "..                ...  \n",
       "244                 1  \n",
       "245                 0  \n",
       "246                 1  \n",
       "247                 1  \n",
       "248                 1  \n",
       "\n",
       "[249 rows x 17 columns]"
      ]
     },
     "execution_count": 75,
     "metadata": {},
     "output_type": "execute_result"
    }
   ],
   "source": [
    "stroke = df[df['stroke']==1]\n",
    "stroke"
   ]
  },
  {
   "cell_type": "code",
   "execution_count": 77,
   "id": "1d8454fd",
   "metadata": {},
   "outputs": [
    {
     "name": "stderr",
     "output_type": "stream",
     "text": [
      "/var/folders/92/_kz_fht558b0hh0627_7zzk00000gn/T/ipykernel_52614/470079927.py:1: SettingWithCopyWarning: \n",
      "A value is trying to be set on a copy of a slice from a DataFrame.\n",
      "Try using .loc[row_indexer,col_indexer] = value instead\n",
      "\n",
      "See the caveats in the documentation: https://pandas.pydata.org/pandas-docs/stable/user_guide/indexing.html#returning-a-view-versus-a-copy\n",
      "  stroke['ever_married_num'] = stroke['ever_married'].replace({'Yes':1,'No':0})\n"
     ]
    }
   ],
   "source": [
    "stroke['ever_married_num'] = stroke['ever_married'].replace({'Yes':1,'No':0})"
   ]
  },
  {
   "cell_type": "code",
   "execution_count": 62,
   "id": "0ef51486",
   "metadata": {},
   "outputs": [
    {
     "data": {
      "image/png": "[encoded data removed]",
      "text/plain": [
       "<Figure size 640x480 with 1 Axes>"
      ]
     },
     "metadata": {},
     "output_type": "display_data"
    }
   ],
   "source": [
    "sns.histplot(data=stroke['age'])\n",
    "plt.title('Distribution of Age for Individuals With Stroke History')\n",
    "plt.xlabel('Age')\n",
    "sns.despine()\n",
    "\n",
    "\n",
    "plt.show()"
   ]
  },
  {
   "cell_type": "markdown",
   "id": "47c7fccc",
   "metadata": {},
   "source": [
    "The histogram depicts the distribution of age among individuals who have experienced a stroke. The majority of stroke cases are observed within the age group of 60 and above, while there are only a few instances of stroke among relatively young individuals. Based on these results, we can conclude that older individuals are more prone to suffering from strokes compared to younger people."
   ]
  },
  {
   "cell_type": "code",
   "execution_count": 34,
   "id": "a2037f18",
   "metadata": {
    "scrolled": true
   },
   "outputs": [
    {
     "data": {
      "text/plain": [
       "78    21\n",
       "80    17\n",
       "79    17\n",
       "81    14\n",
       "57    11\n",
       "76    10\n",
       "68     9\n",
       "74     9\n",
       "63     9\n",
       "82     9\n",
       "77     8\n",
       "59     8\n",
       "71     7\n",
       "58     7\n",
       "72     6\n",
       "61     6\n",
       "70     6\n",
       "75     6\n",
       "54     6\n",
       "69     6\n",
       "66     4\n",
       "60     4\n",
       "51     4\n",
       "73     4\n",
       "65     3\n",
       "64     3\n",
       "50     3\n",
       "39     3\n",
       "49     3\n",
       "56     3\n",
       "45     3\n",
       "67     3\n",
       "55     2\n",
       "38     2\n",
       "53     2\n",
       "48     2\n",
       "52     2\n",
       "47     1\n",
       "43     1\n",
       "42     1\n",
       "1      1\n",
       "46     1\n",
       "32     1\n",
       "14     1\n",
       "Name: age, dtype: int64"
      ]
     },
     "execution_count": 34,
     "metadata": {},
     "output_type": "execute_result"
    }
   ],
   "source": [
    "stroke['age'].value_counts()"
   ]
  },
  {
   "cell_type": "code",
   "execution_count": 35,
   "id": "eaeb9bad",
   "metadata": {},
   "outputs": [
    {
     "data": {
      "text/plain": [
       "71.0"
      ]
     },
     "execution_count": 35,
     "metadata": {},
     "output_type": "execute_result"
    }
   ],
   "source": [
    "stroke['age'].median()"
   ]
  },
  {
   "cell_type": "code",
   "execution_count": 113,
   "id": "eab4006a",
   "metadata": {},
   "outputs": [
    {
     "name": "stderr",
     "output_type": "stream",
     "text": [
      "/var/folders/92/_kz_fht558b0hh0627_7zzk00000gn/T/ipykernel_52614/3778123989.py:4: SettingWithCopyWarning: \n",
      "A value is trying to be set on a copy of a slice from a DataFrame.\n",
      "Try using .loc[row_indexer,col_indexer] = value instead\n",
      "\n",
      "See the caveats in the documentation: https://pandas.pydata.org/pandas-docs/stable/user_guide/indexing.html#returning-a-view-versus-a-copy\n",
      "  stroke['age_category'] = pd.cut(stroke['age'], bins = age_bins, labels=labels)\n"
     ]
    }
   ],
   "source": [
    "age_bins = [0,20,40,60,90]\n",
    "labels = ['0-20','20-40','40-60','60-90']\n",
    "\n",
    "stroke['age_category'] = pd.cut(stroke['age'], bins = age_bins, labels=labels)"
   ]
  },
  {
   "cell_type": "code",
   "execution_count": 114,
   "id": "886ddeb2",
   "metadata": {},
   "outputs": [
    {
     "data": {
      "text/html": [
       "<div>\n",
       "<style scoped>\n",
       "    .dataframe tbody tr th:only-of-type {\n",
       "        vertical-align: middle;\n",
       "    }\n",
       "\n",
       "    .dataframe tbody tr th {\n",
       "        vertical-align: top;\n",
       "    }\n",
       "\n",
       "    .dataframe thead th {\n",
       "        text-align: right;\n",
       "    }\n",
       "</style>\n",
       "<table border=\"1\" class=\"dataframe\">\n",
       "  <thead>\n",
       "    <tr style=\"text-align: right;\">\n",
       "      <th></th>\n",
       "      <th>age</th>\n",
       "      <th>age_category</th>\n",
       "    </tr>\n",
       "  </thead>\n",
       "  <tbody>\n",
       "    <tr>\n",
       "      <th>0</th>\n",
       "      <td>67</td>\n",
       "      <td>60-90</td>\n",
       "    </tr>\n",
       "    <tr>\n",
       "      <th>1</th>\n",
       "      <td>61</td>\n",
       "      <td>60-90</td>\n",
       "    </tr>\n",
       "    <tr>\n",
       "      <th>2</th>\n",
       "      <td>80</td>\n",
       "      <td>60-90</td>\n",
       "    </tr>\n",
       "    <tr>\n",
       "      <th>3</th>\n",
       "      <td>49</td>\n",
       "      <td>40-60</td>\n",
       "    </tr>\n",
       "    <tr>\n",
       "      <th>4</th>\n",
       "      <td>79</td>\n",
       "      <td>60-90</td>\n",
       "    </tr>\n",
       "    <tr>\n",
       "      <th>5</th>\n",
       "      <td>81</td>\n",
       "      <td>60-90</td>\n",
       "    </tr>\n",
       "    <tr>\n",
       "      <th>6</th>\n",
       "      <td>74</td>\n",
       "      <td>60-90</td>\n",
       "    </tr>\n",
       "    <tr>\n",
       "      <th>7</th>\n",
       "      <td>69</td>\n",
       "      <td>60-90</td>\n",
       "    </tr>\n",
       "    <tr>\n",
       "      <th>8</th>\n",
       "      <td>59</td>\n",
       "      <td>40-60</td>\n",
       "    </tr>\n",
       "    <tr>\n",
       "      <th>9</th>\n",
       "      <td>78</td>\n",
       "      <td>60-90</td>\n",
       "    </tr>\n",
       "    <tr>\n",
       "      <th>10</th>\n",
       "      <td>81</td>\n",
       "      <td>60-90</td>\n",
       "    </tr>\n",
       "    <tr>\n",
       "      <th>11</th>\n",
       "      <td>61</td>\n",
       "      <td>60-90</td>\n",
       "    </tr>\n",
       "    <tr>\n",
       "      <th>12</th>\n",
       "      <td>54</td>\n",
       "      <td>40-60</td>\n",
       "    </tr>\n",
       "    <tr>\n",
       "      <th>13</th>\n",
       "      <td>78</td>\n",
       "      <td>60-90</td>\n",
       "    </tr>\n",
       "    <tr>\n",
       "      <th>14</th>\n",
       "      <td>79</td>\n",
       "      <td>60-90</td>\n",
       "    </tr>\n",
       "    <tr>\n",
       "      <th>15</th>\n",
       "      <td>50</td>\n",
       "      <td>40-60</td>\n",
       "    </tr>\n",
       "    <tr>\n",
       "      <th>16</th>\n",
       "      <td>64</td>\n",
       "      <td>60-90</td>\n",
       "    </tr>\n",
       "    <tr>\n",
       "      <th>17</th>\n",
       "      <td>75</td>\n",
       "      <td>60-90</td>\n",
       "    </tr>\n",
       "    <tr>\n",
       "      <th>18</th>\n",
       "      <td>60</td>\n",
       "      <td>40-60</td>\n",
       "    </tr>\n",
       "    <tr>\n",
       "      <th>19</th>\n",
       "      <td>57</td>\n",
       "      <td>40-60</td>\n",
       "    </tr>\n",
       "  </tbody>\n",
       "</table>\n",
       "</div>"
      ],
      "text/plain": [
       "    age age_category\n",
       "0    67        60-90\n",
       "1    61        60-90\n",
       "2    80        60-90\n",
       "3    49        40-60\n",
       "4    79        60-90\n",
       "5    81        60-90\n",
       "6    74        60-90\n",
       "7    69        60-90\n",
       "8    59        40-60\n",
       "9    78        60-90\n",
       "10   81        60-90\n",
       "11   61        60-90\n",
       "12   54        40-60\n",
       "13   78        60-90\n",
       "14   79        60-90\n",
       "15   50        40-60\n",
       "16   64        60-90\n",
       "17   75        60-90\n",
       "18   60        40-60\n",
       "19   57        40-60"
      ]
     },
     "execution_count": 114,
     "metadata": {},
     "output_type": "execute_result"
    }
   ],
   "source": [
    "stroke[['age','age_category']].head(20)"
   ]
  },
  {
   "cell_type": "code",
   "execution_count": 115,
   "id": "1ee3c582",
   "metadata": {},
   "outputs": [
    {
     "data": {
      "text/plain": [
       "60-90    177\n",
       "40-60     64\n",
       "20-40      6\n",
       "0-20       2\n",
       "Name: age_category, dtype: int64"
      ]
     },
     "execution_count": 115,
     "metadata": {},
     "output_type": "execute_result"
    }
   ],
   "source": [
    "stroke['age_category'].value_counts()"
   ]
  },
  {
   "cell_type": "code",
   "execution_count": 117,
   "id": "2c7f94e2",
   "metadata": {},
   "outputs": [
    {
     "data": {
      "image/png": "[encoded data removed]",
      "text/plain": [
       "<Figure size 640x480 with 1 Axes>"
      ]
     },
     "metadata": {},
     "output_type": "display_data"
    }
   ],
   "source": [
    "sns.countplot(data=stroke,x=stroke['age_category'])\n",
    "plt.title('Number of Individuals Categorized by Age Group')\n",
    "plt.xlabel('Age Category')\n",
    "plt.ylabel('Count')\n",
    "sns.despine()\n",
    "\n",
    "\n",
    "plt.show()"
   ]
  },
  {
   "cell_type": "markdown",
   "id": "e0225ee8",
   "metadata": {},
   "source": [
    "Among individuals with a history of stroke, the age group with the highest frequency is 60-90 years. Out of the total individuals, 177, which accounts for approximately 71%, fall into this age range. On the other hand, there are only 8 instances of stroke recorded for individuals younger than 40 years.\n",
    "\n",
    "Based on this information, we can deduce that a significant majority of individuals who have experienced a stroke are older than 60 years. Consequently, it can be inferred that older individuals are more susceptible to stroke compared to their younger counterparts."
   ]
  },
  {
   "cell_type": "code",
   "execution_count": 119,
   "id": "7d4cb642",
   "metadata": {},
   "outputs": [
    {
     "data": {
      "image/png": "[encoded data removed]",
      "text/plain": [
       "<Figure size 640x480 with 1 Axes>"
      ]
     },
     "metadata": {},
     "output_type": "display_data"
    }
   ],
   "source": [
    "sns.countplot(data=stroke,x=stroke['ever_married'])\n",
    "plt.title('Frequency of Individuals Married at Least Once vs. Zero Times')\n",
    "plt.xlabel('Ever Married')\n",
    "plt.ylabel('Count')\n",
    "sns.despine()\n",
    "\n",
    "\n",
    "plt.show()"
   ]
  },
  {
   "cell_type": "markdown",
   "id": "c2872a0b",
   "metadata": {},
   "source": [
    "The graph illustrates that out of the individuals with a history of stroke, 220 were married at some point in their lives, while only 29 were not married. These results may give the impression that married individuals are more prone to experiencing a stroke compared to those who have never been married. However, the truth behind this observation lies in the fact that married individuals tend to be older, and older individuals are more likely to encounter strokes.\n",
    "\n",
    "It is important to consider that younger individuals have a lower risk of experiencing a stroke and are less likely to get married until their late twenties or early thirties. Therefore, the higher number of married individuals with strokes can be attributed to the age factor rather than a direct causation between marriage and stroke risk."
   ]
  },
  {
   "cell_type": "code",
   "execution_count": 79,
   "id": "8aaf3f41",
   "metadata": {},
   "outputs": [
    {
     "data": {
      "text/plain": [
       "Yes    220\n",
       "No      29\n",
       "Name: ever_married, dtype: int64"
      ]
     },
     "execution_count": 79,
     "metadata": {},
     "output_type": "execute_result"
    }
   ],
   "source": [
    "stroke['ever_married'].value_counts()"
   ]
  },
  {
   "cell_type": "code",
   "execution_count": 120,
   "id": "c1e5790d",
   "metadata": {},
   "outputs": [
    {
     "data": {
      "image/png": "[encoded data removed]",
      "text/plain": [
       "<Figure size 640x480 with 1 Axes>"
      ]
     },
     "metadata": {},
     "output_type": "display_data"
    }
   ],
   "source": [
    "sns.countplot(data=stroke,x=stroke['hypertension'])\n",
    "plt.title('Comparing the Frequency of Individuals with and without Hypertension')\n",
    "plt.xlabel('Hypertension')\n",
    "plt.ylabel('Count')\n",
    "sns.despine()\n",
    "\n",
    "\n",
    "plt.show()"
   ]
  },
  {
   "cell_type": "markdown",
   "id": "a0e1e44a",
   "metadata": {},
   "source": [
    "It appears that the majority of individuals who experienced a stroke in the dataset did not have a history of hypertension or high blood pressure. Based on this observation, it suggests that hypertension may not directly cause or significantly increase the probability of a stroke. However, it's important to note that this conclusion is drawn solely from the dataset at hand, and further analysis and research are required to fully understand the relationship between hypertension and stroke risk."
   ]
  },
  {
   "cell_type": "code",
   "execution_count": 86,
   "id": "e33d0ef1",
   "metadata": {},
   "outputs": [
    {
     "data": {
      "text/plain": [
       "0    183\n",
       "1     66\n",
       "Name: hypertension, dtype: int64"
      ]
     },
     "execution_count": 86,
     "metadata": {},
     "output_type": "execute_result"
    }
   ],
   "source": [
    "stroke['hypertension'].value_counts()"
   ]
  },
  {
   "cell_type": "code",
   "execution_count": 121,
   "id": "b13ce8b1",
   "metadata": {},
   "outputs": [
    {
     "data": {
      "image/png": "[encoded data removed]",
      "text/plain": [
       "<Figure size 640x480 with 1 Axes>"
      ]
     },
     "metadata": {},
     "output_type": "display_data"
    }
   ],
   "source": [
    "sns.countplot(data=stroke,x=stroke['heart_disease'])\n",
    "plt.title('Comparison of Individuals with and without Heart Disease')\n",
    "plt.xlabel('Heart disease')\n",
    "plt.ylabel('Count')\n",
    "sns.despine()\n",
    "\n",
    "\n",
    "plt.show()"
   ]
  },
  {
   "cell_type": "markdown",
   "id": "bb457349",
   "metadata": {},
   "source": [
    "The overwhelming majority of individuals with a history of stroke in the dataset did not have a concurrent diagnosis of heart disease. This observation suggests that heart disease may not be a significant causal factor or contributor to the probability of experiencing a stroke. However, it is important to recognize that this conclusion is based on the dataset at hand, and further investigation and analysis would be necessary to fully understand the relationship between heart disease and stroke risk."
   ]
  },
  {
   "cell_type": "code",
   "execution_count": 88,
   "id": "e2754886",
   "metadata": {},
   "outputs": [
    {
     "data": {
      "text/plain": [
       "0    202\n",
       "1     47\n",
       "Name: heart_disease, dtype: int64"
      ]
     },
     "execution_count": 88,
     "metadata": {},
     "output_type": "execute_result"
    }
   ],
   "source": [
    "stroke['heart_disease'].value_counts()"
   ]
  },
  {
   "cell_type": "code",
   "execution_count": 122,
   "id": "cb8230cb",
   "metadata": {},
   "outputs": [
    {
     "data": {
      "image/png": "[encoded data removed]",
      "text/plain": [
       "<Figure size 640x480 with 1 Axes>"
      ]
     },
     "metadata": {},
     "output_type": "display_data"
    }
   ],
   "source": [
    "sns.countplot(data=stroke,x=stroke['work_type'])\n",
    "plt.title('Number of Indidviuals by Work Type')\n",
    "plt.xlabel('Work type')\n",
    "plt.ylabel('Count')\n",
    "sns.despine()\n",
    "\n",
    "\n",
    "plt.show()"
   ]
  },
  {
   "cell_type": "markdown",
   "id": "38424da4",
   "metadata": {},
   "source": [
    "The majority of individuals who experienced a stroke in the dataset are employed in the private sector. There are 33 individuals working in government positions, and only 2 individuals with children who had a stroke. Additionally, 65 self-employed individuals also had a history of stroke. It is worth noting that the private sector is often characterized by high demands and increased job-related stress, which could potentially contribute to the occurrence of strokes. Similarly, self-employed individuals often face significant stress due to the nature of their work. The presence of these stressors in both types of employment could be a contributing factor to the increased likelihood of experiencing a stroke."
   ]
  },
  {
   "cell_type": "code",
   "execution_count": 95,
   "id": "e5f58b69",
   "metadata": {},
   "outputs": [
    {
     "data": {
      "text/plain": [
       "Private          149\n",
       "Self-employed     65\n",
       "Govt_job          33\n",
       "children           2\n",
       "Name: work_type, dtype: int64"
      ]
     },
     "execution_count": 95,
     "metadata": {},
     "output_type": "execute_result"
    }
   ],
   "source": [
    "stroke['work_type'].value_counts()"
   ]
  },
  {
   "cell_type": "code",
   "execution_count": 123,
   "id": "910d4e0a",
   "metadata": {},
   "outputs": [
    {
     "data": {
      "image/png": "[encoded data removed]",
      "text/plain": [
       "<Figure size 640x480 with 1 Axes>"
      ]
     },
     "metadata": {},
     "output_type": "display_data"
    }
   ],
   "source": [
    "sns.countplot(data=stroke,x=stroke['Residence_type'])\n",
    "plt.title('Number of Indidviuals by Residence Type')\n",
    "plt.xlabel('Residence Type')\n",
    "plt.ylabel('Count')\n",
    "sns.despine()\n",
    "\n",
    "\n",
    "plt.show()"
   ]
  },
  {
   "cell_type": "markdown",
   "id": "371145fb",
   "metadata": {},
   "source": [
    "The type of residence does not appear to have a significant impact on the probability of experiencing a stroke. The dataset indicates that the number of individuals living in urban and rural areas is nearly equal, suggesting that residing in either setting does not inherently increase the likelihood of a stroke."
   ]
  },
  {
   "cell_type": "code",
   "execution_count": 124,
   "id": "3cb4b881",
   "metadata": {},
   "outputs": [
    {
     "data": {
      "image/png": "[encoded data removed]",
      "text/plain": [
       "<Figure size 640x480 with 1 Axes>"
      ]
     },
     "metadata": {},
     "output_type": "display_data"
    }
   ],
   "source": [
    "sns.countplot(data=stroke,x=stroke['smoking_status'])\n",
    "plt.title('Number of Indidviuals by Smoking Status')\n",
    "plt.xlabel('Smoking Status')\n",
    "plt.ylabel('Count')\n",
    "sns.despine()\n",
    "\n",
    "\n",
    "plt.show()"
   ]
  },
  {
   "cell_type": "markdown",
   "id": "bb3605f6",
   "metadata": {},
   "source": [
    "Surprisingly, the majority of individuals who experienced a stroke in the dataset had never smoked in their lives. Out of the total number of individuals, 70 individuals reported a history of smoking, 42 were smokers at the time the data was collected, and information regarding smoking status was missing for 47 individuals. These findings suggest that smoking may not be a primary contributing factor to the occurrence of strokes in this dataset. However, it is important to note that further analysis and research are necessary to fully understand the relationship between smoking and stroke risk, considering other potential factors that may influence the results."
   ]
  },
  {
   "cell_type": "code",
   "execution_count": 100,
   "id": "747d793f",
   "metadata": {},
   "outputs": [
    {
     "data": {
      "text/plain": [
       "never smoked       90\n",
       "formerly smoked    70\n",
       "Unknown            47\n",
       "smokes             42\n",
       "Name: smoking_status, dtype: int64"
      ]
     },
     "execution_count": 100,
     "metadata": {},
     "output_type": "execute_result"
    }
   ],
   "source": [
    "stroke['smoking_status'].value_counts()"
   ]
  },
  {
   "cell_type": "markdown",
   "id": "5988606d",
   "metadata": {},
   "source": [
    "# Getting the Model Ready to Predict Stroke"
   ]
  },
  {
   "cell_type": "code",
   "execution_count": 46,
   "id": "e7d3c6ce",
   "metadata": {},
   "outputs": [
    {
     "data": {
      "text/plain": [
       "Private          2925\n",
       "Self-employed     819\n",
       "children          687\n",
       "Govt_job          657\n",
       "Never_worked       22\n",
       "Name: work_type, dtype: int64"
      ]
     },
     "execution_count": 46,
     "metadata": {},
     "output_type": "execute_result"
    }
   ],
   "source": [
    "df['work_type'].value_counts()"
   ]
  },
  {
   "cell_type": "code",
   "execution_count": 47,
   "id": "5d14da09",
   "metadata": {},
   "outputs": [],
   "source": [
    "df['work_cat']  = df['work_type'].replace({'Never_worked':0,'children':1,'Govt_job':2,'Self-employed':3,\n",
    "                                          'Private':4})"
   ]
  },
  {
   "cell_type": "code",
   "execution_count": 48,
   "id": "1d100cd3",
   "metadata": {
    "scrolled": true
   },
   "outputs": [
    {
     "data": {
      "text/html": [
       "<div>\n",
       "<style scoped>\n",
       "    .dataframe tbody tr th:only-of-type {\n",
       "        vertical-align: middle;\n",
       "    }\n",
       "\n",
       "    .dataframe tbody tr th {\n",
       "        vertical-align: top;\n",
       "    }\n",
       "\n",
       "    .dataframe thead th {\n",
       "        text-align: right;\n",
       "    }\n",
       "</style>\n",
       "<table border=\"1\" class=\"dataframe\">\n",
       "  <thead>\n",
       "    <tr style=\"text-align: right;\">\n",
       "      <th></th>\n",
       "      <th>work_cat</th>\n",
       "      <th>work_type</th>\n",
       "    </tr>\n",
       "  </thead>\n",
       "  <tbody>\n",
       "    <tr>\n",
       "      <th>0</th>\n",
       "      <td>4</td>\n",
       "      <td>Private</td>\n",
       "    </tr>\n",
       "    <tr>\n",
       "      <th>1</th>\n",
       "      <td>3</td>\n",
       "      <td>Self-employed</td>\n",
       "    </tr>\n",
       "    <tr>\n",
       "      <th>2</th>\n",
       "      <td>4</td>\n",
       "      <td>Private</td>\n",
       "    </tr>\n",
       "    <tr>\n",
       "      <th>3</th>\n",
       "      <td>4</td>\n",
       "      <td>Private</td>\n",
       "    </tr>\n",
       "    <tr>\n",
       "      <th>4</th>\n",
       "      <td>3</td>\n",
       "      <td>Self-employed</td>\n",
       "    </tr>\n",
       "    <tr>\n",
       "      <th>5</th>\n",
       "      <td>4</td>\n",
       "      <td>Private</td>\n",
       "    </tr>\n",
       "    <tr>\n",
       "      <th>6</th>\n",
       "      <td>4</td>\n",
       "      <td>Private</td>\n",
       "    </tr>\n",
       "    <tr>\n",
       "      <th>7</th>\n",
       "      <td>4</td>\n",
       "      <td>Private</td>\n",
       "    </tr>\n",
       "    <tr>\n",
       "      <th>8</th>\n",
       "      <td>4</td>\n",
       "      <td>Private</td>\n",
       "    </tr>\n",
       "    <tr>\n",
       "      <th>9</th>\n",
       "      <td>4</td>\n",
       "      <td>Private</td>\n",
       "    </tr>\n",
       "    <tr>\n",
       "      <th>10</th>\n",
       "      <td>4</td>\n",
       "      <td>Private</td>\n",
       "    </tr>\n",
       "    <tr>\n",
       "      <th>11</th>\n",
       "      <td>2</td>\n",
       "      <td>Govt_job</td>\n",
       "    </tr>\n",
       "    <tr>\n",
       "      <th>12</th>\n",
       "      <td>4</td>\n",
       "      <td>Private</td>\n",
       "    </tr>\n",
       "    <tr>\n",
       "      <th>13</th>\n",
       "      <td>4</td>\n",
       "      <td>Private</td>\n",
       "    </tr>\n",
       "    <tr>\n",
       "      <th>14</th>\n",
       "      <td>4</td>\n",
       "      <td>Private</td>\n",
       "    </tr>\n",
       "    <tr>\n",
       "      <th>15</th>\n",
       "      <td>3</td>\n",
       "      <td>Self-employed</td>\n",
       "    </tr>\n",
       "    <tr>\n",
       "      <th>16</th>\n",
       "      <td>4</td>\n",
       "      <td>Private</td>\n",
       "    </tr>\n",
       "    <tr>\n",
       "      <th>17</th>\n",
       "      <td>4</td>\n",
       "      <td>Private</td>\n",
       "    </tr>\n",
       "    <tr>\n",
       "      <th>18</th>\n",
       "      <td>4</td>\n",
       "      <td>Private</td>\n",
       "    </tr>\n",
       "    <tr>\n",
       "      <th>19</th>\n",
       "      <td>2</td>\n",
       "      <td>Govt_job</td>\n",
       "    </tr>\n",
       "    <tr>\n",
       "      <th>20</th>\n",
       "      <td>2</td>\n",
       "      <td>Govt_job</td>\n",
       "    </tr>\n",
       "    <tr>\n",
       "      <th>21</th>\n",
       "      <td>3</td>\n",
       "      <td>Self-employed</td>\n",
       "    </tr>\n",
       "    <tr>\n",
       "      <th>22</th>\n",
       "      <td>3</td>\n",
       "      <td>Self-employed</td>\n",
       "    </tr>\n",
       "    <tr>\n",
       "      <th>23</th>\n",
       "      <td>4</td>\n",
       "      <td>Private</td>\n",
       "    </tr>\n",
       "    <tr>\n",
       "      <th>24</th>\n",
       "      <td>4</td>\n",
       "      <td>Private</td>\n",
       "    </tr>\n",
       "    <tr>\n",
       "      <th>25</th>\n",
       "      <td>3</td>\n",
       "      <td>Self-employed</td>\n",
       "    </tr>\n",
       "    <tr>\n",
       "      <th>26</th>\n",
       "      <td>4</td>\n",
       "      <td>Private</td>\n",
       "    </tr>\n",
       "    <tr>\n",
       "      <th>27</th>\n",
       "      <td>4</td>\n",
       "      <td>Private</td>\n",
       "    </tr>\n",
       "    <tr>\n",
       "      <th>28</th>\n",
       "      <td>3</td>\n",
       "      <td>Self-employed</td>\n",
       "    </tr>\n",
       "    <tr>\n",
       "      <th>29</th>\n",
       "      <td>4</td>\n",
       "      <td>Private</td>\n",
       "    </tr>\n",
       "  </tbody>\n",
       "</table>\n",
       "</div>"
      ],
      "text/plain": [
       "    work_cat      work_type\n",
       "0          4        Private\n",
       "1          3  Self-employed\n",
       "2          4        Private\n",
       "3          4        Private\n",
       "4          3  Self-employed\n",
       "5          4        Private\n",
       "6          4        Private\n",
       "7          4        Private\n",
       "8          4        Private\n",
       "9          4        Private\n",
       "10         4        Private\n",
       "11         2       Govt_job\n",
       "12         4        Private\n",
       "13         4        Private\n",
       "14         4        Private\n",
       "15         3  Self-employed\n",
       "16         4        Private\n",
       "17         4        Private\n",
       "18         4        Private\n",
       "19         2       Govt_job\n",
       "20         2       Govt_job\n",
       "21         3  Self-employed\n",
       "22         3  Self-employed\n",
       "23         4        Private\n",
       "24         4        Private\n",
       "25         3  Self-employed\n",
       "26         4        Private\n",
       "27         4        Private\n",
       "28         3  Self-employed\n",
       "29         4        Private"
      ]
     },
     "execution_count": 48,
     "metadata": {},
     "output_type": "execute_result"
    }
   ],
   "source": [
    "df[['work_cat','work_type']].head(30)"
   ]
  },
  {
   "cell_type": "markdown",
   "id": "c62d8a12",
   "metadata": {},
   "source": [
    "I  assigned a number to the different work types to create a numerical field that I can use to in my linear regression model. \n",
    "\n",
    "Never_worked : 0 \n",
    "Children : 1 \n",
    "Govt_job :2\n",
    "Self-employed : 3\n",
    "Private : 4"
   ]
  },
  {
   "cell_type": "code",
   "execution_count": 103,
   "id": "8127f703",
   "metadata": {},
   "outputs": [],
   "source": [
    "df['gender_num'] = df['gender'].replace({'Male':1,'Female':0})"
   ]
  },
  {
   "cell_type": "markdown",
   "id": "8cfd2067",
   "metadata": {},
   "source": [
    "I assigned a number to Male and Female to use the gender data field in my logistic regression model\n",
    "\n",
    "Male: 1 \n",
    "Female: 0"
   ]
  },
  {
   "cell_type": "markdown",
   "id": "ce0d8a35",
   "metadata": {},
   "source": [
    "I assigned a number to Individuals who were married at some point in their lives. \n",
    "\n",
    "Yes: 1 \n",
    "No: 0"
   ]
  },
  {
   "cell_type": "code",
   "execution_count": 50,
   "id": "26e94c53",
   "metadata": {},
   "outputs": [],
   "source": [
    "df['ever_married_num'] = df['ever_married'].replace({'Yes':1,'No':0})"
   ]
  },
  {
   "cell_type": "code",
   "execution_count": 104,
   "id": "ae626137",
   "metadata": {},
   "outputs": [],
   "source": [
    "df_new=df.drop(['id','gender','ever_married','work_type','Residence_type','smoking_status','log_bmi','log_avg_glucose_level'],axis=1)"
   ]
  },
  {
   "cell_type": "code",
   "execution_count": 52,
   "id": "5e68b516",
   "metadata": {},
   "outputs": [],
   "source": [
    "df_new=df_new[df_new['gender_num']!='Other']"
   ]
  },
  {
   "cell_type": "code",
   "execution_count": 53,
   "id": "d3242663",
   "metadata": {},
   "outputs": [
    {
     "data": {
      "text/html": [
       "<div>\n",
       "<style scoped>\n",
       "    .dataframe tbody tr th:only-of-type {\n",
       "        vertical-align: middle;\n",
       "    }\n",
       "\n",
       "    .dataframe tbody tr th {\n",
       "        vertical-align: top;\n",
       "    }\n",
       "\n",
       "    .dataframe thead th {\n",
       "        text-align: right;\n",
       "    }\n",
       "</style>\n",
       "<table border=\"1\" class=\"dataframe\">\n",
       "  <thead>\n",
       "    <tr style=\"text-align: right;\">\n",
       "      <th></th>\n",
       "      <th>age</th>\n",
       "      <th>hypertension</th>\n",
       "      <th>heart_disease</th>\n",
       "      <th>avg_glucose_level</th>\n",
       "      <th>bmi</th>\n",
       "      <th>stroke</th>\n",
       "      <th>work_cat</th>\n",
       "      <th>gender_num</th>\n",
       "      <th>ever_married_num</th>\n",
       "    </tr>\n",
       "  </thead>\n",
       "  <tbody>\n",
       "    <tr>\n",
       "      <th>0</th>\n",
       "      <td>67</td>\n",
       "      <td>0</td>\n",
       "      <td>1</td>\n",
       "      <td>228.69</td>\n",
       "      <td>36.6</td>\n",
       "      <td>1</td>\n",
       "      <td>4</td>\n",
       "      <td>1</td>\n",
       "      <td>1</td>\n",
       "    </tr>\n",
       "    <tr>\n",
       "      <th>1</th>\n",
       "      <td>61</td>\n",
       "      <td>0</td>\n",
       "      <td>0</td>\n",
       "      <td>202.21</td>\n",
       "      <td>45.0</td>\n",
       "      <td>1</td>\n",
       "      <td>3</td>\n",
       "      <td>0</td>\n",
       "      <td>1</td>\n",
       "    </tr>\n",
       "    <tr>\n",
       "      <th>2</th>\n",
       "      <td>80</td>\n",
       "      <td>0</td>\n",
       "      <td>1</td>\n",
       "      <td>105.92</td>\n",
       "      <td>32.5</td>\n",
       "      <td>1</td>\n",
       "      <td>4</td>\n",
       "      <td>1</td>\n",
       "      <td>1</td>\n",
       "    </tr>\n",
       "    <tr>\n",
       "      <th>3</th>\n",
       "      <td>49</td>\n",
       "      <td>0</td>\n",
       "      <td>0</td>\n",
       "      <td>171.23</td>\n",
       "      <td>34.4</td>\n",
       "      <td>1</td>\n",
       "      <td>4</td>\n",
       "      <td>0</td>\n",
       "      <td>1</td>\n",
       "    </tr>\n",
       "    <tr>\n",
       "      <th>4</th>\n",
       "      <td>79</td>\n",
       "      <td>1</td>\n",
       "      <td>0</td>\n",
       "      <td>174.12</td>\n",
       "      <td>24.0</td>\n",
       "      <td>1</td>\n",
       "      <td>3</td>\n",
       "      <td>0</td>\n",
       "      <td>1</td>\n",
       "    </tr>\n",
       "    <tr>\n",
       "      <th>...</th>\n",
       "      <td>...</td>\n",
       "      <td>...</td>\n",
       "      <td>...</td>\n",
       "      <td>...</td>\n",
       "      <td>...</td>\n",
       "      <td>...</td>\n",
       "      <td>...</td>\n",
       "      <td>...</td>\n",
       "      <td>...</td>\n",
       "    </tr>\n",
       "    <tr>\n",
       "      <th>5105</th>\n",
       "      <td>80</td>\n",
       "      <td>1</td>\n",
       "      <td>0</td>\n",
       "      <td>83.75</td>\n",
       "      <td>45.0</td>\n",
       "      <td>0</td>\n",
       "      <td>4</td>\n",
       "      <td>0</td>\n",
       "      <td>1</td>\n",
       "    </tr>\n",
       "    <tr>\n",
       "      <th>5106</th>\n",
       "      <td>81</td>\n",
       "      <td>0</td>\n",
       "      <td>0</td>\n",
       "      <td>125.20</td>\n",
       "      <td>40.0</td>\n",
       "      <td>0</td>\n",
       "      <td>3</td>\n",
       "      <td>0</td>\n",
       "      <td>1</td>\n",
       "    </tr>\n",
       "    <tr>\n",
       "      <th>5107</th>\n",
       "      <td>35</td>\n",
       "      <td>0</td>\n",
       "      <td>0</td>\n",
       "      <td>82.99</td>\n",
       "      <td>30.6</td>\n",
       "      <td>0</td>\n",
       "      <td>3</td>\n",
       "      <td>0</td>\n",
       "      <td>1</td>\n",
       "    </tr>\n",
       "    <tr>\n",
       "      <th>5108</th>\n",
       "      <td>51</td>\n",
       "      <td>0</td>\n",
       "      <td>0</td>\n",
       "      <td>166.29</td>\n",
       "      <td>25.6</td>\n",
       "      <td>0</td>\n",
       "      <td>4</td>\n",
       "      <td>1</td>\n",
       "      <td>1</td>\n",
       "    </tr>\n",
       "    <tr>\n",
       "      <th>5109</th>\n",
       "      <td>44</td>\n",
       "      <td>0</td>\n",
       "      <td>0</td>\n",
       "      <td>85.28</td>\n",
       "      <td>26.2</td>\n",
       "      <td>0</td>\n",
       "      <td>2</td>\n",
       "      <td>0</td>\n",
       "      <td>1</td>\n",
       "    </tr>\n",
       "  </tbody>\n",
       "</table>\n",
       "<p>5109 rows × 9 columns</p>\n",
       "</div>"
      ],
      "text/plain": [
       "      age  hypertension  heart_disease  avg_glucose_level   bmi  stroke  \\\n",
       "0      67             0              1             228.69  36.6       1   \n",
       "1      61             0              0             202.21  45.0       1   \n",
       "2      80             0              1             105.92  32.5       1   \n",
       "3      49             0              0             171.23  34.4       1   \n",
       "4      79             1              0             174.12  24.0       1   \n",
       "...   ...           ...            ...                ...   ...     ...   \n",
       "5105   80             1              0              83.75  45.0       0   \n",
       "5106   81             0              0             125.20  40.0       0   \n",
       "5107   35             0              0              82.99  30.6       0   \n",
       "5108   51             0              0             166.29  25.6       0   \n",
       "5109   44             0              0              85.28  26.2       0   \n",
       "\n",
       "      work_cat gender_num  ever_married_num  \n",
       "0            4          1                 1  \n",
       "1            3          0                 1  \n",
       "2            4          1                 1  \n",
       "3            4          0                 1  \n",
       "4            3          0                 1  \n",
       "...        ...        ...               ...  \n",
       "5105         4          0                 1  \n",
       "5106         3          0                 1  \n",
       "5107         3          0                 1  \n",
       "5108         4          1                 1  \n",
       "5109         2          0                 1  \n",
       "\n",
       "[5109 rows x 9 columns]"
      ]
     },
     "execution_count": 53,
     "metadata": {},
     "output_type": "execute_result"
    }
   ],
   "source": [
    "df_new"
   ]
  },
  {
   "cell_type": "markdown",
   "id": "2e2c58b4",
   "metadata": {},
   "source": [
    "# Build a Logistic Regression Model "
   ]
  },
  {
   "cell_type": "code",
   "execution_count": 54,
   "id": "dfe0555f",
   "metadata": {},
   "outputs": [],
   "source": [
    "from sklearn.linear_model import LogisticRegression\n",
    "from sklearn.model_selection import train_test_split\n",
    "from sklearn.metrics import classification_report"
   ]
  },
  {
   "cell_type": "code",
   "execution_count": 55,
   "id": "509b55c3",
   "metadata": {},
   "outputs": [],
   "source": [
    "X = df_new.drop('stroke',axis=1)\n",
    "Y = df_new['stroke']"
   ]
  },
  {
   "cell_type": "code",
   "execution_count": 56,
   "id": "c7953a8b",
   "metadata": {},
   "outputs": [],
   "source": [
    "X_train,X_test,y_train,y_test = train_test_split(X,Y,test_size=0.2,random_state=42)"
   ]
  },
  {
   "cell_type": "code",
   "execution_count": 57,
   "id": "487eedfa",
   "metadata": {},
   "outputs": [],
   "source": [
    "logreg = LogisticRegression()"
   ]
  },
  {
   "cell_type": "code",
   "execution_count": 58,
   "id": "6283e6e6",
   "metadata": {},
   "outputs": [
    {
     "name": "stderr",
     "output_type": "stream",
     "text": [
      "/opt/anaconda3/lib/python3.9/site-packages/sklearn/linear_model/_logistic.py:460: ConvergenceWarning: lbfgs failed to converge (status=1):\n",
      "STOP: TOTAL NO. of ITERATIONS REACHED LIMIT.\n",
      "\n",
      "Increase the number of iterations (max_iter) or scale the data as shown in:\n",
      "    https://scikit-learn.org/stable/modules/preprocessing.html\n",
      "Please also refer to the documentation for alternative solver options:\n",
      "    https://scikit-learn.org/stable/modules/linear_model.html#logistic-regression\n",
      "  n_iter_i = _check_optimize_result(\n"
     ]
    },
    {
     "data": {
      "text/html": [
       "<style>#sk-container-id-1 {color: black;}#sk-container-id-1 pre{padding: 0;}#sk-container-id-1 div.sk-toggleable {background-color: white;}#sk-container-id-1 label.sk-toggleable__label {cursor: pointer;display: block;width: 100%;margin-bottom: 0;padding: 0.3em;box-sizing: border-box;text-align: center;}#sk-container-id-1 label.sk-toggleable__label-arrow:before {content: \"▸\";float: left;margin-right: 0.25em;color: #696969;}#sk-container-id-1 label.sk-toggleable__label-arrow:hover:before {color: black;}#sk-container-id-1 div.sk-estimator:hover label.sk-toggleable__label-arrow:before {color: black;}#sk-container-id-1 div.sk-toggleable__content {max-height: 0;max-width: 0;overflow: hidden;text-align: left;background-color: #f0f8ff;}#sk-container-id-1 div.sk-toggleable__content pre {margin: 0.2em;color: black;border-radius: 0.25em;background-color: #f0f8ff;}#sk-container-id-1 input.sk-toggleable__control:checked~div.sk-toggleable__content {max-height: 200px;max-width: 100%;overflow: auto;}#sk-container-id-1 input.sk-toggleable__control:checked~label.sk-toggleable__label-arrow:before {content: \"▾\";}#sk-container-id-1 div.sk-estimator input.sk-toggleable__control:checked~label.sk-toggleable__label {background-color: #d4ebff;}#sk-container-id-1 div.sk-label input.sk-toggleable__control:checked~label.sk-toggleable__label {background-color: #d4ebff;}#sk-container-id-1 input.sk-hidden--visually {border: 0;clip: rect(1px 1px 1px 1px);clip: rect(1px, 1px, 1px, 1px);height: 1px;margin: -1px;overflow: hidden;padding: 0;position: absolute;width: 1px;}#sk-container-id-1 div.sk-estimator {font-family: monospace;background-color: #f0f8ff;border: 1px dotted black;border-radius: 0.25em;box-sizing: border-box;margin-bottom: 0.5em;}#sk-container-id-1 div.sk-estimator:hover {background-color: #d4ebff;}#sk-container-id-1 div.sk-parallel-item::after {content: \"\";width: 100%;border-bottom: 1px solid gray;flex-grow: 1;}#sk-container-id-1 div.sk-label:hover label.sk-toggleable__label {background-color: #d4ebff;}#sk-container-id-1 div.sk-serial::before {content: \"\";position: absolute;border-left: 1px solid gray;box-sizing: border-box;top: 0;bottom: 0;left: 50%;z-index: 0;}#sk-container-id-1 div.sk-serial {display: flex;flex-direction: column;align-items: center;background-color: white;padding-right: 0.2em;padding-left: 0.2em;position: relative;}#sk-container-id-1 div.sk-item {position: relative;z-index: 1;}#sk-container-id-1 div.sk-parallel {display: flex;align-items: stretch;justify-content: center;background-color: white;position: relative;}#sk-container-id-1 div.sk-item::before, #sk-container-id-1 div.sk-parallel-item::before {content: \"\";position: absolute;border-left: 1px solid gray;box-sizing: border-box;top: 0;bottom: 0;left: 50%;z-index: -1;}#sk-container-id-1 div.sk-parallel-item {display: flex;flex-direction: column;z-index: 1;position: relative;background-color: white;}#sk-container-id-1 div.sk-parallel-item:first-child::after {align-self: flex-end;width: 50%;}#sk-container-id-1 div.sk-parallel-item:last-child::after {align-self: flex-start;width: 50%;}#sk-container-id-1 div.sk-parallel-item:only-child::after {width: 0;}#sk-container-id-1 div.sk-dashed-wrapped {border: 1px dashed gray;margin: 0 0.4em 0.5em 0.4em;box-sizing: border-box;padding-bottom: 0.4em;background-color: white;}#sk-container-id-1 div.sk-label label {font-family: monospace;font-weight: bold;display: inline-block;line-height: 1.2em;}#sk-container-id-1 div.sk-label-container {text-align: center;}#sk-container-id-1 div.sk-container {/* jupyter's `normalize.less` sets `[hidden] { display: none; }` but bootstrap.min.css set `[hidden] { display: none !important; }` so we also need the `!important` here to be able to override the default hidden behavior on the sphinx rendered scikit-learn.org. See: https://github.com/scikit-learn/scikit-learn/issues/21755 */display: inline-block !important;position: relative;}#sk-container-id-1 div.sk-text-repr-fallback {display: none;}</style><div id=\"sk-container-id-1\" class=\"sk-top-container\"><div class=\"sk-text-repr-fallback\"><pre>LogisticRegression()</pre><b>In a Jupyter environment, please rerun this cell to show the HTML representation or trust the notebook. <br />On GitHub, the HTML representation is unable to render, please try loading this page with nbviewer.org.</b></div><div class=\"sk-container\" hidden><div class=\"sk-item\"><div class=\"sk-estimator sk-toggleable\"><input class=\"sk-toggleable__control sk-hidden--visually\" id=\"sk-estimator-id-1\" type=\"checkbox\" checked><label for=\"sk-estimator-id-1\" class=\"sk-toggleable__label sk-toggleable__label-arrow\">LogisticRegression</label><div class=\"sk-toggleable__content\"><pre>LogisticRegression()</pre></div></div></div></div></div>"
      ],
      "text/plain": [
       "LogisticRegression()"
      ]
     },
     "execution_count": 58,
     "metadata": {},
     "output_type": "execute_result"
    }
   ],
   "source": [
    "logreg.fit(X_train,y_train)"
   ]
  },
  {
   "cell_type": "code",
   "execution_count": 59,
   "id": "2b94dba5",
   "metadata": {},
   "outputs": [
    {
     "data": {
      "text/plain": [
       "array([0.00604748, 0.00824807, 0.02676909, ..., 0.02431545, 0.04887215,\n",
       "       0.19665227])"
      ]
     },
     "execution_count": 59,
     "metadata": {},
     "output_type": "execute_result"
    }
   ],
   "source": [
    "y_pred_prob = logreg.predict_proba(X_test)[:, 1]\n",
    "y_pred_prob "
   ]
  },
  {
   "cell_type": "code",
   "execution_count": 60,
   "id": "19b758a2",
   "metadata": {},
   "outputs": [],
   "source": [
    "y_pred = (y_pred_prob > 0.5).astype(int) "
   ]
  },
  {
   "cell_type": "code",
   "execution_count": 61,
   "id": "dde2e6dd",
   "metadata": {},
   "outputs": [
    {
     "name": "stdout",
     "output_type": "stream",
     "text": [
      "              precision    recall  f1-score   support\n",
      "\n",
      "           0       0.94      1.00      0.97       960\n",
      "           1       0.00      0.00      0.00        62\n",
      "\n",
      "    accuracy                           0.94      1022\n",
      "   macro avg       0.47      0.50      0.48      1022\n",
      "weighted avg       0.88      0.94      0.91      1022\n",
      "\n"
     ]
    },
    {
     "name": "stderr",
     "output_type": "stream",
     "text": [
      "/opt/anaconda3/lib/python3.9/site-packages/sklearn/metrics/_classification.py:1469: UndefinedMetricWarning: Precision and F-score are ill-defined and being set to 0.0 in labels with no predicted samples. Use `zero_division` parameter to control this behavior.\n",
      "  _warn_prf(average, modifier, msg_start, len(result))\n",
      "/opt/anaconda3/lib/python3.9/site-packages/sklearn/metrics/_classification.py:1469: UndefinedMetricWarning: Precision and F-score are ill-defined and being set to 0.0 in labels with no predicted samples. Use `zero_division` parameter to control this behavior.\n",
      "  _warn_prf(average, modifier, msg_start, len(result))\n",
      "/opt/anaconda3/lib/python3.9/site-packages/sklearn/metrics/_classification.py:1469: UndefinedMetricWarning: Precision and F-score are ill-defined and being set to 0.0 in labels with no predicted samples. Use `zero_division` parameter to control this behavior.\n",
      "  _warn_prf(average, modifier, msg_start, len(result))\n"
     ]
    }
   ],
   "source": [
    "print(classification_report(y_test, y_pred)) "
   ]
  },
  {
   "cell_type": "markdown",
   "id": "09eb8bad",
   "metadata": {},
   "source": [
    "You have successfully created a logistic regression model to predict the probability of a stroke. In the dataset, out of 5,109 individuals, only 249 individuals had a stroke, which accounts for approximately 5% of the dataset. \n",
    "\n",
    "Your logistic regression model demonstrated high accuracy by correctly predicting that an individual did not experience a stroke 94% of the time. The recall value of 1.00 indicates that all samples from the actual class 0 (no stroke) were correctly identified as such. \n",
    "\n",
    "Additionally, you calculated the F1-score, which is the harmonic mean of precision and recall. The F1-score of 0.97 indicates a high overall performance for class 0, considering both precision and recall. This suggests that your logistic regression model is performing well in identifying individuals who did not experience a stroke.\n",
    "\n",
    "Overall, these evaluation metrics demonstrate the effectiveness of your logistic regression model in predicting the probability of a stroke and accurately classifying individuals without a stroke."
   ]
  },
  {
   "cell_type": "markdown",
   "id": "968f4f65",
   "metadata": {},
   "source": [
    "\n",
    "\n",
    "The logistic regression model had poor performance in predicting strokes. A precision value of 0 indicates that the model did not make any correct positive predictions for class 1 (stroke). Similarly, a recall value of 0 means that the model failed to correctly identify any of the actual positive cases of stroke.\n",
    "\n",
    "These results suggest that the dataset is imbalanced and not representative of both classes, which hinders meaningful and accurate evaluation of the model. It is crucial to have a balanced and representative dataset to ensure reliable assessments of model performance."
   ]
  },
  {
   "cell_type": "code",
   "execution_count": null,
   "id": "df264ad7",
   "metadata": {},
   "outputs": [],
   "source": []
  },
  {
   "cell_type": "code",
   "execution_count": null,
   "id": "25683462",
   "metadata": {},
   "outputs": [],
   "source": []
  },
  {
   "cell_type": "code",
   "execution_count": null,
   "id": "0490b6b3",
   "metadata": {},
   "outputs": [],
   "source": []
  },
  {
   "cell_type": "code",
   "execution_count": null,
   "id": "f94da402",
   "metadata": {},
   "outputs": [],
   "source": []
  }
 ],
 "metadata": {
  "kernelspec": {
   "display_name": "Python 3 (ipykernel)",
   "language": "python",
   "name": "python3"
  },
  "language_info": {
   "codemirror_mode": {
    "name": "ipython",
    "version": 3
   },
   "file_extension": ".py",
   "mimetype": "text/x-python",
   "name": "python",
   "nbconvert_exporter": "python",
   "pygments_lexer": "ipython3",
   "version": "3.9.13"
  }
 },
 "nbformat": 4,
 "nbformat_minor": 5
}
